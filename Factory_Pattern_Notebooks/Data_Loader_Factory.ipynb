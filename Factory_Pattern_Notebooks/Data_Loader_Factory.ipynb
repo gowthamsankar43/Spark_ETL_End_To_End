{
 "cells": [
  {
   "cell_type": "code",
   "execution_count": 0,
   "metadata": {
    "application/vnd.databricks.v1+cell": {
     "cellMetadata": {
      "byteLimit": 2048000,
      "rowLimit": 10000
     },
     "inputWidgets": {},
     "nuid": "e51a1119-e265-4209-8f7d-eecbdbf676df",
     "showTitle": false,
     "title": ""
    }
   },
   "outputs": [],
   "source": [
    "class DataLoad:\n",
    "    \n",
    "    def __init__(self, df, method, path, params):\n",
    "        self.df = df\n",
    "        self.path = path\n",
    "        self.method = method\n",
    "        self.params = params\n",
    "\n",
    "    def load_df(self):\n",
    "\n",
    "        raise ValueError(\"Not Implemented\")\n",
    "\n",
    "class DataLoadtoInternalFS(DataLoad):\n",
    "\n",
    "\n",
    "    def load_df(self):\n",
    "        self.df.write.mode(self.method).save(self.path)\n",
    "        print(f\"Data Stored in{self.path}\")\n",
    "\n",
    "\n",
    "class DataLoadtoInternalFSWithPartition(DataLoad):\n",
    "\n",
    "    def load_df(self):\n",
    "        partitionByCols =self.params.get(\"partitionbyCol\")\n",
    "        self.df.write.format(\"delta\").mode(self.method).partitionBy(*partitionByCols).save(self.path)\n",
    "        print(f\"Data Stored in{self.path}\")\n",
    "\n",
    "def get_source_data(loadtype, df, method, path, params = None):\n",
    "\n",
    "    if loadtype == \"internalFs\":\n",
    "        return DataLoadtoInternalFS(df, method, path, params)\n",
    "    elif loadtype == \"internalFsWithPartition\":\n",
    "        return DataLoadtoInternalFSWithPartition(df, method, path, params)\n",
    "    else:\n",
    "        return ValueError(\"Not Implemented\")\n",
    "\n"
   ]
  }
 ],
 "metadata": {
  "application/vnd.databricks.v1+notebook": {
   "dashboards": [],
   "environmentMetadata": null,
   "language": "python",
   "notebookMetadata": {
    "pythonIndentUnit": 4
   },
   "notebookName": "Data_Loader_Factory",
   "widgets": {}
  }
 },
 "nbformat": 4,
 "nbformat_minor": 0
}

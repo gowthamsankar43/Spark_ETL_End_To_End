{
 "cells": [
  {
   "cell_type": "code",
   "execution_count": 0,
   "metadata": {
    "application/vnd.databricks.v1+cell": {
     "cellMetadata": {
      "byteLimit": 2048000,
      "rowLimit": 10000
     },
     "inputWidgets": {},
     "nuid": "f49211a4-6957-4839-b08e-a8f26df49207",
     "showTitle": false,
     "title": ""
    }
   },
   "outputs": [],
   "source": [
    "class DataExtractor:\n",
    "\n",
    "    def __init__(self, path):\n",
    "        self.path = path\n",
    "        pass\n",
    "\n",
    "    def get_data_frame(self):\n",
    "        \n",
    "        raise ValueError(\"Not Implemented\")\n",
    "\n",
    "class DataSourceCSV(DataExtractor):\n",
    "\n",
    "    def get_data_frame(self):\n",
    "        return(\n",
    "            spark.read.format(\"csv\").option(\"header\", True).load(self.path)\n",
    "        )\n",
    "\n",
    "class DataSourceDelta(DataExtractor):\n",
    "\n",
    "    def get_data_frame(self):\n",
    "        table_name = self.path\n",
    "        return(\n",
    "            spark.read.table(table_name)\n",
    "        )\n",
    "class DataSourceParquet(DataExtractor):\n",
    "\n",
    "    def get_data_frame(self):\n",
    "        return(\n",
    "            spark.read.format(\"parquet\").load(self.path)\n",
    "        )\n",
    "\n",
    "def get_data_source(datatype,filepath):\n",
    "    \n",
    "    if datatype == \"csv\":\n",
    "        return DataSourceCSV(filepath)\n",
    "    elif datatype == \"delta\":\n",
    "        return DataSourceDelta(filepath)\n",
    "    elif datatype == \"parquet\":\n",
    "        return DataSourceParquet(filepath)\n",
    "    else:\n",
    "        raise ValueError(f\"Not Implemented for {datatype}\")\n",
    "\n",
    "\n"
   ]
  }
 ],
 "metadata": {
  "application/vnd.databricks.v1+notebook": {
   "dashboards": [],
   "environmentMetadata": null,
   "language": "python",
   "notebookMetadata": {
    "pythonIndentUnit": 4
   },
   "notebookName": "Data_Extractor_Factory",
   "widgets": {}
  }
 },
 "nbformat": 4,
 "nbformat_minor": 0
}

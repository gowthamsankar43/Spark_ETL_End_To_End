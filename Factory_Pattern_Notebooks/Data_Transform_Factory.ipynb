{
 "cells": [
  {
   "cell_type": "code",
   "execution_count": 0,
   "metadata": {
    "application/vnd.databricks.v1+cell": {
     "cellMetadata": {},
     "inputWidgets": {},
     "nuid": "70e66dde-4686-4b7d-be32-d8433cdd49d2",
     "showTitle": false,
     "title": ""
    }
   },
   "outputs": [],
   "source": [
    "class Insights:\n",
    "\n",
    "    def __init__(self):\n",
    "        pass\n",
    "    def derivate(self,inputs):\n",
    "        pass\n",
    "\n",
    "class Derivate(Insights):\n",
    "\n",
    "    def derivate(self,inputs):\n",
    "\n",
    "        pizzaDf = inputs.get(\"pizzaDf\")\n",
    "        pizzaTypeDf = inputs.get(\"pizzaTypeDf\")\n",
    "        orderDetailsDf = inputs.get(\"orderDetailsDf\")\n",
    "        ordersDf = inputs.get(\"ordersDf\")\n",
    "\n",
    "        joinDFOne = orderDetailsDf\\\n",
    "            .join(broadcast(pizzaDf),\"pizza_id\")\\\n",
    "            .join(pizzaTypeDf,\"pizza_type_id\")\\\n",
    "            .join(ordersDf,\"order_id\")\n",
    "\n",
    "        joinDFOne.write.mode(\"overwrite\").format(\"delta\").saveAsTable(\"Testing_Scenarios\")\n",
    "        return joinDFOne\n",
    "    \n",
    "    def requirementOne(self,inputs):\n",
    "        pass\n",
    "    def requirementTwo(self,inputs):\n",
    "        pass\n",
    "    def requirementThree(self,inputs):\n",
    "        pass"
   ]
  }
 ],
 "metadata": {
  "application/vnd.databricks.v1+notebook": {
   "dashboards": [],
   "environmentMetadata": null,
   "language": "python",
   "notebookMetadata": {
    "pythonIndentUnit": 4
   },
   "notebookName": "Data_Transform_Factory",
   "widgets": {}
  }
 },
 "nbformat": 4,
 "nbformat_minor": 0
}

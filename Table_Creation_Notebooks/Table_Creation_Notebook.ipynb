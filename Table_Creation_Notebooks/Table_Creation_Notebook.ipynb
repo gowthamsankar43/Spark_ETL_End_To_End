{
 "cells": [
  {
   "cell_type": "code",
   "execution_count": 0,
   "metadata": {
    "application/vnd.databricks.v1+cell": {
     "cellMetadata": {
      "byteLimit": 2048000,
      "rowLimit": 10000
     },
     "inputWidgets": {},
     "nuid": "96816ed7-b08a-4ca3-abb9-f99880c3535d",
     "showTitle": false,
     "title": ""
    }
   },
   "outputs": [],
   "source": [
    "# Creating month wise partitioned parquet file from csv\n",
    "from pyspark.sql.functions import *\n",
    "from pyspark.sql.types import *\n",
    "\n",
    "schema = StructType([\n",
    "    StructField(\"order_id\", StringType(), True),\n",
    "    StructField(\"order_date\", DateType(), True),\n",
    "    StructField(\"order_time\", StringType(), True)])\n",
    "\n",
    "orders = spark.read.format(\"csv\").option(\"header\",True).schema(schema).load(\"abfss://datalake@enterprisedatalake12.dfs.core.windows.net/bronze/orders.csv\")\n",
    "orders_concat =orders.withColumn(\"Order_Hour\",substring(orders.order_time,0,2).cast(\"Integer\")).withColumn(\"Order_Month\", substring(orders.order_date,6,2).cast(\"Integer\"))\n",
    "orders_concat.write.format('parquet').partitionBy(\"Order_Month\").mode(\"overwrite\").save(\"abfss://datalake@enterprisedatalake12.dfs.core.windows.net/silver/orders\")\n",
    "\n"
   ]
  },
  {
   "cell_type": "code",
   "execution_count": 0,
   "metadata": {
    "application/vnd.databricks.v1+cell": {
     "cellMetadata": {
      "byteLimit": 2048000,
      "rowLimit": 10000
     },
     "inputWidgets": {},
     "nuid": "43f0bcef-b768-4bc3-9913-932c9c89a682",
     "showTitle": false,
     "title": ""
    }
   },
   "outputs": [],
   "source": [
    "# df = spark.read.format(\"parquet\").load(\"abfss://raw@enterprisedatalake12.dfs.core.windows.net/silver/orders\")\n",
    "# df.display()"
   ]
  },
  {
   "cell_type": "code",
   "execution_count": 0,
   "metadata": {
    "application/vnd.databricks.v1+cell": {
     "cellMetadata": {
      "byteLimit": 2048000,
      "rowLimit": 10000
     },
     "inputWidgets": {},
     "nuid": "1aa003ed-24ca-4c62-9fde-056529f181c4",
     "showTitle": false,
     "title": ""
    }
   },
   "outputs": [],
   "source": [
    "# df = spark.read.format(\"csv\").load(\"abfss://raw@enterprisedatalake12.dfs.core.windows.net/silver/orders\")\n",
    "# df.display()"
   ]
  },
  {
   "cell_type": "code",
   "execution_count": 0,
   "metadata": {
    "application/vnd.databricks.v1+cell": {
     "cellMetadata": {
      "byteLimit": 2048000,
      "rowLimit": 10000
     },
     "inputWidgets": {},
     "nuid": "6482be4c-f067-47c9-b0ac-35c938b94601",
     "showTitle": false,
     "title": ""
    }
   },
   "outputs": [],
   "source": [
    "# Create Permanent Delta table from CSV\n",
    "location = \"abfss://datalake@enterprisedatalake12.dfs.core.windows.net/bronze/order_details.csv\"\n",
    "file_type = \"csv\"\n",
    "\n",
    "infer_schema = \"True\"\n",
    "first_row_is_header = \"True\"\n",
    "delimiter = \",\"\n",
    "\n",
    "delta_df = spark.read.format(file_type) \\\n",
    "  .option(\"inferSchema\", infer_schema) \\\n",
    "  .option(\"header\", first_row_is_header) \\\n",
    "  .option(\"sep\", delimiter) \\\n",
    "  .load(location)\n",
    "\n",
    "\n",
    "permanent_table_name = \"order_details_delta\"\n",
    "if spark.catalog.tableExists(permanent_table_name):\n",
    "  delta_df.write.format(\"delta\").mode(\"overwrite\").saveAsTable(permanent_table_name)\n",
    "else:\n",
    "  pass"
   ]
  }
 ],
 "metadata": {
  "application/vnd.databricks.v1+notebook": {
   "dashboards": [],
   "environmentMetadata": null,
   "language": "python",
   "notebookMetadata": {
    "mostRecentlyExecutedCommandWithImplicitDF": {
     "commandId": 859626719170465,
     "dataframes": [
      "_sqldf"
     ]
    },
    "pythonIndentUnit": 4
   },
   "notebookName": "Table_Creation_Notebook",
   "widgets": {}
  }
 },
 "nbformat": 4,
 "nbformat_minor": 0
}

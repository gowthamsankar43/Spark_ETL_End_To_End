{
 "cells": [
  {
   "cell_type": "code",
   "execution_count": 0,
   "metadata": {
    "application/vnd.databricks.v1+cell": {
     "cellMetadata": {},
     "inputWidgets": {},
     "nuid": "eeebd3f7-60b8-460d-8b2e-44d6747e509d",
     "showTitle": false,
     "title": ""
    }
   },
   "outputs": [],
   "source": [
    "\n",
    "       # Verifying data with different months most sold chicken pizza's\n",
    "\n",
    "        test_df= spark.sql(\" select a.pizza_id, a.total_sales, a.order_mon from( select pizza_id ,count(order_id) as total_sales,month(order_date) as order_mon from pizzaOrderDtls  group by pizza_id,order_mon) a where  order_mon=12  order by total_sales desc \")\n",
    "\n",
    "        test_df.show()\n",
    "        "
   ]
  }
 ],
 "metadata": {
  "application/vnd.databricks.v1+notebook": {
   "dashboards": [],
   "environmentMetadata": null,
   "language": "python",
   "notebookMetadata": {
    "pythonIndentUnit": 4
   },
   "notebookName": "Data_Verification_Notebook",
   "widgets": {}
  }
 },
 "nbformat": 4,
 "nbformat_minor": 0
}

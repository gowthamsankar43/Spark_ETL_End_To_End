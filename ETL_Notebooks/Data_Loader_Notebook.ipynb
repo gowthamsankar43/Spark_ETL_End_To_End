{
 "cells": [
  {
   "cell_type": "code",
   "execution_count": 0,
   "metadata": {
    "application/vnd.databricks.v1+cell": {
     "cellMetadata": {
      "byteLimit": 2048000,
      "rowLimit": 10000
     },
     "inputWidgets": {},
     "nuid": "1e25026d-52dd-403f-b866-913f9b3b7fdd",
     "showTitle": false,
     "title": ""
    }
   },
   "outputs": [],
   "source": [
    "%run \"/Workspace/Users/cloud_learning123_outlook.com#ext#@cloudlearning123outlook.onmicrosoft.com/Spark_ETL_End_To_End/Factory_Pattern_Notebooks/Data_Loader_Factory\""
   ]
  },
  {
   "cell_type": "code",
   "execution_count": 0,
   "metadata": {
    "application/vnd.databricks.v1+cell": {
     "cellMetadata": {
      "byteLimit": 2048000,
      "rowLimit": 10000
     },
     "inputWidgets": {},
     "nuid": "f1dc322b-1d29-4542-b7ef-f2331a004a6f",
     "showTitle": false,
     "title": ""
    }
   },
   "outputs": [],
   "source": [
    "class Loader:\n",
    "\n",
    "    def __init__(self, transformingData):\n",
    "        self.transformingData =  transformingData\n",
    "   \n",
    "    def dataload(self):\n",
    "\n",
    "        pass\n",
    "\n",
    "class MonthwiseChickenCategoryLoad(Loader):\n",
    "        \n",
    "    def dataload(self):\n",
    "        params ={\n",
    "            \"partitionbyCol\":[\"Order_Month\"]\n",
    "        }\n",
    "        get_source_data(\n",
    "            loadtype = \"internalFsWithPartition\",\n",
    "            df = self.transformingData,\n",
    "            path = \"abfss://datalake@enterprisedatalake12.dfs.core.windows.net/gold/Most_Sold_Chicken_Pizza_Monthwise\",\n",
    "            method = \"overwrite\",\n",
    "            params = params\n",
    "        ).load_df()\n",
    "\n",
    "class MostSoldPizzaByCategoryOverall(Loader):\n",
    "        \n",
    "    def dataload(self):\n",
    "        params ={\n",
    "            'partitionbyCol' :[\"\"]\n",
    "        }\n",
    "        get_source_data(\n",
    "            loadtype = \"internalFs\",\n",
    "            df = self.transformingData,\n",
    "            path = \"abfss://datalake@enterprisedatalake12.dfs.core.windows.net/gold/Most_Sold_Pizza_CategoryWise\",\n",
    "            method = \"overwrite\"\n",
    "        ).load_df()\n",
    "        \n",
    "class MostSoldPizzaBetweenTimeMonthwise(Loader):\n",
    "        \n",
    "    def dataload(self):\n",
    "        params ={\n",
    "            'partitionbyCol' :[\"\"]\n",
    "        }\n",
    "        get_source_data(\n",
    "            loadtype = \"internalFs\",\n",
    "            df = self.transformingData,\n",
    "            path = \"abfss://datalake@enterprisedatalake12.dfs.core.windows.net/gold/Most_Sold_Pizza_Between_5pm_to_10pm\",\n",
    "            method = \"overwrite\"\n",
    "        ).load_df()\n",
    "\n",
    "class MostSoldLargePizzaMonthwise(Loader):\n",
    "    \n",
    "    def dataload(self):\n",
    "\n",
    "        get_source_data(\n",
    "            loadtype = \"internalFs\",\n",
    "            df = self.transformingData,\n",
    "            path = \"abfss://datalake@enterprisedatalake12.dfs.core.windows.net/gold/MostSoldLargePizzaMonthwise\",\n",
    "            method = \"overwrite\"\n",
    "        ).load_df()\n",
    "\n",
    "class TotalSmallPizzaSalesByCategory(Loader):\n",
    "\n",
    "    def dataload(self):\n",
    "        params='TotalSmallPizzaSalesByCategory'\n",
    "        \n",
    "        get_source_data(\n",
    "            loadtype =  \"internalFs\",\n",
    "            df  = self.transformingData,\n",
    "            path = \"abfss://datalake@enterprisedatalake12.dfs.core.windows.net/gold/TotalSmallPizzaSalesByCategory\",\n",
    "            method = \"overwrite\",\n",
    "            params = params\n",
    "        ).load_df()\n",
    "\n",
    "\n",
    "class TotalChickenPizzaSalesInMayMonth(Loader):\n",
    "    \n",
    "    def dataload(self):\n",
    "        \n",
    "        get_source_data(\n",
    "            loadtype = \"internalFs\",\n",
    "            df = self.transformingData,\n",
    "            path = \"abfss://datalake@enterprisedatalake12.dfs.core.windows.net/gold/TotalChickenPizzaSalesInMayMonth\",\n",
    "            method = \"overwrite\"\n",
    "        ).load_df()\n",
    "\n",
    "class MonthwisePizzaSalesOrderByMax(Loader):\n",
    "\n",
    "    def dataload(self):\n",
    "        params ={\n",
    "            \"partitionbyCol\":[\"Order_Month\"]\n",
    "        }\n",
    "        get_source_data(\n",
    "            loadtype = 'internalFsWithPartition',\n",
    "            df = self.transformingData,\n",
    "            path = \"abfss://datalake@enterprisedatalake12.dfs.core.windows.net/gold/MonthwisePizzaSales\",\n",
    "            method = \"overwrite\",\n",
    "            params = params\n",
    "        ).load_df()"
   ]
  }
 ],
 "metadata": {
  "application/vnd.databricks.v1+notebook": {
   "dashboards": [],
   "environmentMetadata": null,
   "language": "python",
   "notebookMetadata": {
    "pythonIndentUnit": 4
   },
   "notebookName": "Data_Loader_Notebook",
   "widgets": {}
  }
 },
 "nbformat": 4,
 "nbformat_minor": 0
}

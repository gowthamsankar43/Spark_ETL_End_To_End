{
 "cells": [
  {
   "cell_type": "code",
   "execution_count": 0,
   "metadata": {
    "application/vnd.databricks.v1+cell": {
     "cellMetadata": {
      "byteLimit": 2048000,
      "rowLimit": 10000
     },
     "inputWidgets": {},
     "nuid": "1e25026d-52dd-403f-b866-913f9b3b7fdd",
     "showTitle": false,
     "title": ""
    }
   },
   "outputs": [],
   "source": [
    "%run \"./Data_Loader_Factory\""
   ]
  },
  {
   "cell_type": "code",
   "execution_count": 0,
   "metadata": {
    "application/vnd.databricks.v1+cell": {
     "cellMetadata": {
      "byteLimit": 2048000,
      "rowLimit": 10000
     },
     "inputWidgets": {},
     "nuid": "f1dc322b-1d29-4542-b7ef-f2331a004a6f",
     "showTitle": false,
     "title": ""
    }
   },
   "outputs": [],
   "source": [
    "class Loader:\n",
    "\n",
    "    def __init__(self, transformingData):\n",
    "        self.transformingData =  transformingData\n",
    "   \n",
    "    def dataload(self):\n",
    "\n",
    "        pass\n",
    "\n",
    "class MonthwiseChickenCategoryLoad(Loader):\n",
    "        \n",
    "    def dataload(self):\n",
    "        params ={\n",
    "            \"partitionbyCol\":[\"Order_Month\"]\n",
    "        }\n",
    "        get_source_data(\n",
    "            loadtype = \"internalFsWithPartition\",\n",
    "            df = self.transformingData,\n",
    "            path = \"dbfs:/FileStore/tables/output/Pizza_Data_Analysis/Most_Sold_Chicken_Pizza_Monthwise\",\n",
    "            method = \"overwrite\",\n",
    "            params = params\n",
    "        ).load_df()\n",
    "\n",
    "class MostSoldPizzaByCategoryOverall(Loader):\n",
    "        \n",
    "    def dataload(self):\n",
    "        params ={\n",
    "            'partitionbyCol' :[\"\"]\n",
    "        }\n",
    "        get_source_data(\n",
    "            loadtype = \"internalFs\",\n",
    "            df = self.transformingData,\n",
    "            path = \"dbfs:/FileStore/tables/output/Pizza_Data_Analysis/Most_Sold_Pizza_CategoryWise\",\n",
    "            method = \"overwrite\"\n",
    "        ).load_df()\n",
    "        \n",
    "class MostSoldPizzaBetweenTimeMonthwise(Loader):\n",
    "        \n",
    "    def dataload(self):\n",
    "        params ={\n",
    "            'partitionbyCol' :[\"\"]\n",
    "        }\n",
    "        get_source_data(\n",
    "            loadtype = \"internalFs\",\n",
    "            df = self.transformingData,\n",
    "            path = \"dbfs:/FileStore/tables/output/Pizza_Data_Analysis/Most_Sold_Pizza_Between_5pm_to_10pm\",\n",
    "            method = \"overwrite\"\n",
    "        ).load_df()\n",
    "        \n",
    "        \n"
   ]
  }
 ],
 "metadata": {
  "application/vnd.databricks.v1+notebook": {
   "dashboards": [],
   "environmentMetadata": null,
   "language": "python",
   "notebookMetadata": {
    "pythonIndentUnit": 4
   },
   "notebookName": "Data_Loader_Notebook",
   "widgets": {}
  }
 },
 "nbformat": 4,
 "nbformat_minor": 0
}

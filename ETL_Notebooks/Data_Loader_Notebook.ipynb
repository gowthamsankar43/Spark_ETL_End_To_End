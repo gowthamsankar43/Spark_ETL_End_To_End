{
 "cells": [
  {
   "cell_type": "code",
   "execution_count": 0,
   "metadata": {
    "application/vnd.databricks.v1+cell": {
     "cellMetadata": {
      "byteLimit": 2048000,
      "rowLimit": 10000
     },
     "inputWidgets": {},
     "nuid": "cfeb9f46-b28c-4876-8474-1bc86671f743",
     "showTitle": false,
     "title": ""
    }
   },
   "outputs": [],
   "source": [
    "%run \"./Data_Loader_Factory\""
   ]
  },
  {
   "cell_type": "code",
   "execution_count": 0,
   "metadata": {
    "application/vnd.databricks.v1+cell": {
     "cellMetadata": {
      "byteLimit": 2048000,
      "rowLimit": 10000
     },
     "inputWidgets": {},
     "nuid": "f1dc322b-1d29-4542-b7ef-f2331a004a6f",
     "showTitle": false,
     "title": ""
    }
   },
   "outputs": [],
   "source": [
    "class Loader:\n",
    "\n",
    "    def __init__(self, transformedDf):\n",
    "        self.transformedDf = transformedDf\n",
    "\n",
    "    def dataload(self):\n",
    "        \n",
    "        pass\n",
    "\n",
    "class MonthwiseChickerCategoryLoad(Loader):\n",
    "\n",
    "    def dataload(self):\n",
    "        get_source_data(\n",
    "            loadtype = \"internalFs\",\n",
    "            df = self.transformedDf,\n",
    "            path = \"dbfs:/FileStore/tables/output/Pizza_Data_Analysis\",\n",
    "            method = \"overwrite\"\n",
    "        ).load_df()\n",
    "        \n"
   ]
  }
 ],
 "metadata": {
  "application/vnd.databricks.v1+notebook": {
   "dashboards": [],
   "environmentMetadata": null,
   "language": "python",
   "notebookMetadata": {
    "pythonIndentUnit": 4
   },
   "notebookName": "Data_Loader_Notebook",
   "widgets": {}
  }
 },
 "nbformat": 4,
 "nbformat_minor": 0
}

{
 "cells": [
  {
   "cell_type": "code",
   "execution_count": 0,
   "metadata": {
    "application/vnd.databricks.v1+cell": {
     "cellMetadata": {
      "byteLimit": 2048000,
      "rowLimit": 10000
     },
     "inputWidgets": {},
     "nuid": "45581e10-bd97-40ab-aac4-9bb83dfdc5be",
     "showTitle": false,
     "title": ""
    }
   },
   "outputs": [],
   "source": [
    "%run \"./Data_Transform_Factory\""
   ]
  },
  {
   "cell_type": "code",
   "execution_count": 0,
   "metadata": {
    "application/vnd.databricks.v1+cell": {
     "cellMetadata": {
      "byteLimit": 2048000,
      "rowLimit": 10000
     },
     "inputWidgets": {},
     "nuid": "9173a22d-8179-4973-a0ef-5dd12ff32d7d",
     "showTitle": false,
     "title": ""
    }
   },
   "outputs": [],
   "source": [
    "from pyspark.sql.functions import *\n",
    "from pyspark.sql.window import *\n",
    "\n",
    "class Transform():\n",
    "    \"\"\"\n",
    "    Most sold pizza in Chicken Category(Large, Medium, Small) month wise\n",
    "\n",
    "    \"\"\"\n",
    "    def requirementOne(self,inputs):\n",
    "        df = Derivate.derivate(self,inputs)\n",
    "\n",
    "        windowSpec = Window\\\n",
    "            .partitionBy(\"Order_Month\",\"name\")\\\n",
    "            .orderBy(desc(\"total_sales\"),\"size\")\n",
    "\n",
    "        scenarioOneDf =  df\\\n",
    "            .groupBy(\"name\",\"size\",\"Order_Month\",\"category\")\\\n",
    "            .agg(count(\"order_id\").alias(\"total_sales\"))\\\n",
    "            .withColumn(\"Rank\",rank().over(windowSpec))\\\n",
    "            .filter((col(\"category\")==\"Chicken\") & (col(\"Rank\") == 1))\\\n",
    "            .selectExpr(\"name as Pizza_Name\",\"size as Pizza_Size\",\"total_sales\",\"Order_Month\")\n",
    "\n",
    "        print(\"Most sold pizzas in every chicken pizzas month wise\")\n",
    "        scenarioOneDf.show()\n",
    "        return scenarioOneDf\n",
    "    \n",
    "    \"\"\"\n",
    "    Most sold pizza in every Category overall\n",
    "    \"\"\"\n",
    "    def requirementTwo(self,inputs):\n",
    "        df = Derivate.derivate(self,inputs)\n",
    "\n",
    "        windowSpec = Window\\\n",
    "            .partitionBy(\"category\")\\\n",
    "            .orderBy(desc(\"total_sales\"))\n",
    "\n",
    "        scenarioTwoDf = df\\\n",
    "            .groupBy(\"category\",\"size\",\"name\")\\\n",
    "            .agg(count(\"order_id\").alias(\"Total_Sales\"))\\\n",
    "            .withColumn(\"Rank\",rank().over(windowSpec))\\\n",
    "            .selectExpr(\"name as Pizza_Name\",\"size as Pizza_Size\",\"Total_Sales\",\"Category\")\\\n",
    "            .filter(col(\"Rank\") == 1)\n",
    "\n",
    "        print(\"Most sold pizza in every Category overall\")\n",
    "        scenarioTwoDf.show()\n",
    "        return scenarioTwoDf\n",
    "    \n",
    "        \"\"\"\n",
    "    Most sold pizza during 7.00pm to 10.00pm overall hour wise\n",
    "    \"\"\"\n",
    "    def requirementThree(self,inputs):\n",
    "        df = Derivate.derivate(self,inputs)\n",
    "\n",
    "        windowSpec = Window\\\n",
    "            .partitionBy(\"Order_Hour\")\\\n",
    "            .orderBy(desc(\"Total_Sales\"))\n",
    "\n",
    "        finalDf = df\\\n",
    "            .groupBy(\"Order_Hour\",\"name\",\"size\")\\\n",
    "            .agg(count(\"order_id\").alias(\"Total_Sales\"))\\\n",
    "            .withColumn(\"Rank\",rank().over(windowSpec))\\\n",
    "            .selectExpr(\"name as Pizza_Name\",\"size as Size\",\"Total_Sales\",\"Order_Hour\")\\\n",
    "            .filter((col(\"Rank\")==1) & (col(\"Order_Hour\")>16) & (col(\"Order_Hour\")<23))\n",
    "        print(\"Most sold pizza during 7.00pm to 10.00pm overall hour wise\")\n",
    "        finalDf.show()\n",
    "        return finalDf\n",
    "\n",
    "        "
   ]
  }
 ],
 "metadata": {
  "application/vnd.databricks.v1+notebook": {
   "dashboards": [],
   "environmentMetadata": null,
   "language": "python",
   "notebookMetadata": {
    "mostRecentlyExecutedCommandWithImplicitDF": {
     "commandId": 1002879245154773,
     "dataframes": [
      "_sqldf"
     ]
    },
    "pythonIndentUnit": 4
   },
   "notebookName": "Data_Transform_Notebook",
   "widgets": {}
  }
 },
 "nbformat": 4,
 "nbformat_minor": 0
}

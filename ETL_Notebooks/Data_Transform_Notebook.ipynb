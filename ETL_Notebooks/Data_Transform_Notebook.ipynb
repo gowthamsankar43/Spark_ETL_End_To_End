{
 "cells": [
  {
   "cell_type": "code",
   "execution_count": 0,
   "metadata": {
    "application/vnd.databricks.v1+cell": {
     "cellMetadata": {
      "byteLimit": 2048000,
      "rowLimit": 10000
     },
     "inputWidgets": {},
     "nuid": "45581e10-bd97-40ab-aac4-9bb83dfdc5be",
     "showTitle": false,
     "title": ""
    }
   },
   "outputs": [],
   "source": [
    "%run \"/Workspace/Users/cloud_learning123_outlook.com#ext#@cloudlearning123outlook.onmicrosoft.com/Spark_ETL_End_To_End/Factory_Pattern_Notebooks/Data_Transform_Factory\""
   ]
  },
  {
   "cell_type": "code",
   "execution_count": 0,
   "metadata": {
    "application/vnd.databricks.v1+cell": {
     "cellMetadata": {
      "byteLimit": 2048000,
      "rowLimit": 10000
     },
     "inputWidgets": {},
     "nuid": "9173a22d-8179-4973-a0ef-5dd12ff32d7d",
     "showTitle": false,
     "title": ""
    }
   },
   "outputs": [],
   "source": [
    "from pyspark.sql.functions import *\n",
    "from pyspark.sql.window import *\n",
    "\n",
    "class Transform():\n",
    "    \"\"\"\n",
    "    Most sold pizza in Chicken Category(Large, Medium, Small) month wise\n",
    "\n",
    "    \"\"\"\n",
    "    def requirementOne(self,inputs):\n",
    "        df = Derivate.derivate(self,inputs)\n",
    "\n",
    "        windowSpec = Window\\\n",
    "            .partitionBy(\"Order_Month\",\"name\")\\\n",
    "            .orderBy(desc(\"total_sales\"),\"size\")\n",
    "\n",
    "        scenarioOneDf =  df\\\n",
    "            .groupBy(\"name\",\"size\",\"Order_Month\",\"category\")\\\n",
    "            .agg(count(\"order_id\").alias(\"total_sales\"))\\\n",
    "            .withColumn(\"Rank\",rank().over(windowSpec))\\\n",
    "            .filter((col(\"category\")==\"Chicken\") & (col(\"Rank\") == 1))\\\n",
    "            .selectExpr(\"name as Pizza_Name\",\"size as Pizza_Size\",\"total_sales\",\"Order_Month\")\\\n",
    "            .orderBy(\"Order_Month\",desc(\"total_sales\"))\n",
    "\n",
    "        print(\"Most sold pizzas in every chicken pizzas month wise\")\n",
    "        scenarioOneDf.display()\n",
    "        return scenarioOneDf\n",
    "    \n",
    "    \"\"\"\n",
    "    Most sold pizza in every Category overall\n",
    "    \"\"\"\n",
    "    def requirementTwo(self,inputs):\n",
    "        df = Derivate.derivate(self,inputs)\n",
    "\n",
    "        windowSpec = Window\\\n",
    "            .partitionBy(\"category\")\\\n",
    "            .orderBy(desc(\"total_sales\"))\n",
    "\n",
    "        scenarioTwoDf = df\\\n",
    "            .groupBy(\"category\",\"size\",\"name\")\\\n",
    "            .agg(count(\"order_id\").alias(\"Total_Sales\"))\\\n",
    "            .withColumn(\"Rank\",rank().over(windowSpec))\\\n",
    "            .filter(col(\"Rank\") == 1)\\\n",
    "            .selectExpr(\"name as Pizza_Name\",\"size as Pizza_Size\",\"Total_Sales\",\"Category\")\n",
    "\n",
    "\n",
    "        print(\"Most sold pizza in every Category overall\")\n",
    "        scenarioTwoDf.display()\n",
    "        return scenarioTwoDf\n",
    "    \n",
    "        \"\"\"\n",
    "    Most sold pizza during 5.00pm to 10.00pm overall hour wise\n",
    "    \"\"\"\n",
    "    def requirementThree(self,inputs):\n",
    "        df = Derivate.derivate(self,inputs)\n",
    "\n",
    "        windowSpec = Window\\\n",
    "            .partitionBy(\"Order_Hour\")\\\n",
    "            .orderBy(desc(\"Total_Sales\"))\n",
    "\n",
    "        scenarioThreeDf = df\\\n",
    "            .groupBy(\"Order_Hour\",\"name\",\"size\")\\\n",
    "            .agg(count(\"order_id\").alias(\"Total_Sales\"))\\\n",
    "            .withColumn(\"Rank\",rank().over(windowSpec))\\\n",
    "            .filter((col(\"Rank\")==1) & (col(\"Order_Hour\")>16) & (col(\"Order_Hour\")<23))\\\n",
    "            .selectExpr(\"name as Pizza_Name\",\"size as Size\",\"Total_Sales\",\"Order_Hour\")\n",
    "        print(\"Most sold pizza during 5.00pm to 10.00pm overall hour wise\")\n",
    "        scenarioThreeDf.display()\n",
    "        return scenarioThreeDf\n",
    "    \n",
    "    def requirementFour(self,inputs):\n",
    "        df = Derivate.derivate(self,inputs)\n",
    "\n",
    "        windowSpec =  Window.partitionBy(\"Order_Month\",\"size\").orderBy(desc(\"Total_Sales\"))\n",
    "\n",
    "        scenarioFourDf = df\\\n",
    "            .groupBy(\"Order_Month\",\"name\",\"size\")\\\n",
    "            .agg(count(\"order_id\").alias(\"Total_Sales\"))\\\n",
    "            .withColumn(\"Rank\", rank().over(windowSpec))\\\n",
    "            .filter((col(\"Rank\") == 1) & (col(\"size\") == \"L\"))\\\n",
    "            .selectExpr(\"name as Pizza_Name\",\"Order_Month\",\"Total_Sales\")\n",
    "        \n",
    "        print(\"Most Sold Large Pizza month wise \")\n",
    "        scenarioFourDf.display()\n",
    "        return scenarioFourDf\n",
    "    \n",
    "    def requirementFive(self,inputs):\n",
    "\n",
    "        \"\"\"\n",
    "        Total amount of small Pizza sold in every category\n",
    "        \"\"\"\n",
    "        df = Derivate.derivate(self,inputs)\n",
    "        \n",
    "        ScenarioFiveDf = df \\\n",
    "        .filter(col(\"size\") == \"S\") \\\n",
    "        .groupBy(\"category\", \"size\", \"pizza_id\") \\\n",
    "        .agg(round(sum(col(\"price\") * col(\"quantity\")), 2).alias(\"Total_Sales\")) \\\n",
    "        .selectExpr(\"pizza_id AS Pizza_Code\", \"category\", \"Total_Sales AS Total_Amount\") \\\n",
    "        .orderBy(\"category\", desc(\"Total_Amount\"), \"Pizza_Code\")\n",
    "  \n",
    "\n",
    "        ScenarioFiveDf.display()\n",
    "        return ScenarioFiveDf\n",
    "    \n",
    "\n",
    "    def requirementSix(self,inputs):\n",
    "\n",
    "        df = Derivate.derivate(self,inputs)\n",
    "\n",
    "\n",
    "        ScenarioSixDf = df\\\n",
    "            .filter((col(\"Order_Month\") == 5) & (col(\"category\") == \"Chicken\"))\\\n",
    "            .groupBy(\"category\",\"Order_Month\",\"name\")\\\n",
    "            .agg(round(sum(col(\"price\")* col(\"quantity\")),2).alias(\"Total_Sales\"))\\\n",
    "            .selectExpr(\"name AS Pizza_Name\",\"Total_Sales\")\\\n",
    "            .orderBy(\"Pizza_Name\") \n",
    "\n",
    "\n",
    "       # ScenarioSixDf = spark.sql(\"select name,round(sum((\"price\")*(\"quantity\")),2)\")\n",
    "        \n",
    "        ScenarioSixDf.display()\n",
    "        return ScenarioSixDf\n",
    "\n",
    "    def requirementSeven(self,inputs):\n",
    "\n",
    "        df = Derivate.derivate(self,inputs)\n",
    "\n",
    "        ScenarioSevenDf =  df \\\n",
    "            .groupBy(\"name\",\"Order_Month\")\\\n",
    "            .agg(round(sum(col(\"price\") * col(\"quantity\")),2).alias(\"Total_Sales\")) \\\n",
    "            .selectExpr(\"name as Pizza_Name\",\"Order_Month\",\"Total_Sales\")\\\n",
    "            .orderBy(\"Order_Month\",desc(\"Total_Sales\"),\"Pizza_Name\")\n",
    "\n",
    "        ScenarioSevenDf.display()\n",
    "        return ScenarioSevenDf"
   ]
  },
  {
   "cell_type": "code",
   "execution_count": 0,
   "metadata": {
    "application/vnd.databricks.v1+cell": {
     "cellMetadata": {
      "byteLimit": 2048000,
      "rowLimit": 10000
     },
     "inputWidgets": {},
     "nuid": "62b91864-e5a7-4b4e-8e76-4e5f933cb20b",
     "showTitle": false,
     "title": ""
    }
   },
   "outputs": [],
   "source": []
  }
 ],
 "metadata": {
  "application/vnd.databricks.v1+notebook": {
   "dashboards": [],
   "environmentMetadata": null,
   "language": "python",
   "notebookMetadata": {
    "mostRecentlyExecutedCommandWithImplicitDF": {
     "commandId": 1002879245154773,
     "dataframes": [
      "_sqldf"
     ]
    },
    "pythonIndentUnit": 4
   },
   "notebookName": "Data_Transform_Notebook",
   "widgets": {}
  }
 },
 "nbformat": 4,
 "nbformat_minor": 0
}

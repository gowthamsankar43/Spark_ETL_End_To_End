{
 "cells": [
  {
   "cell_type": "code",
   "execution_count": 0,
   "metadata": {
    "application/vnd.databricks.v1+cell": {
     "cellMetadata": {
      "byteLimit": 2048000,
      "rowLimit": 10000
     },
     "inputWidgets": {},
     "nuid": "c27949c8-22c1-4caf-9dd4-7aae6972ff07",
     "showTitle": false,
     "title": ""
    }
   },
   "outputs": [],
   "source": [
    "%run \"./Data_Extractor_Factory\""
   ]
  },
  {
   "cell_type": "code",
   "execution_count": 0,
   "metadata": {
    "application/vnd.databricks.v1+cell": {
     "cellMetadata": {
      "byteLimit": 2048000,
      "rowLimit": 10000
     },
     "inputWidgets": {},
     "nuid": "701e8a3a-5617-46cf-9ce4-4e35cb9fe036",
     "showTitle": false,
     "title": ""
    }
   },
   "outputs": [],
   "source": [
    "\n",
    "class DataSource:\n",
    "\n",
    "    def __init__(self):\n",
    "        pass\n",
    "\n",
    "    def extract(self):\n",
    "        pass\n",
    "\n",
    "\n",
    "class DataSourceExtractor(DataSource):\n",
    "\n",
    "    def extract(self):\n",
    "       \n",
    "        pizzaDf = get_data_source(\n",
    "            datatype = \"csv\",\n",
    "            filepath = \"dbfs:/FileStore/pizzas.csv\"\n",
    "        ).get_data_frame()\n",
    "\n",
    "\n",
    "        orderDetailsDf = get_data_source(\n",
    "            datatype = \"delta\",\n",
    "            filepath = \"default.order_details_delta\"\n",
    "        ).get_data_frame()\n",
    "\n",
    "        pizzaTypeDf = get_data_source(\n",
    "            datatype = \"csv\",\n",
    "            filepath = \"dbfs:/FileStore/pizza_types.csv\"\n",
    "        ).get_data_frame()\n",
    "\n",
    "        ordersDf = get_data_source(\n",
    "            datatype = \"parquet\",\n",
    "            filepath = \"dbfs:/FileStore/orders\"\n",
    "        ).get_data_frame()\n",
    "\n",
    "\n",
    "        inputs = {\n",
    "            \"pizzaDf\" : pizzaDf,\n",
    "            \"orderDetailsDf\" : orderDetailsDf,\n",
    "            \"pizzaTypeDf\" : pizzaTypeDf,\n",
    "            \"ordersDf\" : ordersDf\n",
    "        }\n",
    "\n",
    "        return inputs\n",
    "\n",
    "\n"
   ]
  }
 ],
 "metadata": {
  "application/vnd.databricks.v1+notebook": {
   "dashboards": [],
   "environmentMetadata": null,
   "language": "python",
   "notebookMetadata": {
    "pythonIndentUnit": 4
   },
   "notebookName": "Data_Extractor_Notebook",
   "widgets": {}
  }
 },
 "nbformat": 4,
 "nbformat_minor": 0
}

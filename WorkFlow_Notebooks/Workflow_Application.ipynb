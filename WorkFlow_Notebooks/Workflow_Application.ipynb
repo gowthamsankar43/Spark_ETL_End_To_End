{
 "cells": [
  {
   "cell_type": "code",
   "execution_count": 0,
   "metadata": {
    "application/vnd.databricks.v1+cell": {
     "cellMetadata": {
      "byteLimit": 2048000,
      "rowLimit": 10000
     },
     "inputWidgets": {},
     "nuid": "6c19b45c-7a8c-40bf-a5d5-b9b266b0c255",
     "showTitle": false,
     "title": ""
    }
   },
   "outputs": [],
   "source": [
    "from pyspark.sql import SparkSession\n",
    "\n",
    "spark = SparkSession.builder.appName(\"PizzaDataAnalysis\").getOrCreate() \n"
   ]
  },
  {
   "cell_type": "code",
   "execution_count": 0,
   "metadata": {
    "application/vnd.databricks.v1+cell": {
     "cellMetadata": {
      "byteLimit": 2048000,
      "rowLimit": 10000
     },
     "inputWidgets": {},
     "nuid": "18800048-3f74-46d6-b045-b4352ef1592a",
     "showTitle": false,
     "title": ""
    }
   },
   "outputs": [
    {
     "output_type": "stream",
     "name": "stdout",
     "output_type": "stream",
     "text": [
      "Out[244]: '3.3.2'"
     ]
    }
   ],
   "source": [
    "spark.version"
   ]
  },
  {
   "cell_type": "code",
   "execution_count": 0,
   "metadata": {
    "application/vnd.databricks.v1+cell": {
     "cellMetadata": {
      "byteLimit": 2048000,
      "rowLimit": 10000
     },
     "inputWidgets": {},
     "nuid": "09bf6289-b977-4add-b201-c61e17bb8180",
     "showTitle": false,
     "title": ""
    }
   },
   "outputs": [
    {
     "output_type": "stream",
     "name": "stdout",
     "output_type": "stream",
     "text": [
      "Python 3.9.19\r\n"
     ]
    }
   ],
   "source": [
    "!python --version"
   ]
  },
  {
   "cell_type": "code",
   "execution_count": 0,
   "metadata": {
    "application/vnd.databricks.v1+cell": {
     "cellMetadata": {
      "byteLimit": 2048000,
      "rowLimit": 10000
     },
     "inputWidgets": {},
     "nuid": "777304df-66a0-4274-8e65-a26b1ecbeb28",
     "showTitle": false,
     "title": ""
    }
   },
   "outputs": [],
   "source": [
    "%run \"./Data_Extractor_Notebook\""
   ]
  },
  {
   "cell_type": "code",
   "execution_count": 0,
   "metadata": {
    "application/vnd.databricks.v1+cell": {
     "cellMetadata": {
      "byteLimit": 2048000,
      "rowLimit": 10000
     },
     "inputWidgets": {},
     "nuid": "a7183b44-a551-40ca-afd4-c39eda93d1d0",
     "showTitle": false,
     "title": ""
    }
   },
   "outputs": [],
   "source": [
    "%run \"./Data_Transform_Notebook\""
   ]
  },
  {
   "cell_type": "code",
   "execution_count": 0,
   "metadata": {
    "application/vnd.databricks.v1+cell": {
     "cellMetadata": {
      "byteLimit": 2048000,
      "rowLimit": 10000
     },
     "inputWidgets": {},
     "nuid": "ab5e8a04-8867-498b-859e-a0aea336ca18",
     "showTitle": false,
     "title": ""
    }
   },
   "outputs": [],
   "source": [
    "%run \"./Data_Loader_Notebook\""
   ]
  },
  {
   "cell_type": "code",
   "execution_count": 0,
   "metadata": {
    "application/vnd.databricks.v1+cell": {
     "cellMetadata": {
      "byteLimit": 2048000,
      "rowLimit": 10000
     },
     "inputWidgets": {},
     "nuid": "1d400102-5446-4a67-aabd-6ed86e68d3ee",
     "showTitle": false,
     "title": ""
    }
   },
   "outputs": [],
   "source": [
    "class FirstWorkFlow:\n",
    "\n",
    "    def __init__(self,saveoption):\n",
    "        self.saveoption = saveoption\n",
    "\n",
    "    def runner(self):\n",
    "\n",
    "        extracting_data = DataSourceExtractor().extract()\n",
    "        transformingData = Transform().requirementOne(extracting_data)\n",
    "        if(self.saveoption == \"yes\"):\n",
    "            MonthwiseChickenCategoryLoad(transformingData).dataload()\n",
    "        else:\n",
    "            print(\"Data is not saved in file system !!!\")\n",
    "\n"
   ]
  },
  {
   "cell_type": "code",
   "execution_count": 0,
   "metadata": {
    "application/vnd.databricks.v1+cell": {
     "cellMetadata": {
      "byteLimit": 2048000,
      "rowLimit": 10000
     },
     "inputWidgets": {},
     "nuid": "c3f8aa47-2894-4936-b227-db39f181c329",
     "showTitle": false,
     "title": ""
    }
   },
   "outputs": [],
   "source": [
    "class SecondWorkFlow:\n",
    "\n",
    "    def __init__(self,saveoption):\n",
    "        self.saveoption = saveoption\n",
    "\n",
    "    def runner(self):\n",
    "\n",
    "        extracting_data = DataSourceExtractor().extract()\n",
    "        transformingData = Transform().requirementTwo(extracting_data)\n",
    "        if(self.saveoption == \"yes\"):\n",
    "            MostSoldPizzaByCategoryOverall(transformingData).dataload()\n",
    "        else:\n",
    "            print(\"Data is not saved in file system !!!\")"
   ]
  },
  {
   "cell_type": "code",
   "execution_count": 0,
   "metadata": {
    "application/vnd.databricks.v1+cell": {
     "cellMetadata": {
      "byteLimit": 2048000,
      "rowLimit": 10000
     },
     "inputWidgets": {},
     "nuid": "4108cdfe-b41e-4d39-b74f-21eefed2bbb8",
     "showTitle": false,
     "title": ""
    }
   },
   "outputs": [],
   "source": [
    "class ThirdWorkFlow:\n",
    "\n",
    "    def __init__(self,saveoption):\n",
    "        self.saveoption = saveoption\n",
    "\n",
    "    def runner(self):\n",
    "\n",
    "        extracting_data = DataSourceExtractor().extract()\n",
    "        transformingData = Transform().requirementThree(extracting_data)\n",
    "        if(self.saveoption == \"yes\"):\n",
    "            MostSoldPizzaBetweenTimeMonthwise(transformingData).dataload()\n",
    "        else:\n",
    "            print(\"Data is not saved in file system !!!\")"
   ]
  },
  {
   "cell_type": "code",
   "execution_count": 0,
   "metadata": {
    "application/vnd.databricks.v1+cell": {
     "cellMetadata": {
      "byteLimit": 2048000,
      "rowLimit": 10000
     },
     "inputWidgets": {},
     "nuid": "4ab490c9-4ee0-456a-92d3-47586ad6a466",
     "showTitle": false,
     "title": ""
    }
   },
   "outputs": [],
   "source": [
    "class FourthWorkFlow:\n",
    "\n",
    "    def __init__(self,saveoption):\n",
    "        self.saveoption = saveoption\n",
    "\n",
    "    def runner(self):\n",
    "\n",
    "        extracting_data = DataSourceExtractor().extract()\n",
    "        transformingData = Transform().requirementFour(extracting_data)\n",
    "        if(self.saveoption == \"yes\"):\n",
    "            MostSoldLargePizzaMonthwise(transformingData).dataload()\n",
    "        else:\n",
    "            print(\"Data is not saved in file system !!!\")"
   ]
  },
  {
   "cell_type": "code",
   "execution_count": 0,
   "metadata": {
    "application/vnd.databricks.v1+cell": {
     "cellMetadata": {
      "byteLimit": 2048000,
      "rowLimit": 10000
     },
     "inputWidgets": {},
     "nuid": "ed8539c8-896c-4bcf-bccf-6840effc6b9d",
     "showTitle": false,
     "title": ""
    }
   },
   "outputs": [],
   "source": [
    "class FifthWorkFlow:\n",
    "\n",
    "    def __init__(self,saveoption):\n",
    "        self.saveoption = saveoption\n",
    "\n",
    "    def runner(self):\n",
    "\n",
    "        extracting_data = DataSourceExtractor().extract()\n",
    "        transformingData = Transform().requirementFive(extracting_data)\n",
    "        if(self.saveoption == \"yes\"):\n",
    "            TotalSmallPizzaSalesByCategory(transformingData).dataload()\n",
    "        else:\n",
    "            print(\"Data is not saved in file system !!!\")"
   ]
  },
  {
   "cell_type": "code",
   "execution_count": 0,
   "metadata": {
    "application/vnd.databricks.v1+cell": {
     "cellMetadata": {
      "byteLimit": 2048000,
      "rowLimit": 10000
     },
     "inputWidgets": {},
     "nuid": "c4af6e48-232f-47d5-af8f-9e5ad00070e5",
     "showTitle": false,
     "title": ""
    }
   },
   "outputs": [],
   "source": [
    "class SixthWorkFlow:\n",
    "\n",
    "    def __init__(self,saveoption):\n",
    "        self.saveoption = saveoption\n",
    "\n",
    "    def runner(self):\n",
    "\n",
    "        extracting_data = DataSourceExtractor().extract()\n",
    "        transformingData = Transform().requirementSix(extracting_data)\n",
    "        if(self.saveoption == \"yes\"):\n",
    "            TotalChickenPizzaSalesInMayMonth(transformingData).dataload()\n",
    "        else:\n",
    "            print(\"Data is not saved in file system !!!\")"
   ]
  },
  {
   "cell_type": "code",
   "execution_count": 0,
   "metadata": {
    "application/vnd.databricks.v1+cell": {
     "cellMetadata": {
      "byteLimit": 2048000,
      "rowLimit": 10000
     },
     "inputWidgets": {},
     "nuid": "84951a33-5f23-40ca-b612-e4da844213bb",
     "showTitle": false,
     "title": ""
    }
   },
   "outputs": [],
   "source": [
    "class SeventhWorkFlow:\n",
    "\n",
    "    def __init__(self,saveoption):\n",
    "        self.saveoption = saveoption\n",
    "\n",
    "    def runner(self):\n",
    "\n",
    "        extracting_data = DataSourceExtractor().extract()\n",
    "        transformingData = Transform().requirementSeven(extracting_data)\n",
    "        if(self.saveoption == \"yes\"):\n",
    "            MonthwisePizzaSalesOrderByMax(transformingData).dataload()\n",
    "        else:\n",
    "            print(\"Data is not saved in file system !!!\")"
   ]
  },
  {
   "cell_type": "code",
   "execution_count": 0,
   "metadata": {
    "application/vnd.databricks.v1+cell": {
     "cellMetadata": {
      "byteLimit": 2048000,
      "rowLimit": 10000
     },
     "inputWidgets": {},
     "nuid": "fc8f5b61-8555-4f8e-8a10-4a216a718923",
     "showTitle": false,
     "title": ""
    }
   },
   "outputs": [
    {
     "output_type": "stream",
     "name": "stdout",
     "output_type": "stream",
     "text": [
      "Hi, Do you need which data? \nPlease select from below options\nOption: 1\tMost sold pizza in Chicken Category month wise\nOption: 2\tMost sold pizza in every Category overall\nOption: 3\tMost sold pizza during 5.00pm to 10.00pm overall\nOption: 4\tMost sold Large Pizza month wise\nOption: 5\tTotal amount of small Pizza sold in every category\nOption: 6\tTotal amount of Chicken Pizza sales in May month\nOption: 7\tTotal amount of Pizza sales in monthwise every pizza sorted by max sold pizza\n\n"
     ]
    },
    {
     "output_type": "display_data",
     "data": {
      "text/plain": [
       "Enter the option number: \t 7"
      ]
     },
     "metadata": {},
     "output_type": "display_data"
    },
    {
     "output_type": "display_data",
     "data": {
      "text/plain": [
       "do you want to save your file : yes/no yes"
      ]
     },
     "metadata": {},
     "output_type": "display_data"
    },
    {
     "output_type": "display_data",
     "data": {
      "text/html": [
       "<style scoped>\n",
       "  .table-result-container {\n",
       "    max-height: 300px;\n",
       "    overflow: auto;\n",
       "  }\n",
       "  table, th, td {\n",
       "    border: 1px solid black;\n",
       "    border-collapse: collapse;\n",
       "  }\n",
       "  th, td {\n",
       "    padding: 5px;\n",
       "  }\n",
       "  th {\n",
       "    text-align: left;\n",
       "  }\n",
       "</style><div class='table-result-container'><table class='table-result'><thead style='background-color: white'><tr><th>Pizza_Name</th><th>Order_Month</th><th>Total_Sales</th></tr></thead><tbody><tr><td>The Barbecue Chicken Pizza</td><td>1</td><td>3770.25</td></tr><tr><td>The Thai Chicken Pizza</td><td>1</td><td>3657.25</td></tr><tr><td>The California Chicken Pizza</td><td>1</td><td>3471.5</td></tr><tr><td>The Pepperoni Pizza</td><td>1</td><td>3001.25</td></tr><tr><td>The Sicilian Pizza</td><td>1</td><td>2987.75</td></tr><tr><td>The Italian Supreme Pizza</td><td>1</td><td>2954.75</td></tr><tr><td>The Classic Deluxe Pizza</td><td>1</td><td>2941.5</td></tr><tr><td>The Spicy Italian Pizza</td><td>1</td><td>2762.0</td></tr><tr><td>The Four Cheese Pizza</td><td>1</td><td>2671.65</td></tr><tr><td>The Five Cheese Pizza</td><td>1</td><td>2553.0</td></tr><tr><td>The Greek Pizza</td><td>1</td><td>2539.4</td></tr><tr><td>The Southwest Chicken Pizza</td><td>1</td><td>2495.5</td></tr><tr><td>The Hawaiian Pizza</td><td>1</td><td>2442.75</td></tr><tr><td>The Mexicana Pizza</td><td>1</td><td>2358.25</td></tr><tr><td>The Pepper Salami Pizza</td><td>1</td><td>2342.25</td></tr><tr><td>The Napolitana Pizza</td><td>1</td><td>2306.5</td></tr><tr><td>The Vegetables + Vegetables Pizza</td><td>1</td><td>2289.5</td></tr><tr><td>The Prosciutto and Arugula Pizza</td><td>1</td><td>2218.0</td></tr><tr><td>The Italian Capocollo Pizza</td><td>1</td><td>2153.0</td></tr><tr><td>The Spinach and Feta Pizza</td><td>1</td><td>2047.25</td></tr><tr><td>The Big Meat Pizza</td><td>1</td><td>1800.0</td></tr><tr><td>The Italian Vegetables Pizza</td><td>1</td><td>1653.5</td></tr><tr><td>The Chicken Alfredo Pizza</td><td>1</td><td>1456.5</td></tr><tr><td>The Pepperoni, Mushroom, and Peppers Pizza</td><td>1</td><td>1435.0</td></tr><tr><td>The Spinach Supreme Pizza</td><td>1</td><td>1357.0</td></tr><tr><td>The Chicken Pesto Pizza</td><td>1</td><td>1337.75</td></tr><tr><td>The Soppressata Pizza</td><td>1</td><td>1323.5</td></tr><tr><td>The Spinach Pesto Pizza</td><td>1</td><td>1269.25</td></tr><tr><td>The Calabrese Pizza</td><td>1</td><td>1156.75</td></tr><tr><td>The Mediterranean Pizza</td><td>1</td><td>1147.5</td></tr><tr><td>The Green Garden Pizza</td><td>1</td><td>1065.5</td></tr><tr><td>The Brie Carre Pizza</td><td>1</td><td>827.75</td></tr><tr><td>The California Chicken Pizza</td><td>2</td><td>3537.0</td></tr><tr><td>The Barbecue Chicken Pizza</td><td>2</td><td>3416.75</td></tr><tr><td>The Thai Chicken Pizza</td><td>2</td><td>3009.25</td></tr><tr><td>The Southwest Chicken Pizza</td><td>2</td><td>2804.25</td></tr><tr><td>The Four Cheese Pizza</td><td>2</td><td>2734.4</td></tr><tr><td>The Classic Deluxe Pizza</td><td>2</td><td>2705.0</td></tr><tr><td>The Spicy Italian Pizza</td><td>2</td><td>2646.25</td></tr><tr><td>The Hawaiian Pizza</td><td>2</td><td>2633.0</td></tr><tr><td>The Sicilian Pizza</td><td>2</td><td>2560.0</td></tr><tr><td>The Italian Supreme Pizza</td><td>2</td><td>2555.25</td></tr><tr><td>The Pepperoni Pizza</td><td>2</td><td>2554.25</td></tr><tr><td>The Vegetables + Vegetables Pizza</td><td>2</td><td>2283.25</td></tr><tr><td>The Greek Pizza</td><td>2</td><td>2112.35</td></tr><tr><td>The Five Cheese Pizza</td><td>2</td><td>2090.5</td></tr><tr><td>The Italian Capocollo Pizza</td><td>2</td><td>2079.0</td></tr><tr><td>The Prosciutto and Arugula Pizza</td><td>2</td><td>2005.75</td></tr><tr><td>The Mexicana Pizza</td><td>2</td><td>1915.5</td></tr><tr><td>The Napolitana Pizza</td><td>2</td><td>1910.5</td></tr><tr><td>The Pepper Salami Pizza</td><td>2</td><td>1862.25</td></tr><tr><td>The Big Meat Pizza</td><td>2</td><td>1812.0</td></tr><tr><td>The Spinach and Feta Pizza</td><td>2</td><td>1695.25</td></tr><tr><td>The Pepperoni, Mushroom, and Peppers Pizza</td><td>2</td><td>1530.0</td></tr><tr><td>The Calabrese Pizza</td><td>2</td><td>1461.5</td></tr><tr><td>The Chicken Pesto Pizza</td><td>2</td><td>1433.5</td></tr><tr><td>The Italian Vegetables Pizza</td><td>2</td><td>1396.5</td></tr><tr><td>The Spinach Supreme Pizza</td><td>2</td><td>1298.0</td></tr><tr><td>The Soppressata Pizza</td><td>2</td><td>1289.25</td></tr><tr><td>The Chicken Alfredo Pizza</td><td>2</td><td>1267.5</td></tr><tr><td>The Green Garden Pizza</td><td>2</td><td>1226.5</td></tr><tr><td>The Spinach Pesto Pizza</td><td>2</td><td>1211.0</td></tr><tr><td>The Mediterranean Pizza</td><td>2</td><td>1083.5</td></tr><tr><td>The Brie Carre Pizza</td><td>2</td><td>1040.6</td></tr><tr><td>The Barbecue Chicken Pizza</td><td>3</td><td>4049.25</td></tr><tr><td>The Thai Chicken Pizza</td><td>3</td><td>3843.75</td></tr><tr><td>The California Chicken Pizza</td><td>3</td><td>3457.5</td></tr><tr><td>The Spicy Italian Pizza</td><td>3</td><td>3205.75</td></tr><tr><td>The Classic Deluxe Pizza</td><td>3</td><td>3168.0</td></tr><tr><td>The Southwest Chicken Pizza</td><td>3</td><td>3155.25</td></tr><tr><td>The Hawaiian Pizza</td><td>3</td><td>2878.5</td></tr><tr><td>The Four Cheese Pizza</td><td>3</td><td>2811.35</td></tr><tr><td>The Italian Supreme Pizza</td><td>3</td><td>2665.0</td></tr><tr><td>The Sicilian Pizza</td><td>3</td><td>2442.75</td></tr><tr><td>The Mexicana Pizza</td><td>3</td><td>2388.75</td></tr><tr><td>The Pepperoni Pizza</td><td>3</td><td>2323.75</td></tr><tr><td>The Five Cheese Pizza</td><td>3</td><td>2312.5</td></tr><tr><td>The Vegetables + Vegetables Pizza</td><td>3</td><td>2201.75</td></tr><tr><td>The Greek Pizza</td><td>3</td><td>2189.85</td></tr><tr><td>The Pepper Salami Pizza</td><td>3</td><td>2184.5</td></tr><tr><td>The Spinach and Feta Pizza</td><td>3</td><td>2146.25</td></tr><tr><td>The Prosciutto and Arugula Pizza</td><td>3</td><td>2137.25</td></tr><tr><td>The Big Meat Pizza</td><td>3</td><td>2112.0</td></tr><tr><td>The Italian Capocollo Pizza</td><td>3</td><td>2084.5</td></tr><tr><td>The Chicken Alfredo Pizza</td><td>3</td><td>1779.0</td></tr><tr><td>The Napolitana Pizza</td><td>3</td><td>1774.0</td></tr><tr><td>The Pepperoni, Mushroom, and Peppers Pizza</td><td>3</td><td>1586.0</td></tr><tr><td>The Spinach Pesto Pizza</td><td>3</td><td>1513.75</td></tr><tr><td>The Italian Vegetables Pizza</td><td>3</td><td>1397.25</td></tr><tr><td>The Chicken Pesto Pizza</td><td>3</td><td>1340.75</td></tr><tr><td>The Soppressata Pizza</td><td>3</td><td>1335.0</td></tr><tr><td>The Mediterranean Pizza</td><td>3</td><td>1301.0</td></tr><tr><td>The Green Garden Pizza</td><td>3</td><td>1262.75</td></tr><tr><td>The Spinach Supreme Pizza</td><td>3</td><td>1153.25</td></tr><tr><td>The Calabrese Pizza</td><td>3</td><td>1108.25</td></tr><tr><td>The Brie Carre Pizza</td><td>3</td><td>1087.9</td></tr><tr><td>The Barbecue Chicken Pizza</td><td>4</td><td>3788.5</td></tr><tr><td>The Thai Chicken Pizza</td><td>4</td><td>3686.0</td></tr><tr><td>The Classic Deluxe Pizza</td><td>4</td><td>3342.5</td></tr><tr><td>The Southwest Chicken Pizza</td><td>4</td><td>3096.25</td></tr><tr><td>The California Chicken Pizza</td><td>4</td><td>3092.0</td></tr><tr><td>The Greek Pizza</td><td>4</td><td>3088.3</td></tr><tr><td>The Italian Supreme Pizza</td><td>4</td><td>3079.5</td></tr><tr><td>The Hawaiian Pizza</td><td>4</td><td>2867.75</td></tr><tr><td>The Spicy Italian Pizza</td><td>4</td><td>2758.25</td></tr><tr><td>The Four Cheese Pizza</td><td>4</td><td>2744.7</td></tr><tr><td>The Sicilian Pizza</td><td>4</td><td>2434.75</td></tr><tr><td>The Mexicana Pizza</td><td>4</td><td>2396.0</td></tr><tr><td>The Pepper Salami Pizza</td><td>4</td><td>2362.75</td></tr><tr><td>The Italian Capocollo Pizza</td><td>4</td><td>2260.0</td></tr><tr><td>The Pepperoni Pizza</td><td>4</td><td>2112.75</td></tr><tr><td>The Vegetables + Vegetables Pizza</td><td>4</td><td>2095.25</td></tr><tr><td>The Five Cheese Pizza</td><td>4</td><td>1979.5</td></tr><tr><td>The Napolitana Pizza</td><td>4</td><td>1929.5</td></tr><tr><td>The Spinach and Feta Pizza</td><td>4</td><td>1878.25</td></tr><tr><td>The Prosciutto and Arugula Pizza</td><td>4</td><td>1789.25</td></tr><tr><td>The Big Meat Pizza</td><td>4</td><td>1668.0</td></tr><tr><td>The Soppressata Pizza</td><td>4</td><td>1638.5</td></tr><tr><td>The Chicken Pesto Pizza</td><td>4</td><td>1550.75</td></tr><tr><td>The Pepperoni, Mushroom, and Peppers Pizza</td><td>4</td><td>1548.0</td></tr><tr><td>The Spinach Supreme Pizza</td><td>4</td><td>1443.0</td></tr><tr><td>The Italian Vegetables Pizza</td><td>4</td><td>1404.75</td></tr><tr><td>The Calabrese Pizza</td><td>4</td><td>1380.75</td></tr><tr><td>The Chicken Alfredo Pizza</td><td>4</td><td>1259.5</td></tr><tr><td>The Mediterranean Pizza</td><td>4</td><td>1246.0</td></tr><tr><td>The Green Garden Pizza</td><td>4</td><td>1145.75</td></tr><tr><td>The Spinach Pesto Pizza</td><td>4</td><td>913.25</td></tr><tr><td>The Brie Carre Pizza</td><td>4</td><td>756.8</td></tr><tr><td>The Barbecue Chicken Pizza</td><td>5</td><td>3953.5</td></tr><tr><td>The California Chicken Pizza</td><td>5</td><td>3561.25</td></tr><tr><td>The Thai Chicken Pizza</td><td>5</td><td>3558.25</td></tr><tr><td>The Classic Deluxe Pizza</td><td>5</td><td>3444.0</td></tr><tr><td>The Spicy Italian Pizza</td><td>5</td><td>3430.75</td></tr><tr><td>The Italian Supreme Pizza</td><td>5</td><td>3142.25</td></tr><tr><td>The Four Cheese Pizza</td><td>5</td><td>3052.5</td></tr><tr><td>The Pepperoni Pizza</td><td>5</td><td>2998.75</td></tr><tr><td>The Southwest Chicken Pizza</td><td>5</td><td>2860.25</td></tr><tr><td>The Hawaiian Pizza</td><td>5</td><td>2688.0</td></tr><tr><td>The Greek Pizza</td><td>5</td><td>2488.35</td></tr><tr><td>The Sicilian Pizza</td><td>5</td><td>2433.5</td></tr><tr><td>The Five Cheese Pizza</td><td>5</td><td>2294.0</td></tr><tr><td>The Big Meat Pizza</td><td>5</td><td>2280.0</td></tr><tr><td>The Spinach and Feta Pizza</td><td>5</td><td>2231.75</td></tr><tr><td>The Pepper Salami Pizza</td><td>5</td><td>2056.0</td></tr><tr><td>The Italian Capocollo Pizza</td><td>5</td><td>2018.5</td></tr><tr><td>The Prosciutto and Arugula Pizza</td><td>5</td><td>1886.5</td></tr><tr><td>The Mexicana Pizza</td><td>5</td><td>1879.75</td></tr><tr><td>The Napolitana Pizza</td><td>5</td><td>1846.5</td></tr><tr><td>The Vegetables + Vegetables Pizza</td><td>5</td><td>1719.0</td></tr><tr><td>The Pepperoni, Mushroom, and Peppers Pizza</td><td>5</td><td>1659.0</td></tr><tr><td>The Spinach Pesto Pizza</td><td>5</td><td>1551.25</td></tr><tr><td>The Soppressata Pizza</td><td>5</td><td>1505.0</td></tr><tr><td>The Mediterranean Pizza</td><td>5</td><td>1500.0</td></tr><tr><td>The Chicken Alfredo Pizza</td><td>5</td><td>1439.75</td></tr><tr><td>The Italian Vegetables Pizza</td><td>5</td><td>1425.25</td></tr><tr><td>The Calabrese Pizza</td><td>5</td><td>1393.0</td></tr><tr><td>The Spinach Supreme Pizza</td><td>5</td><td>1380.75</td></tr><tr><td>The Chicken Pesto Pizza</td><td>5</td><td>1379.25</td></tr><tr><td>The Green Garden Pizza</td><td>5</td><td>1258.25</td></tr><tr><td>The Brie Carre Pizza</td><td>5</td><td>1087.9</td></tr><tr><td>The California Chicken Pizza</td><td>6</td><td>3870.5</td></tr><tr><td>The Thai Chicken Pizza</td><td>6</td><td>3505.0</td></tr><tr><td>The Barbecue Chicken Pizza</td><td>6</td><td>3377.5</td></tr><tr><td>The Classic Deluxe Pizza</td><td>6</td><td>3029.0</td></tr><tr><td>The Spicy Italian Pizza</td><td>6</td><td>2985.75</td></tr><tr><td>The Italian Supreme Pizza</td><td>6</td><td>2958.75</td></tr><tr><td>The Sicilian Pizza</td><td>6</td><td>2653.75</td></tr><tr><td>The Southwest Chicken Pizza</td><td>6</td><td>2584.0</td></tr><tr><td>The Hawaiian Pizza</td><td>6</td><td>2563.75</td></tr><tr><td>The Four Cheese Pizza</td><td>6</td><td>2515.8</td></tr><tr><td>The Greek Pizza</td><td>6</td><td>2394.9</td></tr><tr><td>The Five Cheese Pizza</td><td>6</td><td>2294.0</td></tr><tr><td>The Napolitana Pizza</td><td>6</td><td>2291.5</td></tr><tr><td>The Pepper Salami Pizza</td><td>6</td><td>2266.5</td></tr><tr><td>The Italian Capocollo Pizza</td><td>6</td><td>2247.5</td></tr><tr><td>The Mexicana Pizza</td><td>6</td><td>2230.75</td></tr><tr><td>The Pepperoni Pizza</td><td>6</td><td>2055.25</td></tr><tr><td>The Vegetables + Vegetables Pizza</td><td>6</td><td>1973.5</td></tr><tr><td>The Spinach and Feta Pizza</td><td>6</td><td>1881.0</td></tr><tr><td>The Prosciutto and Arugula Pizza</td><td>6</td><td>1876.75</td></tr><tr><td>The Pepperoni, Mushroom, and Peppers Pizza</td><td>6</td><td>1786.0</td></tr><tr><td>The Big Meat Pizza</td><td>6</td><td>1668.0</td></tr><tr><td>The Calabrese Pizza</td><td>6</td><td>1526.5</td></tr><tr><td>The Soppressata Pizza</td><td>6</td><td>1526.5</td></tr><tr><td>The Spinach Pesto Pizza</td><td>6</td><td>1485.5</td></tr><tr><td>The Chicken Alfredo Pizza</td><td>6</td><td>1410.25</td></tr><tr><td>The Spinach Supreme Pizza</td><td>6</td><td>1356.75</td></tr><tr><td>The Chicken Pesto Pizza</td><td>6</td><td>1339.25</td></tr><tr><td>The Green Garden Pizza</td><td>6</td><td>1230.5</td></tr><tr><td>The Mediterranean Pizza</td><td>6</td><td>1214.75</td></tr><tr><td>The Italian Vegetables Pizza</td><td>6</td><td>1184.75</td></tr><tr><td>The Brie Carre Pizza</td><td>6</td><td>946.0</td></tr><tr><td>The Thai Chicken Pizza</td><td>7</td><td>4073.75</td></tr><tr><td>The Barbecue Chicken Pizza</td><td>7</td><td>3784.25</td></tr><tr><td>The Classic Deluxe Pizza</td><td>7</td><td>3554.5</td></tr><tr><td>The Spicy Italian Pizza</td><td>7</td><td>3459.0</td></tr><tr><td>The California Chicken Pizza</td><td>7</td><td>3252.25</td></tr><tr><td>The Southwest Chicken Pizza</td><td>7</td><td>3241.5</td></tr><tr><td>The Pepperoni Pizza</td><td>7</td><td>2819.25</td></tr><tr><td>The Four Cheese Pizza</td><td>7</td><td>2770.3</td></tr><tr><td>The Mexicana Pizza</td><td>7</td><td>2643.25</td></tr><tr><td>The Hawaiian Pizza</td><td>7</td><td>2620.25</td></tr><tr><td>The Five Cheese Pizza</td><td>7</td><td>2571.5</td></tr><tr><td>The Italian Supreme Pizza</td><td>7</td><td>2540.5</td></tr><tr><td>The Sicilian Pizza</td><td>7</td><td>2473.75</td></tr><tr><td>The Greek Pizza</td><td>7</td><td>2425.0</td></tr><tr><td>The Italian Capocollo Pizza</td><td>7</td><td>2301.5</td></tr><tr><td>The Vegetables + Vegetables Pizza</td><td>7</td><td>2298.25</td></tr><tr><td>The Big Meat Pizza</td><td>7</td><td>2220.0</td></tr><tr><td>The Pepper Salami Pizza</td><td>7</td><td>2213.5</td></tr><tr><td>The Prosciutto and Arugula Pizza</td><td>7</td><td>2211.75</td></tr><tr><td>The Spinach and Feta Pizza</td><td>7</td><td>2059.0</td></tr><tr><td>The Napolitana Pizza</td><td>7</td><td>2023.5</td></tr><tr><td>The Pepperoni, Mushroom, and Peppers Pizza</td><td>7</td><td>1689.0</td></tr><tr><td>The Soppressata Pizza</td><td>7</td><td>1476.0</td></tr><tr><td>The Mediterranean Pizza</td><td>7</td><td>1453.25</td></tr><tr><td>The Calabrese Pizza</td><td>7</td><td>1428.75</td></tr><tr><td>The Chicken Pesto Pizza</td><td>7</td><td>1427.75</td></tr><tr><td>The Green Garden Pizza</td><td>7</td><td>1426.5</td></tr><tr><td>The Spinach Supreme Pizza</td><td>7</td><td>1373.0</td></tr><tr><td>The Spinach Pesto Pizza</td><td>7</td><td>1261.75</td></tr><tr><td>The Chicken Alfredo Pizza</td><td>7</td><td>1222.75</td></tr><tr><td>The Italian Vegetables Pizza</td><td>7</td><td>1202.0</td></tr><tr><td>The Brie Carre Pizza</td><td>7</td><td>1040.6</td></tr><tr><td>The California Chicken Pizza</td><td>8</td><td>3977.25</td></tr><tr><td>The Barbecue Chicken Pizza</td><td>8</td><td>3300.25</td></tr><tr><td>The Thai Chicken Pizza</td><td>8</td><td>3272.5</td></tr><tr><td>The Classic Deluxe Pizza</td><td>8</td><td>3187.0</td></tr><tr><td>The Southwest Chicken Pizza</td><td>8</td><td>3019.5</td></tr><tr><td>The Italian Supreme Pizza</td><td>8</td><td>3002.5</td></tr><tr><td>The Spicy Italian Pizza</td><td>8</td><td>2795.5</td></tr><tr><td>The Hawaiian Pizza</td><td>8</td><td>2678.75</td></tr><tr><td>The Pepperoni Pizza</td><td>8</td><td>2637.75</td></tr><tr><td>The Sicilian Pizza</td><td>8</td><td>2548.0</td></tr><tr><td>The Four Cheese Pizza</td><td>8</td><td>2344.65</td></tr><tr><td>The Spinach and Feta Pizza</td><td>8</td><td>2319.0</td></tr><tr><td>The Napolitana Pizza</td><td>8</td><td>2277.5</td></tr><tr><td>The Greek Pizza</td><td>8</td><td>2244.4</td></tr><tr><td>The Mexicana Pizza</td><td>8</td><td>2234.0</td></tr><tr><td>The Five Cheese Pizza</td><td>8</td><td>2090.5</td></tr><tr><td>The Italian Capocollo Pizza</td><td>8</td><td>2084.5</td></tr><tr><td>The Prosciutto and Arugula Pizza</td><td>8</td><td>1956.0</td></tr><tr><td>The Vegetables + Vegetables Pizza</td><td>8</td><td>1923.0</td></tr><tr><td>The Big Meat Pizza</td><td>8</td><td>1920.0</td></tr><tr><td>The Pepper Salami Pizza</td><td>8</td><td>1894.25</td></tr><tr><td>The Pepperoni, Mushroom, and Peppers Pizza</td><td>8</td><td>1792.0</td></tr><tr><td>The Chicken Alfredo Pizza</td><td>8</td><td>1402.25</td></tr><tr><td>The Chicken Pesto Pizza</td><td>8</td><td>1380.75</td></tr><tr><td>The Spinach Pesto Pizza</td><td>8</td><td>1377.0</td></tr><tr><td>The Soppressata Pizza</td><td>8</td><td>1335.0</td></tr><tr><td>The Italian Vegetables Pizza</td><td>8</td><td>1295.5</td></tr><tr><td>The Spinach Supreme Pizza</td><td>8</td><td>1283.0</td></tr><tr><td>The Mediterranean Pizza</td><td>8</td><td>1276.75</td></tr><tr><td>The Calabrese Pizza</td><td>8</td><td>1262.25</td></tr><tr><td>The Green Garden Pizza</td><td>8</td><td>1150.0</td></tr><tr><td>The Brie Carre Pizza</td><td>8</td><td>1016.95</td></tr><tr><td>The Thai Chicken Pizza</td><td>9</td><td>3736.25</td></tr><tr><td>The Barbecue Chicken Pizza</td><td>9</td><td>3380.0</td></tr><tr><td>The Classic Deluxe Pizza</td><td>9</td><td>3257.5</td></tr><tr><td>The California Chicken Pizza</td><td>9</td><td>3088.75</td></tr><tr><td>The Southwest Chicken Pizza</td><td>9</td><td>2950.25</td></tr><tr><td>The Hawaiian Pizza</td><td>9</td><td>2616.25</td></tr><tr><td>The Italian Supreme Pizza</td><td>9</td><td>2488.75</td></tr><tr><td>The Four Cheese Pizza</td><td>9</td><td>2481.85</td></tr><tr><td>The Pepperoni Pizza</td><td>9</td><td>2466.75</td></tr><tr><td>The Spicy Italian Pizza</td><td>9</td><td>2372.5</td></tr><tr><td>The Sicilian Pizza</td><td>9</td><td>2260.0</td></tr><tr><td>The Greek Pizza</td><td>9</td><td>2134.35</td></tr><tr><td>The Five Cheese Pizza</td><td>9</td><td>2127.5</td></tr><tr><td>The Napolitana Pizza</td><td>9</td><td>1986.5</td></tr><tr><td>The Italian Capocollo Pizza</td><td>9</td><td>1981.0</td></tr><tr><td>The Prosciutto and Arugula Pizza</td><td>9</td><td>1871.25</td></tr><tr><td>The Pepper Salami Pizza</td><td>9</td><td>1816.25</td></tr><tr><td>The Mexicana Pizza</td><td>9</td><td>1807.0</td></tr><tr><td>The Spinach and Feta Pizza</td><td>9</td><td>1756.0</td></tr><tr><td>The Vegetables + Vegetables Pizza</td><td>9</td><td>1739.75</td></tr><tr><td>The Big Meat Pizza</td><td>9</td><td>1704.0</td></tr><tr><td>The Pepperoni, Mushroom, and Peppers Pizza</td><td>9</td><td>1686.5</td></tr><tr><td>The Chicken Pesto Pizza</td><td>9</td><td>1483.0</td></tr><tr><td>The Spinach Pesto Pizza</td><td>9</td><td>1409.25</td></tr><tr><td>The Chicken Alfredo Pizza</td><td>9</td><td>1400.75</td></tr><tr><td>The Mediterranean Pizza</td><td>9</td><td>1268.25</td></tr><tr><td>The Green Garden Pizza</td><td>9</td><td>1254.0</td></tr><tr><td>The Italian Vegetables Pizza</td><td>9</td><td>1169.0</td></tr><tr><td>The Brie Carre Pizza</td><td>9</td><td>1158.85</td></tr><tr><td>The Spinach Supreme Pizza</td><td>9</td><td>1116.25</td></tr><tr><td>The Soppressata Pizza</td><td>9</td><td>1107.25</td></tr><tr><td>The Calabrese Pizza</td><td>9</td><td>1104.5</td></tr><tr><td>The Thai Chicken Pizza</td><td>10</td><td>3503.25</td></tr><tr><td>The Classic Deluxe Pizza</td><td>10</td><td>3075.5</td></tr><tr><td>The Barbecue Chicken Pizza</td><td>10</td><td>2946.0</td></tr><tr><td>The Southwest Chicken Pizza</td><td>10</td><td>2891.25</td></tr><tr><td>The Four Cheese Pizza</td><td>10</td><td>2870.35</td></tr><tr><td>The California Chicken Pizza</td><td>10</td><td>2833.5</td></tr><tr><td>The Spicy Italian Pizza</td><td>10</td><td>2707.25</td></tr><tr><td>The Sicilian Pizza</td><td>10</td><td>2678.0</td></tr><tr><td>The Hawaiian Pizza</td><td>10</td><td>2514.75</td></tr><tr><td>The Pepperoni Pizza</td><td>10</td><td>2471.0</td></tr><tr><td>The Italian Supreme Pizza</td><td>10</td><td>2446.5</td></tr><tr><td>The Prosciutto and Arugula Pizza</td><td>10</td><td>2333.25</td></tr><tr><td>The Pepper Salami Pizza</td><td>10</td><td>2238.25</td></tr><tr><td>The Greek Pizza</td><td>10</td><td>2127.9</td></tr><tr><td>The Napolitana Pizza</td><td>10</td><td>2121.0</td></tr><tr><td>The Five Cheese Pizza</td><td>10</td><td>2090.5</td></tr><tr><td>The Mexicana Pizza</td><td>10</td><td>2024.25</td></tr><tr><td>The Italian Capocollo Pizza</td><td>10</td><td>1813.0</td></tr><tr><td>The Big Meat Pizza</td><td>10</td><td>1812.0</td></tr><tr><td>The Vegetables + Vegetables Pizza</td><td>10</td><td>1584.75</td></tr><tr><td>The Soppressata Pizza</td><td>10</td><td>1488.5</td></tr><tr><td>The Pepperoni, Mushroom, and Peppers Pizza</td><td>10</td><td>1474.0</td></tr><tr><td>The Spinach and Feta Pizza</td><td>10</td><td>1435.0</td></tr><tr><td>The Calabrese Pizza</td><td>10</td><td>1372.25</td></tr><tr><td>The Chicken Alfredo Pizza</td><td>10</td><td>1364.0</td></tr><tr><td>The Italian Vegetables Pizza</td><td>10</td><td>1337.5</td></tr><tr><td>The Chicken Pesto Pizza</td><td>10</td><td>1254.0</td></tr><tr><td>The Spinach Supreme Pizza</td><td>10</td><td>1207.0</td></tr><tr><td>The Green Garden Pizza</td><td>10</td><td>1181.5</td></tr><tr><td>The Mediterranean Pizza</td><td>10</td><td>1073.75</td></tr><tr><td>The Spinach Pesto Pizza</td><td>10</td><td>953.75</td></tr><tr><td>The Brie Carre Pizza</td><td>10</td><td>804.1</td></tr><tr><td>The Barbecue Chicken Pizza</td><td>11</td><td>3881.75</td></tr><tr><td>The Thai Chicken Pizza</td><td>11</td><td>3776.0</td></tr><tr><td>The California Chicken Pizza</td><td>11</td><td>3692.75</td></tr><tr><td>The Classic Deluxe Pizza</td><td>11</td><td>3379.5</td></tr><tr><td>The Italian Supreme Pizza</td><td>11</td><td>3051.0</td></tr><tr><td>The Southwest Chicken Pizza</td><td>11</td><td>3022.0</td></tr><tr><td>The Spicy Italian Pizza</td><td>11</td><td>2999.5</td></tr><tr><td>The Hawaiian Pizza</td><td>11</td><td>2952.75</td></tr><tr><td>The Sicilian Pizza</td><td>11</td><td>2896.5</td></tr><tr><td>The Mexicana Pizza</td><td>11</td><td>2872.5</td></tr><tr><td>The Greek Pizza</td><td>11</td><td>2599.85</td></tr><tr><td>The Four Cheese Pizza</td><td>11</td><td>2536.95</td></tr><tr><td>The Pepperoni Pizza</td><td>11</td><td>2428.0</td></tr><tr><td>The Pepper Salami Pizza</td><td>11</td><td>2227.0</td></tr><tr><td>The Big Meat Pizza</td><td>11</td><td>2088.0</td></tr><tr><td>The Prosciutto and Arugula Pizza</td><td>11</td><td>2059.75</td></tr><tr><td>The Five Cheese Pizza</td><td>11</td><td>2016.5</td></tr><tr><td>The Napolitana Pizza</td><td>11</td><td>1953.5</td></tr><tr><td>The Italian Capocollo Pizza</td><td>11</td><td>1949.5</td></tr><tr><td>The Vegetables + Vegetables Pizza</td><td>11</td><td>1936.25</td></tr><tr><td>The Spinach and Feta Pizza</td><td>11</td><td>1925.25</td></tr><tr><td>The Chicken Alfredo Pizza</td><td>11</td><td>1625.75</td></tr><tr><td>The Calabrese Pizza</td><td>11</td><td>1595.5</td></tr><tr><td>The Spinach Pesto Pizza</td><td>11</td><td>1481.0</td></tr><tr><td>The Mediterranean Pizza</td><td>11</td><td>1432.25</td></tr><tr><td>The Chicken Pesto Pizza</td><td>11</td><td>1401.5</td></tr><tr><td>The Soppressata Pizza</td><td>11</td><td>1243.75</td></tr><tr><td>The Pepperoni, Mushroom, and Peppers Pizza</td><td>11</td><td>1234.5</td></tr><tr><td>The Italian Vegetables Pizza</td><td>11</td><td>1170.0</td></tr><tr><td>The Spinach Supreme Pizza</td><td>11</td><td>1136.5</td></tr><tr><td>The Brie Carre Pizza</td><td>11</td><td>993.3</td></tr><tr><td>The Green Garden Pizza</td><td>11</td><td>836.5</td></tr><tr><td>The Thai Chicken Pizza</td><td>12</td><td>3813.0</td></tr><tr><td>The California Chicken Pizza</td><td>12</td><td>3575.25</td></tr><tr><td>The Barbecue Chicken Pizza</td><td>12</td><td>3120.0</td></tr><tr><td>The Classic Deluxe Pizza</td><td>12</td><td>3096.5</td></tr><tr><td>The Hawaiian Pizza</td><td>12</td><td>2816.75</td></tr><tr><td>The Four Cheese Pizza</td><td>12</td><td>2731.2</td></tr><tr><td>The Spicy Italian Pizza</td><td>12</td><td>2708.75</td></tr><tr><td>The Italian Supreme Pizza</td><td>12</td><td>2592.0</td></tr><tr><td>The Southwest Chicken Pizza</td><td>12</td><td>2585.75</td></tr><tr><td>The Sicilian Pizza</td><td>12</td><td>2571.75</td></tr><tr><td>The Vegetables + Vegetables Pizza</td><td>12</td><td>2330.5</td></tr><tr><td>The Pepperoni Pizza</td><td>12</td><td>2293.0</td></tr><tr><td>The Italian Capocollo Pizza</td><td>12</td><td>2122.0</td></tr><tr><td>The Greek Pizza</td><td>12</td><td>2109.45</td></tr><tr><td>The Pepper Salami Pizza</td><td>12</td><td>2065.5</td></tr><tr><td>The Mexicana Pizza</td><td>12</td><td>2030.75</td></tr><tr><td>The Spinach and Feta Pizza</td><td>12</td><td>1897.25</td></tr><tr><td>The Big Meat Pizza</td><td>12</td><td>1884.0</td></tr><tr><td>The Prosciutto and Arugula Pizza</td><td>12</td><td>1847.75</td></tr><tr><td>The Napolitana Pizza</td><td>12</td><td>1666.5</td></tr><tr><td>The Five Cheese Pizza</td><td>12</td><td>1646.5</td></tr><tr><td>The Pepperoni, Mushroom, and Peppers Pizza</td><td>12</td><td>1414.5</td></tr><tr><td>The Italian Vegetables Pizza</td><td>12</td><td>1383.25</td></tr><tr><td>The Chicken Pesto Pizza</td><td>12</td><td>1373.5</td></tr><tr><td>The Mediterranean Pizza</td><td>12</td><td>1363.5</td></tr><tr><td>The Chicken Alfredo Pizza</td><td>12</td><td>1272.25</td></tr><tr><td>The Spinach Supreme Pizza</td><td>12</td><td>1173.25</td></tr><tr><td>The Spinach Pesto Pizza</td><td>12</td><td>1169.25</td></tr><tr><td>The Soppressata Pizza</td><td>12</td><td>1157.5</td></tr><tr><td>The Calabrese Pizza</td><td>12</td><td>1144.25</td></tr><tr><td>The Green Garden Pizza</td><td>12</td><td>918.0</td></tr><tr><td>The Brie Carre Pizza</td><td>12</td><td>827.75</td></tr></tbody></table></div>"
      ]
     },
     "metadata": {
      "application/vnd.databricks.v1+output": {
       "addedWidgets": {},
       "aggData": [],
       "aggError": "",
       "aggOverflow": false,
       "aggSchema": [],
       "aggSeriesLimitReached": false,
       "aggType": "",
       "arguments": {},
       "columnCustomDisplayInfos": {},
       "data": [
        [
         "The Barbecue Chicken Pizza",
         1,
         3770.25
        ],
        [
         "The Thai Chicken Pizza",
         1,
         3657.25
        ],
        [
         "The California Chicken Pizza",
         1,
         3471.5
        ],
        [
         "The Pepperoni Pizza",
         1,
         3001.25
        ],
        [
         "The Sicilian Pizza",
         1,
         2987.75
        ],
        [
         "The Italian Supreme Pizza",
         1,
         2954.75
        ],
        [
         "The Classic Deluxe Pizza",
         1,
         2941.5
        ],
        [
         "The Spicy Italian Pizza",
         1,
         2762.0
        ],
        [
         "The Four Cheese Pizza",
         1,
         2671.65
        ],
        [
         "The Five Cheese Pizza",
         1,
         2553.0
        ],
        [
         "The Greek Pizza",
         1,
         2539.4
        ],
        [
         "The Southwest Chicken Pizza",
         1,
         2495.5
        ],
        [
         "The Hawaiian Pizza",
         1,
         2442.75
        ],
        [
         "The Mexicana Pizza",
         1,
         2358.25
        ],
        [
         "The Pepper Salami Pizza",
         1,
         2342.25
        ],
        [
         "The Napolitana Pizza",
         1,
         2306.5
        ],
        [
         "The Vegetables + Vegetables Pizza",
         1,
         2289.5
        ],
        [
         "The Prosciutto and Arugula Pizza",
         1,
         2218.0
        ],
        [
         "The Italian Capocollo Pizza",
         1,
         2153.0
        ],
        [
         "The Spinach and Feta Pizza",
         1,
         2047.25
        ],
        [
         "The Big Meat Pizza",
         1,
         1800.0
        ],
        [
         "The Italian Vegetables Pizza",
         1,
         1653.5
        ],
        [
         "The Chicken Alfredo Pizza",
         1,
         1456.5
        ],
        [
         "The Pepperoni, Mushroom, and Peppers Pizza",
         1,
         1435.0
        ],
        [
         "The Spinach Supreme Pizza",
         1,
         1357.0
        ],
        [
         "The Chicken Pesto Pizza",
         1,
         1337.75
        ],
        [
         "The Soppressata Pizza",
         1,
         1323.5
        ],
        [
         "The Spinach Pesto Pizza",
         1,
         1269.25
        ],
        [
         "The Calabrese Pizza",
         1,
         1156.75
        ],
        [
         "The Mediterranean Pizza",
         1,
         1147.5
        ],
        [
         "The Green Garden Pizza",
         1,
         1065.5
        ],
        [
         "The Brie Carre Pizza",
         1,
         827.75
        ],
        [
         "The California Chicken Pizza",
         2,
         3537.0
        ],
        [
         "The Barbecue Chicken Pizza",
         2,
         3416.75
        ],
        [
         "The Thai Chicken Pizza",
         2,
         3009.25
        ],
        [
         "The Southwest Chicken Pizza",
         2,
         2804.25
        ],
        [
         "The Four Cheese Pizza",
         2,
         2734.4
        ],
        [
         "The Classic Deluxe Pizza",
         2,
         2705.0
        ],
        [
         "The Spicy Italian Pizza",
         2,
         2646.25
        ],
        [
         "The Hawaiian Pizza",
         2,
         2633.0
        ],
        [
         "The Sicilian Pizza",
         2,
         2560.0
        ],
        [
         "The Italian Supreme Pizza",
         2,
         2555.25
        ],
        [
         "The Pepperoni Pizza",
         2,
         2554.25
        ],
        [
         "The Vegetables + Vegetables Pizza",
         2,
         2283.25
        ],
        [
         "The Greek Pizza",
         2,
         2112.35
        ],
        [
         "The Five Cheese Pizza",
         2,
         2090.5
        ],
        [
         "The Italian Capocollo Pizza",
         2,
         2079.0
        ],
        [
         "The Prosciutto and Arugula Pizza",
         2,
         2005.75
        ],
        [
         "The Mexicana Pizza",
         2,
         1915.5
        ],
        [
         "The Napolitana Pizza",
         2,
         1910.5
        ],
        [
         "The Pepper Salami Pizza",
         2,
         1862.25
        ],
        [
         "The Big Meat Pizza",
         2,
         1812.0
        ],
        [
         "The Spinach and Feta Pizza",
         2,
         1695.25
        ],
        [
         "The Pepperoni, Mushroom, and Peppers Pizza",
         2,
         1530.0
        ],
        [
         "The Calabrese Pizza",
         2,
         1461.5
        ],
        [
         "The Chicken Pesto Pizza",
         2,
         1433.5
        ],
        [
         "The Italian Vegetables Pizza",
         2,
         1396.5
        ],
        [
         "The Spinach Supreme Pizza",
         2,
         1298.0
        ],
        [
         "The Soppressata Pizza",
         2,
         1289.25
        ],
        [
         "The Chicken Alfredo Pizza",
         2,
         1267.5
        ],
        [
         "The Green Garden Pizza",
         2,
         1226.5
        ],
        [
         "The Spinach Pesto Pizza",
         2,
         1211.0
        ],
        [
         "The Mediterranean Pizza",
         2,
         1083.5
        ],
        [
         "The Brie Carre Pizza",
         2,
         1040.6
        ],
        [
         "The Barbecue Chicken Pizza",
         3,
         4049.25
        ],
        [
         "The Thai Chicken Pizza",
         3,
         3843.75
        ],
        [
         "The California Chicken Pizza",
         3,
         3457.5
        ],
        [
         "The Spicy Italian Pizza",
         3,
         3205.75
        ],
        [
         "The Classic Deluxe Pizza",
         3,
         3168.0
        ],
        [
         "The Southwest Chicken Pizza",
         3,
         3155.25
        ],
        [
         "The Hawaiian Pizza",
         3,
         2878.5
        ],
        [
         "The Four Cheese Pizza",
         3,
         2811.35
        ],
        [
         "The Italian Supreme Pizza",
         3,
         2665.0
        ],
        [
         "The Sicilian Pizza",
         3,
         2442.75
        ],
        [
         "The Mexicana Pizza",
         3,
         2388.75
        ],
        [
         "The Pepperoni Pizza",
         3,
         2323.75
        ],
        [
         "The Five Cheese Pizza",
         3,
         2312.5
        ],
        [
         "The Vegetables + Vegetables Pizza",
         3,
         2201.75
        ],
        [
         "The Greek Pizza",
         3,
         2189.85
        ],
        [
         "The Pepper Salami Pizza",
         3,
         2184.5
        ],
        [
         "The Spinach and Feta Pizza",
         3,
         2146.25
        ],
        [
         "The Prosciutto and Arugula Pizza",
         3,
         2137.25
        ],
        [
         "The Big Meat Pizza",
         3,
         2112.0
        ],
        [
         "The Italian Capocollo Pizza",
         3,
         2084.5
        ],
        [
         "The Chicken Alfredo Pizza",
         3,
         1779.0
        ],
        [
         "The Napolitana Pizza",
         3,
         1774.0
        ],
        [
         "The Pepperoni, Mushroom, and Peppers Pizza",
         3,
         1586.0
        ],
        [
         "The Spinach Pesto Pizza",
         3,
         1513.75
        ],
        [
         "The Italian Vegetables Pizza",
         3,
         1397.25
        ],
        [
         "The Chicken Pesto Pizza",
         3,
         1340.75
        ],
        [
         "The Soppressata Pizza",
         3,
         1335.0
        ],
        [
         "The Mediterranean Pizza",
         3,
         1301.0
        ],
        [
         "The Green Garden Pizza",
         3,
         1262.75
        ],
        [
         "The Spinach Supreme Pizza",
         3,
         1153.25
        ],
        [
         "The Calabrese Pizza",
         3,
         1108.25
        ],
        [
         "The Brie Carre Pizza",
         3,
         1087.9
        ],
        [
         "The Barbecue Chicken Pizza",
         4,
         3788.5
        ],
        [
         "The Thai Chicken Pizza",
         4,
         3686.0
        ],
        [
         "The Classic Deluxe Pizza",
         4,
         3342.5
        ],
        [
         "The Southwest Chicken Pizza",
         4,
         3096.25
        ],
        [
         "The California Chicken Pizza",
         4,
         3092.0
        ],
        [
         "The Greek Pizza",
         4,
         3088.3
        ],
        [
         "The Italian Supreme Pizza",
         4,
         3079.5
        ],
        [
         "The Hawaiian Pizza",
         4,
         2867.75
        ],
        [
         "The Spicy Italian Pizza",
         4,
         2758.25
        ],
        [
         "The Four Cheese Pizza",
         4,
         2744.7
        ],
        [
         "The Sicilian Pizza",
         4,
         2434.75
        ],
        [
         "The Mexicana Pizza",
         4,
         2396.0
        ],
        [
         "The Pepper Salami Pizza",
         4,
         2362.75
        ],
        [
         "The Italian Capocollo Pizza",
         4,
         2260.0
        ],
        [
         "The Pepperoni Pizza",
         4,
         2112.75
        ],
        [
         "The Vegetables + Vegetables Pizza",
         4,
         2095.25
        ],
        [
         "The Five Cheese Pizza",
         4,
         1979.5
        ],
        [
         "The Napolitana Pizza",
         4,
         1929.5
        ],
        [
         "The Spinach and Feta Pizza",
         4,
         1878.25
        ],
        [
         "The Prosciutto and Arugula Pizza",
         4,
         1789.25
        ],
        [
         "The Big Meat Pizza",
         4,
         1668.0
        ],
        [
         "The Soppressata Pizza",
         4,
         1638.5
        ],
        [
         "The Chicken Pesto Pizza",
         4,
         1550.75
        ],
        [
         "The Pepperoni, Mushroom, and Peppers Pizza",
         4,
         1548.0
        ],
        [
         "The Spinach Supreme Pizza",
         4,
         1443.0
        ],
        [
         "The Italian Vegetables Pizza",
         4,
         1404.75
        ],
        [
         "The Calabrese Pizza",
         4,
         1380.75
        ],
        [
         "The Chicken Alfredo Pizza",
         4,
         1259.5
        ],
        [
         "The Mediterranean Pizza",
         4,
         1246.0
        ],
        [
         "The Green Garden Pizza",
         4,
         1145.75
        ],
        [
         "The Spinach Pesto Pizza",
         4,
         913.25
        ],
        [
         "The Brie Carre Pizza",
         4,
         756.8
        ],
        [
         "The Barbecue Chicken Pizza",
         5,
         3953.5
        ],
        [
         "The California Chicken Pizza",
         5,
         3561.25
        ],
        [
         "The Thai Chicken Pizza",
         5,
         3558.25
        ],
        [
         "The Classic Deluxe Pizza",
         5,
         3444.0
        ],
        [
         "The Spicy Italian Pizza",
         5,
         3430.75
        ],
        [
         "The Italian Supreme Pizza",
         5,
         3142.25
        ],
        [
         "The Four Cheese Pizza",
         5,
         3052.5
        ],
        [
         "The Pepperoni Pizza",
         5,
         2998.75
        ],
        [
         "The Southwest Chicken Pizza",
         5,
         2860.25
        ],
        [
         "The Hawaiian Pizza",
         5,
         2688.0
        ],
        [
         "The Greek Pizza",
         5,
         2488.35
        ],
        [
         "The Sicilian Pizza",
         5,
         2433.5
        ],
        [
         "The Five Cheese Pizza",
         5,
         2294.0
        ],
        [
         "The Big Meat Pizza",
         5,
         2280.0
        ],
        [
         "The Spinach and Feta Pizza",
         5,
         2231.75
        ],
        [
         "The Pepper Salami Pizza",
         5,
         2056.0
        ],
        [
         "The Italian Capocollo Pizza",
         5,
         2018.5
        ],
        [
         "The Prosciutto and Arugula Pizza",
         5,
         1886.5
        ],
        [
         "The Mexicana Pizza",
         5,
         1879.75
        ],
        [
         "The Napolitana Pizza",
         5,
         1846.5
        ],
        [
         "The Vegetables + Vegetables Pizza",
         5,
         1719.0
        ],
        [
         "The Pepperoni, Mushroom, and Peppers Pizza",
         5,
         1659.0
        ],
        [
         "The Spinach Pesto Pizza",
         5,
         1551.25
        ],
        [
         "The Soppressata Pizza",
         5,
         1505.0
        ],
        [
         "The Mediterranean Pizza",
         5,
         1500.0
        ],
        [
         "The Chicken Alfredo Pizza",
         5,
         1439.75
        ],
        [
         "The Italian Vegetables Pizza",
         5,
         1425.25
        ],
        [
         "The Calabrese Pizza",
         5,
         1393.0
        ],
        [
         "The Spinach Supreme Pizza",
         5,
         1380.75
        ],
        [
         "The Chicken Pesto Pizza",
         5,
         1379.25
        ],
        [
         "The Green Garden Pizza",
         5,
         1258.25
        ],
        [
         "The Brie Carre Pizza",
         5,
         1087.9
        ],
        [
         "The California Chicken Pizza",
         6,
         3870.5
        ],
        [
         "The Thai Chicken Pizza",
         6,
         3505.0
        ],
        [
         "The Barbecue Chicken Pizza",
         6,
         3377.5
        ],
        [
         "The Classic Deluxe Pizza",
         6,
         3029.0
        ],
        [
         "The Spicy Italian Pizza",
         6,
         2985.75
        ],
        [
         "The Italian Supreme Pizza",
         6,
         2958.75
        ],
        [
         "The Sicilian Pizza",
         6,
         2653.75
        ],
        [
         "The Southwest Chicken Pizza",
         6,
         2584.0
        ],
        [
         "The Hawaiian Pizza",
         6,
         2563.75
        ],
        [
         "The Four Cheese Pizza",
         6,
         2515.8
        ],
        [
         "The Greek Pizza",
         6,
         2394.9
        ],
        [
         "The Five Cheese Pizza",
         6,
         2294.0
        ],
        [
         "The Napolitana Pizza",
         6,
         2291.5
        ],
        [
         "The Pepper Salami Pizza",
         6,
         2266.5
        ],
        [
         "The Italian Capocollo Pizza",
         6,
         2247.5
        ],
        [
         "The Mexicana Pizza",
         6,
         2230.75
        ],
        [
         "The Pepperoni Pizza",
         6,
         2055.25
        ],
        [
         "The Vegetables + Vegetables Pizza",
         6,
         1973.5
        ],
        [
         "The Spinach and Feta Pizza",
         6,
         1881.0
        ],
        [
         "The Prosciutto and Arugula Pizza",
         6,
         1876.75
        ],
        [
         "The Pepperoni, Mushroom, and Peppers Pizza",
         6,
         1786.0
        ],
        [
         "The Big Meat Pizza",
         6,
         1668.0
        ],
        [
         "The Calabrese Pizza",
         6,
         1526.5
        ],
        [
         "The Soppressata Pizza",
         6,
         1526.5
        ],
        [
         "The Spinach Pesto Pizza",
         6,
         1485.5
        ],
        [
         "The Chicken Alfredo Pizza",
         6,
         1410.25
        ],
        [
         "The Spinach Supreme Pizza",
         6,
         1356.75
        ],
        [
         "The Chicken Pesto Pizza",
         6,
         1339.25
        ],
        [
         "The Green Garden Pizza",
         6,
         1230.5
        ],
        [
         "The Mediterranean Pizza",
         6,
         1214.75
        ],
        [
         "The Italian Vegetables Pizza",
         6,
         1184.75
        ],
        [
         "The Brie Carre Pizza",
         6,
         946.0
        ],
        [
         "The Thai Chicken Pizza",
         7,
         4073.75
        ],
        [
         "The Barbecue Chicken Pizza",
         7,
         3784.25
        ],
        [
         "The Classic Deluxe Pizza",
         7,
         3554.5
        ],
        [
         "The Spicy Italian Pizza",
         7,
         3459.0
        ],
        [
         "The California Chicken Pizza",
         7,
         3252.25
        ],
        [
         "The Southwest Chicken Pizza",
         7,
         3241.5
        ],
        [
         "The Pepperoni Pizza",
         7,
         2819.25
        ],
        [
         "The Four Cheese Pizza",
         7,
         2770.3
        ],
        [
         "The Mexicana Pizza",
         7,
         2643.25
        ],
        [
         "The Hawaiian Pizza",
         7,
         2620.25
        ],
        [
         "The Five Cheese Pizza",
         7,
         2571.5
        ],
        [
         "The Italian Supreme Pizza",
         7,
         2540.5
        ],
        [
         "The Sicilian Pizza",
         7,
         2473.75
        ],
        [
         "The Greek Pizza",
         7,
         2425.0
        ],
        [
         "The Italian Capocollo Pizza",
         7,
         2301.5
        ],
        [
         "The Vegetables + Vegetables Pizza",
         7,
         2298.25
        ],
        [
         "The Big Meat Pizza",
         7,
         2220.0
        ],
        [
         "The Pepper Salami Pizza",
         7,
         2213.5
        ],
        [
         "The Prosciutto and Arugula Pizza",
         7,
         2211.75
        ],
        [
         "The Spinach and Feta Pizza",
         7,
         2059.0
        ],
        [
         "The Napolitana Pizza",
         7,
         2023.5
        ],
        [
         "The Pepperoni, Mushroom, and Peppers Pizza",
         7,
         1689.0
        ],
        [
         "The Soppressata Pizza",
         7,
         1476.0
        ],
        [
         "The Mediterranean Pizza",
         7,
         1453.25
        ],
        [
         "The Calabrese Pizza",
         7,
         1428.75
        ],
        [
         "The Chicken Pesto Pizza",
         7,
         1427.75
        ],
        [
         "The Green Garden Pizza",
         7,
         1426.5
        ],
        [
         "The Spinach Supreme Pizza",
         7,
         1373.0
        ],
        [
         "The Spinach Pesto Pizza",
         7,
         1261.75
        ],
        [
         "The Chicken Alfredo Pizza",
         7,
         1222.75
        ],
        [
         "The Italian Vegetables Pizza",
         7,
         1202.0
        ],
        [
         "The Brie Carre Pizza",
         7,
         1040.6
        ],
        [
         "The California Chicken Pizza",
         8,
         3977.25
        ],
        [
         "The Barbecue Chicken Pizza",
         8,
         3300.25
        ],
        [
         "The Thai Chicken Pizza",
         8,
         3272.5
        ],
        [
         "The Classic Deluxe Pizza",
         8,
         3187.0
        ],
        [
         "The Southwest Chicken Pizza",
         8,
         3019.5
        ],
        [
         "The Italian Supreme Pizza",
         8,
         3002.5
        ],
        [
         "The Spicy Italian Pizza",
         8,
         2795.5
        ],
        [
         "The Hawaiian Pizza",
         8,
         2678.75
        ],
        [
         "The Pepperoni Pizza",
         8,
         2637.75
        ],
        [
         "The Sicilian Pizza",
         8,
         2548.0
        ],
        [
         "The Four Cheese Pizza",
         8,
         2344.65
        ],
        [
         "The Spinach and Feta Pizza",
         8,
         2319.0
        ],
        [
         "The Napolitana Pizza",
         8,
         2277.5
        ],
        [
         "The Greek Pizza",
         8,
         2244.4
        ],
        [
         "The Mexicana Pizza",
         8,
         2234.0
        ],
        [
         "The Five Cheese Pizza",
         8,
         2090.5
        ],
        [
         "The Italian Capocollo Pizza",
         8,
         2084.5
        ],
        [
         "The Prosciutto and Arugula Pizza",
         8,
         1956.0
        ],
        [
         "The Vegetables + Vegetables Pizza",
         8,
         1923.0
        ],
        [
         "The Big Meat Pizza",
         8,
         1920.0
        ],
        [
         "The Pepper Salami Pizza",
         8,
         1894.25
        ],
        [
         "The Pepperoni, Mushroom, and Peppers Pizza",
         8,
         1792.0
        ],
        [
         "The Chicken Alfredo Pizza",
         8,
         1402.25
        ],
        [
         "The Chicken Pesto Pizza",
         8,
         1380.75
        ],
        [
         "The Spinach Pesto Pizza",
         8,
         1377.0
        ],
        [
         "The Soppressata Pizza",
         8,
         1335.0
        ],
        [
         "The Italian Vegetables Pizza",
         8,
         1295.5
        ],
        [
         "The Spinach Supreme Pizza",
         8,
         1283.0
        ],
        [
         "The Mediterranean Pizza",
         8,
         1276.75
        ],
        [
         "The Calabrese Pizza",
         8,
         1262.25
        ],
        [
         "The Green Garden Pizza",
         8,
         1150.0
        ],
        [
         "The Brie Carre Pizza",
         8,
         1016.95
        ],
        [
         "The Thai Chicken Pizza",
         9,
         3736.25
        ],
        [
         "The Barbecue Chicken Pizza",
         9,
         3380.0
        ],
        [
         "The Classic Deluxe Pizza",
         9,
         3257.5
        ],
        [
         "The California Chicken Pizza",
         9,
         3088.75
        ],
        [
         "The Southwest Chicken Pizza",
         9,
         2950.25
        ],
        [
         "The Hawaiian Pizza",
         9,
         2616.25
        ],
        [
         "The Italian Supreme Pizza",
         9,
         2488.75
        ],
        [
         "The Four Cheese Pizza",
         9,
         2481.85
        ],
        [
         "The Pepperoni Pizza",
         9,
         2466.75
        ],
        [
         "The Spicy Italian Pizza",
         9,
         2372.5
        ],
        [
         "The Sicilian Pizza",
         9,
         2260.0
        ],
        [
         "The Greek Pizza",
         9,
         2134.35
        ],
        [
         "The Five Cheese Pizza",
         9,
         2127.5
        ],
        [
         "The Napolitana Pizza",
         9,
         1986.5
        ],
        [
         "The Italian Capocollo Pizza",
         9,
         1981.0
        ],
        [
         "The Prosciutto and Arugula Pizza",
         9,
         1871.25
        ],
        [
         "The Pepper Salami Pizza",
         9,
         1816.25
        ],
        [
         "The Mexicana Pizza",
         9,
         1807.0
        ],
        [
         "The Spinach and Feta Pizza",
         9,
         1756.0
        ],
        [
         "The Vegetables + Vegetables Pizza",
         9,
         1739.75
        ],
        [
         "The Big Meat Pizza",
         9,
         1704.0
        ],
        [
         "The Pepperoni, Mushroom, and Peppers Pizza",
         9,
         1686.5
        ],
        [
         "The Chicken Pesto Pizza",
         9,
         1483.0
        ],
        [
         "The Spinach Pesto Pizza",
         9,
         1409.25
        ],
        [
         "The Chicken Alfredo Pizza",
         9,
         1400.75
        ],
        [
         "The Mediterranean Pizza",
         9,
         1268.25
        ],
        [
         "The Green Garden Pizza",
         9,
         1254.0
        ],
        [
         "The Italian Vegetables Pizza",
         9,
         1169.0
        ],
        [
         "The Brie Carre Pizza",
         9,
         1158.85
        ],
        [
         "The Spinach Supreme Pizza",
         9,
         1116.25
        ],
        [
         "The Soppressata Pizza",
         9,
         1107.25
        ],
        [
         "The Calabrese Pizza",
         9,
         1104.5
        ],
        [
         "The Thai Chicken Pizza",
         10,
         3503.25
        ],
        [
         "The Classic Deluxe Pizza",
         10,
         3075.5
        ],
        [
         "The Barbecue Chicken Pizza",
         10,
         2946.0
        ],
        [
         "The Southwest Chicken Pizza",
         10,
         2891.25
        ],
        [
         "The Four Cheese Pizza",
         10,
         2870.35
        ],
        [
         "The California Chicken Pizza",
         10,
         2833.5
        ],
        [
         "The Spicy Italian Pizza",
         10,
         2707.25
        ],
        [
         "The Sicilian Pizza",
         10,
         2678.0
        ],
        [
         "The Hawaiian Pizza",
         10,
         2514.75
        ],
        [
         "The Pepperoni Pizza",
         10,
         2471.0
        ],
        [
         "The Italian Supreme Pizza",
         10,
         2446.5
        ],
        [
         "The Prosciutto and Arugula Pizza",
         10,
         2333.25
        ],
        [
         "The Pepper Salami Pizza",
         10,
         2238.25
        ],
        [
         "The Greek Pizza",
         10,
         2127.9
        ],
        [
         "The Napolitana Pizza",
         10,
         2121.0
        ],
        [
         "The Five Cheese Pizza",
         10,
         2090.5
        ],
        [
         "The Mexicana Pizza",
         10,
         2024.25
        ],
        [
         "The Italian Capocollo Pizza",
         10,
         1813.0
        ],
        [
         "The Big Meat Pizza",
         10,
         1812.0
        ],
        [
         "The Vegetables + Vegetables Pizza",
         10,
         1584.75
        ],
        [
         "The Soppressata Pizza",
         10,
         1488.5
        ],
        [
         "The Pepperoni, Mushroom, and Peppers Pizza",
         10,
         1474.0
        ],
        [
         "The Spinach and Feta Pizza",
         10,
         1435.0
        ],
        [
         "The Calabrese Pizza",
         10,
         1372.25
        ],
        [
         "The Chicken Alfredo Pizza",
         10,
         1364.0
        ],
        [
         "The Italian Vegetables Pizza",
         10,
         1337.5
        ],
        [
         "The Chicken Pesto Pizza",
         10,
         1254.0
        ],
        [
         "The Spinach Supreme Pizza",
         10,
         1207.0
        ],
        [
         "The Green Garden Pizza",
         10,
         1181.5
        ],
        [
         "The Mediterranean Pizza",
         10,
         1073.75
        ],
        [
         "The Spinach Pesto Pizza",
         10,
         953.75
        ],
        [
         "The Brie Carre Pizza",
         10,
         804.1
        ],
        [
         "The Barbecue Chicken Pizza",
         11,
         3881.75
        ],
        [
         "The Thai Chicken Pizza",
         11,
         3776.0
        ],
        [
         "The California Chicken Pizza",
         11,
         3692.75
        ],
        [
         "The Classic Deluxe Pizza",
         11,
         3379.5
        ],
        [
         "The Italian Supreme Pizza",
         11,
         3051.0
        ],
        [
         "The Southwest Chicken Pizza",
         11,
         3022.0
        ],
        [
         "The Spicy Italian Pizza",
         11,
         2999.5
        ],
        [
         "The Hawaiian Pizza",
         11,
         2952.75
        ],
        [
         "The Sicilian Pizza",
         11,
         2896.5
        ],
        [
         "The Mexicana Pizza",
         11,
         2872.5
        ],
        [
         "The Greek Pizza",
         11,
         2599.85
        ],
        [
         "The Four Cheese Pizza",
         11,
         2536.95
        ],
        [
         "The Pepperoni Pizza",
         11,
         2428.0
        ],
        [
         "The Pepper Salami Pizza",
         11,
         2227.0
        ],
        [
         "The Big Meat Pizza",
         11,
         2088.0
        ],
        [
         "The Prosciutto and Arugula Pizza",
         11,
         2059.75
        ],
        [
         "The Five Cheese Pizza",
         11,
         2016.5
        ],
        [
         "The Napolitana Pizza",
         11,
         1953.5
        ],
        [
         "The Italian Capocollo Pizza",
         11,
         1949.5
        ],
        [
         "The Vegetables + Vegetables Pizza",
         11,
         1936.25
        ],
        [
         "The Spinach and Feta Pizza",
         11,
         1925.25
        ],
        [
         "The Chicken Alfredo Pizza",
         11,
         1625.75
        ],
        [
         "The Calabrese Pizza",
         11,
         1595.5
        ],
        [
         "The Spinach Pesto Pizza",
         11,
         1481.0
        ],
        [
         "The Mediterranean Pizza",
         11,
         1432.25
        ],
        [
         "The Chicken Pesto Pizza",
         11,
         1401.5
        ],
        [
         "The Soppressata Pizza",
         11,
         1243.75
        ],
        [
         "The Pepperoni, Mushroom, and Peppers Pizza",
         11,
         1234.5
        ],
        [
         "The Italian Vegetables Pizza",
         11,
         1170.0
        ],
        [
         "The Spinach Supreme Pizza",
         11,
         1136.5
        ],
        [
         "The Brie Carre Pizza",
         11,
         993.3
        ],
        [
         "The Green Garden Pizza",
         11,
         836.5
        ],
        [
         "The Thai Chicken Pizza",
         12,
         3813.0
        ],
        [
         "The California Chicken Pizza",
         12,
         3575.25
        ],
        [
         "The Barbecue Chicken Pizza",
         12,
         3120.0
        ],
        [
         "The Classic Deluxe Pizza",
         12,
         3096.5
        ],
        [
         "The Hawaiian Pizza",
         12,
         2816.75
        ],
        [
         "The Four Cheese Pizza",
         12,
         2731.2
        ],
        [
         "The Spicy Italian Pizza",
         12,
         2708.75
        ],
        [
         "The Italian Supreme Pizza",
         12,
         2592.0
        ],
        [
         "The Southwest Chicken Pizza",
         12,
         2585.75
        ],
        [
         "The Sicilian Pizza",
         12,
         2571.75
        ],
        [
         "The Vegetables + Vegetables Pizza",
         12,
         2330.5
        ],
        [
         "The Pepperoni Pizza",
         12,
         2293.0
        ],
        [
         "The Italian Capocollo Pizza",
         12,
         2122.0
        ],
        [
         "The Greek Pizza",
         12,
         2109.45
        ],
        [
         "The Pepper Salami Pizza",
         12,
         2065.5
        ],
        [
         "The Mexicana Pizza",
         12,
         2030.75
        ],
        [
         "The Spinach and Feta Pizza",
         12,
         1897.25
        ],
        [
         "The Big Meat Pizza",
         12,
         1884.0
        ],
        [
         "The Prosciutto and Arugula Pizza",
         12,
         1847.75
        ],
        [
         "The Napolitana Pizza",
         12,
         1666.5
        ],
        [
         "The Five Cheese Pizza",
         12,
         1646.5
        ],
        [
         "The Pepperoni, Mushroom, and Peppers Pizza",
         12,
         1414.5
        ],
        [
         "The Italian Vegetables Pizza",
         12,
         1383.25
        ],
        [
         "The Chicken Pesto Pizza",
         12,
         1373.5
        ],
        [
         "The Mediterranean Pizza",
         12,
         1363.5
        ],
        [
         "The Chicken Alfredo Pizza",
         12,
         1272.25
        ],
        [
         "The Spinach Supreme Pizza",
         12,
         1173.25
        ],
        [
         "The Spinach Pesto Pizza",
         12,
         1169.25
        ],
        [
         "The Soppressata Pizza",
         12,
         1157.5
        ],
        [
         "The Calabrese Pizza",
         12,
         1144.25
        ],
        [
         "The Green Garden Pizza",
         12,
         918.0
        ],
        [
         "The Brie Carre Pizza",
         12,
         827.75
        ]
       ],
       "datasetInfos": [],
       "dbfsResultPath": null,
       "isJsonSchema": true,
       "metadata": {},
       "overflow": false,
       "plotOptions": {
        "customPlotOptions": {},
        "displayType": "table",
        "pivotAggregation": null,
        "pivotColumns": null,
        "xColumns": null,
        "yColumns": null
       },
       "removedWidgets": [],
       "schema": [
        {
         "metadata": "{}",
         "name": "Pizza_Name",
         "type": "\"string\""
        },
        {
         "metadata": "{}",
         "name": "Order_Month",
         "type": "\"integer\""
        },
        {
         "metadata": "{}",
         "name": "Total_Sales",
         "type": "\"double\""
        }
       ],
       "type": "table"
      }
     },
     "output_type": "display_data"
    },
    {
     "output_type": "stream",
     "name": "stdout",
     "output_type": "stream",
     "text": [
      "Data Stored in dbfs:/FileStore/output/Pizza_Data_Analysis/MonthwisePizzaSales\n"
     ]
    }
   ],
   "source": [
    "class WorkFlow:\n",
    "    def __init__(self, option, saveoption):\n",
    "        self.option = option\n",
    "        self.saveoption = saveoption\n",
    "\n",
    "    def runner(self):\n",
    "\n",
    "        if self.option == 1:\n",
    "            return FirstWorkFlow(self.saveoption).runner()\n",
    "        elif self.option == 2:\n",
    "            return SecondWorkFlow(self.saveoption).runner()\n",
    "        elif self.option == 3:\n",
    "            return ThirdWorkFlow(self.saveoption).runner()\n",
    "        elif self.option == 4:\n",
    "            return FourthWorkFlow(self.saveoption).runner()\n",
    "        elif self.option == 5:\n",
    "            return FifthWorkFlow(self.saveoption).runner()\n",
    "        elif self.option == 6:\n",
    "            return SixthWorkFlow(self.saveoption).runner()\n",
    "        elif self.option == 7:\n",
    "            return SeventhWorkFlow(self.saveoption).runner()\n",
    "        else:\n",
    "            return f\"Not implemented for {option}\" # using f strings\n",
    "\n",
    "\n",
    "print(\n",
    "    \"Hi, Do you need which data? \\nPlease select from below options\\nOption: 1\\t\\\n",
    "Most sold pizza in Chicken Category month wise\\n\\\n",
    "Option: 2\\t\\\n",
    "Most sold pizza in every Category overall\\n\\\n",
    "Option: 3\\t\\\n",
    "Most sold pizza during 5.00pm to 10.00pm overall\\n\\\n",
    "Option: 4\\t\\\n",
    "Most sold Large Pizza month wise\\n\\\n",
    "Option: 5\\t\\\n",
    "Total amount of small Pizza sold in every category\\n\\\n",
    "Option: 6\\t\\\n",
    "Total amount of Chicken Pizza sales in May month\\n\\\n",
    "Option: 7\\t\\\n",
    "Total amount of Pizza sales in monthwise every pizza sorted by max sold pizza\\n\"\n",
    ")\n",
    "\n",
    "option = int(input(\"Enter the option number: \\t\"))\n",
    "saveoption = input(\"do you want to save your file : yes/no\")\n",
    "\n",
    "\n",
    "workflow = WorkFlow(option, saveoption).runner()"
   ]
  },
  {
   "cell_type": "markdown",
   "metadata": {
    "application/vnd.databricks.v1+cell": {
     "cellMetadata": {
      "byteLimit": 2048000,
      "rowLimit": 10000
     },
     "inputWidgets": {},
     "nuid": "704573ce-a09c-4eb7-a272-be235c6a7cc1",
     "showTitle": false,
     "title": ""
    }
   },
   "source": [
    "<p>Scenario 1</p>\tMost sold pizza in Chicken Category month wise\n",
    "<p>Scenario 2</p>\tMost sold pizza in every Category overall\n",
    "<p>Scenario 3</p>\tMost sold pizza during 5.00pm to 10.00pm overall\n",
    "<p>Scenario 4</p>\tMost sold Large Pizza month wise\n",
    "<p>Scenario 5</p>\tTotal amount of small Pizza sold in every category\n",
    "<p>Scenario 6</p>\tTotal amount of Chicken Pizza sales in May month\n",
    "<p>Scenario 7</p>\tTotal amount of Pizza sales in monthwise every pizza sorted by max sold pizza"
   ]
  },
  {
   "cell_type": "code",
   "execution_count": 0,
   "metadata": {
    "application/vnd.databricks.v1+cell": {
     "cellMetadata": {
      "byteLimit": 2048000,
      "implicitDf": true,
      "rowLimit": 10000
     },
     "inputWidgets": {},
     "nuid": "2419f94d-a3ca-400c-80f5-682a4ce27f2b",
     "showTitle": false,
     "title": ""
    }
   },
   "outputs": [],
   "source": []
  }
 ],
 "metadata": {
  "application/vnd.databricks.v1+notebook": {
   "dashboards": [],
   "environmentMetadata": null,
   "language": "python",
   "notebookMetadata": {
    "mostRecentlyExecutedCommandWithImplicitDF": {
     "commandId": 4027570032785274,
     "dataframes": [
      "_sqldf"
     ]
    },
    "pythonIndentUnit": 4
   },
   "notebookName": "Workflow_Application",
   "widgets": {}
  }
 },
 "nbformat": 4,
 "nbformat_minor": 0
}

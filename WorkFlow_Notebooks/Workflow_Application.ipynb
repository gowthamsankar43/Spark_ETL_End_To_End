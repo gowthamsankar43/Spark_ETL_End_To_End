{
 "cells": [
  {
   "cell_type": "code",
   "execution_count": 0,
   "metadata": {
    "application/vnd.databricks.v1+cell": {
     "cellMetadata": {
      "byteLimit": 2048000,
      "rowLimit": 10000
     },
     "inputWidgets": {},
     "nuid": "6c19b45c-7a8c-40bf-a5d5-b9b266b0c255",
     "showTitle": false,
     "title": ""
    }
   },
   "outputs": [],
   "source": [
    "from pyspark.sql import SparkSession\n",
    "\n",
    "spark = SparkSession.builder.appName(\"PizzaDataAnalysis\").getOrCreate() \n"
   ]
  },
  {
   "cell_type": "code",
   "execution_count": 0,
   "metadata": {
    "application/vnd.databricks.v1+cell": {
     "cellMetadata": {
      "byteLimit": 2048000,
      "rowLimit": 10000
     },
     "inputWidgets": {},
     "nuid": "18800048-3f74-46d6-b045-b4352ef1592a",
     "showTitle": false,
     "title": ""
    }
   },
   "outputs": [],
   "source": [
    "spark.version"
   ]
  },
  {
   "cell_type": "code",
   "execution_count": 0,
   "metadata": {
    "application/vnd.databricks.v1+cell": {
     "cellMetadata": {
      "byteLimit": 2048000,
      "rowLimit": 10000
     },
     "inputWidgets": {},
     "nuid": "09bf6289-b977-4add-b201-c61e17bb8180",
     "showTitle": false,
     "title": ""
    }
   },
   "outputs": [],
   "source": [
    "!python --version"
   ]
  },
  {
   "cell_type": "code",
   "execution_count": 0,
   "metadata": {
    "application/vnd.databricks.v1+cell": {
     "cellMetadata": {
      "byteLimit": 2048000,
      "rowLimit": 10000
     },
     "inputWidgets": {},
     "nuid": "777304df-66a0-4274-8e65-a26b1ecbeb28",
     "showTitle": false,
     "title": ""
    }
   },
   "outputs": [],
   "source": [
    "%run \"./Data_Extractor_Notebook\""
   ]
  },
  {
   "cell_type": "code",
   "execution_count": 0,
   "metadata": {
    "application/vnd.databricks.v1+cell": {
     "cellMetadata": {
      "byteLimit": 2048000,
      "rowLimit": 10000
     },
     "inputWidgets": {},
     "nuid": "a7183b44-a551-40ca-afd4-c39eda93d1d0",
     "showTitle": false,
     "title": ""
    }
   },
   "outputs": [],
   "source": [
    "%run \"./Data_Transform_Notebook\""
   ]
  },
  {
   "cell_type": "code",
   "execution_count": 0,
   "metadata": {
    "application/vnd.databricks.v1+cell": {
     "cellMetadata": {
      "byteLimit": 2048000,
      "rowLimit": 10000
     },
     "inputWidgets": {},
     "nuid": "ab5e8a04-8867-498b-859e-a0aea336ca18",
     "showTitle": false,
     "title": ""
    }
   },
   "outputs": [],
   "source": [
    "%run \"./Data_Loader_Notebook\""
   ]
  },
  {
   "cell_type": "code",
   "execution_count": 0,
   "metadata": {
    "application/vnd.databricks.v1+cell": {
     "cellMetadata": {
      "byteLimit": 2048000,
      "rowLimit": 10000
     },
     "inputWidgets": {},
     "nuid": "1d400102-5446-4a67-aabd-6ed86e68d3ee",
     "showTitle": false,
     "title": ""
    }
   },
   "outputs": [],
   "source": [
    "class FirstWorkFlow:\n",
    "\n",
    "    def __init__(self,saveoption):\n",
    "        self.saveoption = saveoption\n",
    "\n",
    "    def runner(self):\n",
    "\n",
    "        extracting_data = DataSourceExtractor().extract()\n",
    "        transformingData = Transform().requirementOne(extracting_data)\n",
    "        if(self.saveoption == \"yes\"):\n",
    "            MonthwiseChickenCategoryLoad(transformingData).dataload()\n",
    "        else:\n",
    "            print(\"Data is not saved in file system !!!\")\n",
    "\n"
   ]
  },
  {
   "cell_type": "code",
   "execution_count": 0,
   "metadata": {
    "application/vnd.databricks.v1+cell": {
     "cellMetadata": {
      "byteLimit": 2048000,
      "rowLimit": 10000
     },
     "inputWidgets": {},
     "nuid": "c3f8aa47-2894-4936-b227-db39f181c329",
     "showTitle": false,
     "title": ""
    }
   },
   "outputs": [],
   "source": [
    "class SecondWorkFlow:\n",
    "\n",
    "    def __init__(self,saveoption):\n",
    "        self.saveoption = saveoption\n",
    "\n",
    "    def runner(self):\n",
    "\n",
    "        extracting_data = DataSourceExtractor().extract()\n",
    "        transformingData = Transform().requirementTwo(extracting_data)\n",
    "        if(self.saveoption == \"yes\"):\n",
    "            MostSoldPizzaByCategoryOverall(transformingData).dataload()\n",
    "        else:\n",
    "            print(\"Data is not saved in file system !!!\")"
   ]
  },
  {
   "cell_type": "code",
   "execution_count": 0,
   "metadata": {
    "application/vnd.databricks.v1+cell": {
     "cellMetadata": {
      "byteLimit": 2048000,
      "rowLimit": 10000
     },
     "inputWidgets": {},
     "nuid": "4108cdfe-b41e-4d39-b74f-21eefed2bbb8",
     "showTitle": false,
     "title": ""
    }
   },
   "outputs": [],
   "source": [
    "class ThirdWorkFlow:\n",
    "\n",
    "    def __init__(self,saveoption):\n",
    "        self.saveoption = saveoption\n",
    "\n",
    "    def runner(self):\n",
    "\n",
    "        extracting_data = DataSourceExtractor().extract()\n",
    "        transformingData = Transform().requirementThree(extracting_data)\n",
    "        if(self.saveoption == \"yes\"):\n",
    "            MostSoldPizzaBetweenTimeMonthwise(transformingData).dataload()\n",
    "        else:\n",
    "            print(\"Data is not saved in file system !!!\")"
   ]
  },
  {
   "cell_type": "code",
   "execution_count": 0,
   "metadata": {
    "application/vnd.databricks.v1+cell": {
     "cellMetadata": {
      "byteLimit": 2048000,
      "rowLimit": 10000
     },
     "inputWidgets": {},
     "nuid": "4ab490c9-4ee0-456a-92d3-47586ad6a466",
     "showTitle": false,
     "title": ""
    }
   },
   "outputs": [],
   "source": [
    "class FourthWorkFlow:\n",
    "\n",
    "    def __init__(self,saveoption):\n",
    "        self.saveoption = saveoption\n",
    "\n",
    "    def runner(self):\n",
    "\n",
    "        extracting_data = DataSourceExtractor().extract()\n",
    "        transformingData = Transform().requirementFour(extracting_data)\n",
    "        if(self.saveoption == \"yes\"):\n",
    "            MostSoldLargePizzaMonthwise(transformingData).dataload()\n",
    "        else:\n",
    "            print(\"Data is not saved in file system !!!\")"
   ]
  },
  {
   "cell_type": "code",
   "execution_count": 0,
   "metadata": {
    "application/vnd.databricks.v1+cell": {
     "cellMetadata": {
      "byteLimit": 2048000,
      "rowLimit": 10000
     },
     "inputWidgets": {},
     "nuid": "ed8539c8-896c-4bcf-bccf-6840effc6b9d",
     "showTitle": false,
     "title": ""
    }
   },
   "outputs": [],
   "source": [
    "class FifthWorkFlow:\n",
    "\n",
    "    def __init__(self,saveoption):\n",
    "        self.saveoption = saveoption\n",
    "\n",
    "    def runner(self):\n",
    "\n",
    "        extracting_data = DataSourceExtractor().extract()\n",
    "        transformingData = Transform().requirementFive(extracting_data)\n",
    "        if(self.saveoption == \"yes\"):\n",
    "            TotalSmallPizzaSalesByCategory(transformingData).dataload()\n",
    "        else:\n",
    "            print(\"Data is not saved in file system !!!\")"
   ]
  },
  {
   "cell_type": "code",
   "execution_count": 0,
   "metadata": {
    "application/vnd.databricks.v1+cell": {
     "cellMetadata": {
      "byteLimit": 2048000,
      "rowLimit": 10000
     },
     "inputWidgets": {},
     "nuid": "c4af6e48-232f-47d5-af8f-9e5ad00070e5",
     "showTitle": false,
     "title": ""
    }
   },
   "outputs": [],
   "source": [
    "class SixthWorkFlow:\n",
    "\n",
    "    def __init__(self,saveoption):\n",
    "        self.saveoption = saveoption\n",
    "\n",
    "    def runner(self):\n",
    "\n",
    "        extracting_data = DataSourceExtractor().extract()\n",
    "        transformingData = Transform().requirementSix(extracting_data)\n",
    "        if(self.saveoption == \"yes\"):\n",
    "            TotalChickenPizzaSalesInMayMonth(transformingData).dataload()\n",
    "        else:\n",
    "            print(\"Data is not saved in file system !!!\")"
   ]
  },
  {
   "cell_type": "code",
   "execution_count": 0,
   "metadata": {
    "application/vnd.databricks.v1+cell": {
     "cellMetadata": {
      "byteLimit": 2048000,
      "rowLimit": 10000
     },
     "inputWidgets": {},
     "nuid": "84951a33-5f23-40ca-b612-e4da844213bb",
     "showTitle": false,
     "title": ""
    }
   },
   "outputs": [],
   "source": [
    "class SeventhWorkFlow:\n",
    "\n",
    "    def __init__(self,saveoption):\n",
    "        self.saveoption = saveoption\n",
    "\n",
    "    def runner(self):\n",
    "\n",
    "        extracting_data = DataSourceExtractor().extract()\n",
    "        transformingData = Transform().requirementSeven(extracting_data)\n",
    "        if(self.saveoption == \"yes\"):\n",
    "            MonthwisePizzaSalesOrderByMax(transformingData).dataload()\n",
    "        else:\n",
    "            print(\"Data is not saved in file system !!!\")"
   ]
  },
  {
   "cell_type": "code",
   "execution_count": 0,
   "metadata": {
    "application/vnd.databricks.v1+cell": {
     "cellMetadata": {
      "byteLimit": 2048000,
      "rowLimit": 10000
     },
     "inputWidgets": {},
     "nuid": "fc8f5b61-8555-4f8e-8a10-4a216a718923",
     "showTitle": false,
     "title": ""
    }
   },
   "outputs": [],
   "source": [
    "class WorkFlow:\n",
    "    def __init__(self, option, saveoption):\n",
    "        self.option = option\n",
    "        self.saveoption = saveoption\n",
    "\n",
    "    def runner(self):\n",
    "\n",
    "        if self.option == 1:\n",
    "            return FirstWorkFlow(self.saveoption).runner()\n",
    "        elif self.option == 2:\n",
    "            return SecondWorkFlow(self.saveoption).runner()\n",
    "        elif self.option == 3:\n",
    "            return ThirdWorkFlow(self.saveoption).runner()\n",
    "        elif self.option == 4:\n",
    "            return FourthWorkFlow(self.saveoption).runner()\n",
    "        elif self.option == 5:\n",
    "            return FifthWorkFlow(self.saveoption).runner()\n",
    "        elif self.option == 6:\n",
    "            return SixthWorkFlow(self.saveoption).runner()\n",
    "        elif self.option == 7:\n",
    "            return SeventhWorkFlow(self.saveoption).runner()\n",
    "        else:\n",
    "            return f\"Not implemented for {option}\" # using f strings\n",
    "\n",
    "\n",
    "print(\n",
    "    \"Hi, Do you need which data? \\nPlease select from below options\\nOption: 1\\t\\\n",
    "Most sold pizza in Chicken Category month wise\\n\\\n",
    "Option: 2\\t\\\n",
    "Most sold pizza in every Category overall\\n\\\n",
    "Option: 3\\t\\\n",
    "Most sold pizza during 5.00pm to 10.00pm overall\\n\\\n",
    "Option: 4\\t\\\n",
    "Most sold Large Pizza month wise\\n\\\n",
    "Option: 5\\t\\\n",
    "Total amount of small Pizza sold in every category\\n\\\n",
    "Option: 6\\t\\\n",
    "Total amount of Chicken Pizza sales in May month\\n\\\n",
    "Option: 7\\t\\\n",
    "Total amount of Pizza sales in monthwise every pizza sorted by max sold pizza\\n\"\n",
    ")\n",
    "\n",
    "option = int(input(\"Enter the option number: \\t\"))\n",
    "saveoption = input(\"do you want to save your file : yes/no\")\n",
    "\n",
    "\n",
    "workflow = WorkFlow(option, saveoption).runner()"
   ]
  },
  {
   "cell_type": "markdown",
   "metadata": {
    "application/vnd.databricks.v1+cell": {
     "cellMetadata": {},
     "inputWidgets": {},
     "nuid": "704573ce-a09c-4eb7-a272-be235c6a7cc1",
     "showTitle": false,
     "title": ""
    }
   },
   "source": [
    "<p>Scenario 1</p>\tMost sold pizza in Chicken Category month wise\n",
    "<p>Scenario 2</p>\tMost sold pizza in every Category overall\n",
    "<p>Scenario 3</p>\tMost sold pizza during 5.00pm to 10.00pm overall\n",
    "<p>Scenario 4</p>\tMost sold Large Pizza month wise\n",
    "<p>Scenario 5</p>\tTotal amount of small Pizza sold in every category\n",
    "<p>Scenario 6</p>\tTotal amount of Chicken Pizza sales in May month\n",
    "<p>Scenario 7</p>\tTotal amount of Pizza sales in monthwise every pizza sorted by max sold pizza"
   ]
  },
  {
   "cell_type": "code",
   "execution_count": 0,
   "metadata": {
    "application/vnd.databricks.v1+cell": {
     "cellMetadata": {
      "byteLimit": 2048000,
      "implicitDf": true,
      "rowLimit": 10000
     },
     "inputWidgets": {},
     "nuid": "2419f94d-a3ca-400c-80f5-682a4ce27f2b",
     "showTitle": false,
     "title": ""
    }
   },
   "outputs": [],
   "source": []
  }
 ],
 "metadata": {
  "application/vnd.databricks.v1+notebook": {
   "dashboards": [],
   "environmentMetadata": {
    "base_environment": "",
    "client": "1"
   },
   "language": "python",
   "notebookMetadata": {
    "mostRecentlyExecutedCommandWithImplicitDF": {
     "commandId": 4027570032785274,
     "dataframes": [
      "_sqldf"
     ]
    },
    "pythonIndentUnit": 4
   },
   "notebookName": "Workflow_Application",
   "widgets": {}
  }
 },
 "nbformat": 4,
 "nbformat_minor": 0
}

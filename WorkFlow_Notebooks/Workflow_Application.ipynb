{
 "cells": [
  {
   "cell_type": "code",
   "execution_count": 0,
   "metadata": {
    "application/vnd.databricks.v1+cell": {
     "cellMetadata": {
      "byteLimit": 2048000,
      "rowLimit": 10000
     },
     "inputWidgets": {},
     "nuid": "6c19b45c-7a8c-40bf-a5d5-b9b266b0c255",
     "showTitle": false,
     "title": ""
    }
   },
   "outputs": [],
   "source": [
    "from pyspark.sql import SparkSession\n",
    "\n",
    "spark = SparkSession.builder.appName(\"PizzaDataAnalysis\").getOrCreate()\n"
   ]
  },
  {
   "cell_type": "code",
   "execution_count": 0,
   "metadata": {
    "application/vnd.databricks.v1+cell": {
     "cellMetadata": {
      "byteLimit": 2048000,
      "rowLimit": 10000
     },
     "inputWidgets": {},
     "nuid": "18800048-3f74-46d6-b045-b4352ef1592a",
     "showTitle": false,
     "title": ""
    }
   },
   "outputs": [
    {
     "output_type": "stream",
     "name": "stdout",
     "output_type": "stream",
     "text": [
      "Out[799]: '3.3.2'"
     ]
    }
   ],
   "source": [
    "spark.version"
   ]
  },
  {
   "cell_type": "code",
   "execution_count": 0,
   "metadata": {
    "application/vnd.databricks.v1+cell": {
     "cellMetadata": {
      "byteLimit": 2048000,
      "rowLimit": 10000
     },
     "inputWidgets": {},
     "nuid": "09bf6289-b977-4add-b201-c61e17bb8180",
     "showTitle": false,
     "title": ""
    }
   },
   "outputs": [
    {
     "output_type": "stream",
     "name": "stdout",
     "output_type": "stream",
     "text": [
      "Python 3.9.19\r\n"
     ]
    }
   ],
   "source": [
    "!python --version"
   ]
  },
  {
   "cell_type": "code",
   "execution_count": 0,
   "metadata": {
    "application/vnd.databricks.v1+cell": {
     "cellMetadata": {
      "byteLimit": 2048000,
      "rowLimit": 10000
     },
     "inputWidgets": {},
     "nuid": "777304df-66a0-4274-8e65-a26b1ecbeb28",
     "showTitle": false,
     "title": ""
    }
   },
   "outputs": [],
   "source": [
    "%run \"./Data_Extractor_Notebook\""
   ]
  },
  {
   "cell_type": "code",
   "execution_count": 0,
   "metadata": {
    "application/vnd.databricks.v1+cell": {
     "cellMetadata": {
      "byteLimit": 2048000,
      "rowLimit": 10000
     },
     "inputWidgets": {},
     "nuid": "a7183b44-a551-40ca-afd4-c39eda93d1d0",
     "showTitle": false,
     "title": ""
    }
   },
   "outputs": [],
   "source": [
    "%run \"./Data_Transform_Notebook\""
   ]
  },
  {
   "cell_type": "code",
   "execution_count": 0,
   "metadata": {
    "application/vnd.databricks.v1+cell": {
     "cellMetadata": {
      "byteLimit": 2048000,
      "rowLimit": 10000
     },
     "inputWidgets": {},
     "nuid": "ab5e8a04-8867-498b-859e-a0aea336ca18",
     "showTitle": false,
     "title": ""
    }
   },
   "outputs": [],
   "source": [
    "%run \"./Data_Loader_Notebook\""
   ]
  },
  {
   "cell_type": "code",
   "execution_count": 0,
   "metadata": {
    "application/vnd.databricks.v1+cell": {
     "cellMetadata": {
      "byteLimit": 2048000,
      "rowLimit": 10000
     },
     "inputWidgets": {},
     "nuid": "1d400102-5446-4a67-aabd-6ed86e68d3ee",
     "showTitle": false,
     "title": ""
    }
   },
   "outputs": [],
   "source": [
    "class FirstWorkFlow:\n",
    "\n",
    "    def __init__(self,saveoption):\n",
    "        self.saveoption = saveoption\n",
    "\n",
    "    def runner(self):\n",
    "\n",
    "        extracting_data = DataSourceExtractor().extract()\n",
    "        transformingData = Transform().requirementOne(extracting_data)\n",
    "        if(self.saveoption == \"yes\"):\n",
    "            MonthwiseChickenCategoryLoad(transformingData).dataload()\n",
    "        else:\n",
    "            print(\"Data is not saved in file system !!!\")\n",
    "\n"
   ]
  },
  {
   "cell_type": "code",
   "execution_count": 0,
   "metadata": {
    "application/vnd.databricks.v1+cell": {
     "cellMetadata": {
      "byteLimit": 2048000,
      "rowLimit": 10000
     },
     "inputWidgets": {},
     "nuid": "c3f8aa47-2894-4936-b227-db39f181c329",
     "showTitle": false,
     "title": ""
    }
   },
   "outputs": [],
   "source": [
    "class SecondWorkFlow:\n",
    "\n",
    "    def __init__(self,saveoption):\n",
    "        self.saveoption = saveoption\n",
    "\n",
    "    def runner(self):\n",
    "\n",
    "        extracting_data = DataSourceExtractor().extract()\n",
    "        transformingData = Transform().requirementTwo(extracting_data)\n",
    "        if(self.saveoption == \"yes\"):\n",
    "            MostSoldPizzaByCategoryOverall(transformingData).dataload()\n",
    "        else:\n",
    "            print(\"Data is not saved in file system !!!\")"
   ]
  },
  {
   "cell_type": "code",
   "execution_count": 0,
   "metadata": {
    "application/vnd.databricks.v1+cell": {
     "cellMetadata": {
      "byteLimit": 2048000,
      "rowLimit": 10000
     },
     "inputWidgets": {},
     "nuid": "4108cdfe-b41e-4d39-b74f-21eefed2bbb8",
     "showTitle": false,
     "title": ""
    }
   },
   "outputs": [],
   "source": [
    "class ThirdWorkFlow:\n",
    "\n",
    "    def __init__(self,saveoption):\n",
    "        self.saveoption = saveoption\n",
    "\n",
    "    def runner(self):\n",
    "\n",
    "        extracting_data = DataSourceExtractor().extract()\n",
    "        transformingData = Transform().requirementThree(extracting_data)\n",
    "        if(self.saveoption == \"yes\"):\n",
    "            MostSoldPizzaBetweenTimeMonthwise(transformingData).dataload()\n",
    "        else:\n",
    "            print(\"Data is not saved in file system !!!\")"
   ]
  },
  {
   "cell_type": "code",
   "execution_count": 0,
   "metadata": {
    "application/vnd.databricks.v1+cell": {
     "cellMetadata": {
      "byteLimit": 2048000,
      "rowLimit": 10000
     },
     "inputWidgets": {},
     "nuid": "fc8f5b61-8555-4f8e-8a10-4a216a718923",
     "showTitle": false,
     "title": ""
    }
   },
   "outputs": [
    {
     "output_type": "stream",
     "name": "stdout",
     "output_type": "stream",
     "text": [
      "Hi, Do you need which data? \nPlease select from below options\nOption: 1\tMost sold pizza in Chicken Category month wise\nOption: 2\tMost sold pizza in every Category overall\nOption: 3\tMost sold pizza during 5.00pm to 10.00pm overall\nOption: 4\tMost sold Large Pizza month wise\nOption: 5\tMost sold small Pizza over all\n\n"
     ]
    },
    {
     "output_type": "display_data",
     "data": {
      "text/plain": [
       "Enter the option number: \t 2"
      ]
     },
     "metadata": {},
     "output_type": "display_data"
    },
    {
     "output_type": "display_data",
     "data": {
      "text/plain": [
       "do you want to save your file : yes/no yes"
      ]
     },
     "metadata": {},
     "output_type": "display_data"
    },
    {
     "output_type": "stream",
     "name": "stdout",
     "output_type": "stream",
     "text": [
      "Most sold pizza in every Category overall\n+--------------------+----------+-----------+--------+\n|          Pizza_Name|Pizza_Size|Total_Sales|Category|\n+--------------------+----------+-----------+--------+\n|The Thai Chicken ...|         L|       1365| Chicken|\n|  The Big Meat Pizza|         S|       1811| Classic|\n|The Spicy Italian...|         L|       1088| Supreme|\n|The Five Cheese P...|         L|       1359|  Veggie|\n+--------------------+----------+-----------+--------+\n\nData Stored indbfs:/FileStore/tables/output/Pizza_Data_Analysis/Most_Sold_Pizza_CategoryWise\n"
     ]
    }
   ],
   "source": [
    "class WorkFlow:\n",
    "    def __init__(self, option, saveoption):\n",
    "        self.option = option\n",
    "        self.saveoption = saveoption\n",
    "\n",
    "    def runner(self):\n",
    "\n",
    "        if self.option == 1:\n",
    "            return FirstWorkFlow(self.saveoption).runner()\n",
    "        elif self.option == 2:\n",
    "            return SecondWorkFlow(self.saveoption).runner()\n",
    "        elif self.option == 3:\n",
    "            return ThirdWorkFlow(self.saveoption).runner()\n",
    "        elif self.option == 4:\n",
    "            return FourthWorkFlow(self.saveoption).runner()\n",
    "        elif self.option == 5:\n",
    "            return FifthWorkFlow(self.saveoption).runner()\n",
    "        else:\n",
    "            return f\"Not implemented for {option}\"\n",
    "\n",
    "\n",
    "print(\n",
    "    \"Hi, Do you need which data? \\nPlease select from below options\\nOption: 1\\t\\\n",
    "Most sold pizza in Chicken Category month wise\\n\\\n",
    "Option: 2\\t\\\n",
    "Most sold pizza in every Category overall\\n\\\n",
    "Option: 3\\t\\\n",
    "Most sold pizza during 5.00pm to 10.00pm overall\\n\\\n",
    "Option: 4\\t\\\n",
    "Most sold Large Pizza month wise\\n\\\n",
    "Option: 5\\t\\\n",
    "Most sold small Pizza over all\\n\"\n",
    ")\n",
    "\n",
    "option = int(input(\"Enter the option number: \\t\"))\n",
    "saveoption = input(\"do you want to save your file : yes/no\")\n",
    "\n",
    "\n",
    "workflow = WorkFlow(option, saveoption).runner()"
   ]
  },
  {
   "cell_type": "markdown",
   "metadata": {
    "application/vnd.databricks.v1+cell": {
     "cellMetadata": {
      "byteLimit": 2048000,
      "rowLimit": 10000
     },
     "inputWidgets": {},
     "nuid": "704573ce-a09c-4eb7-a272-be235c6a7cc1",
     "showTitle": false,
     "title": ""
    }
   },
   "source": [
    "<p>Scenario 1</p> Most sold pizza in Chicken Category month wise\n",
    "<p>Scenario 2</p> Most sold pizza in every Category overall\n",
    "<p>Scenario 3</p> Most sold pizza during 7.00pm to 10.00pm overall\n",
    "<p>Scenario 4</p> Most sold Large Pizza month wise\n",
    "<p>Scenario 5</p> Most sold small Pizza over all"
   ]
  },
  {
   "cell_type": "code",
   "execution_count": 0,
   "metadata": {
    "application/vnd.databricks.v1+cell": {
     "cellMetadata": {
      "byteLimit": 2048000,
      "implicitDf": true,
      "rowLimit": 10000
     },
     "inputWidgets": {},
     "nuid": "2419f94d-a3ca-400c-80f5-682a4ce27f2b",
     "showTitle": false,
     "title": ""
    }
   },
   "outputs": [],
   "source": []
  }
 ],
 "metadata": {
  "application/vnd.databricks.v1+notebook": {
   "dashboards": [],
   "environmentMetadata": null,
   "language": "python",
   "notebookMetadata": {
    "mostRecentlyExecutedCommandWithImplicitDF": {
     "commandId": 4027570032785274,
     "dataframes": [
      "_sqldf"
     ]
    },
    "pythonIndentUnit": 4
   },
   "notebookName": "Workflow_Application",
   "widgets": {}
  }
 },
 "nbformat": 4,
 "nbformat_minor": 0
}

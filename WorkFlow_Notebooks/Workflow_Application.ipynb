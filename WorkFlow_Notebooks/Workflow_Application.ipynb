{
 "cells": [
  {
   "cell_type": "code",
   "execution_count": 0,
   "metadata": {
    "application/vnd.databricks.v1+cell": {
     "cellMetadata": {
      "byteLimit": 2048000,
      "rowLimit": 10000
     },
     "inputWidgets": {},
     "nuid": "6c19b45c-7a8c-40bf-a5d5-b9b266b0c255",
     "showTitle": false,
     "title": ""
    }
   },
   "outputs": [],
   "source": [
    "from pyspark.sql import SparkSession\n",
    "\n",
    "spark = SparkSession.builder.appName(\"PizzaDataAnalysis\").getOrCreate()\n"
   ]
  },
  {
   "cell_type": "code",
   "execution_count": 0,
   "metadata": {
    "application/vnd.databricks.v1+cell": {
     "cellMetadata": {
      "byteLimit": 2048000,
      "rowLimit": 10000
     },
     "inputWidgets": {},
     "nuid": "18800048-3f74-46d6-b045-b4352ef1592a",
     "showTitle": false,
     "title": ""
    }
   },
   "outputs": [
    {
     "output_type": "stream",
     "name": "stdout",
     "output_type": "stream",
     "text": [
      "Out[1246]: '3.3.2'"
     ]
    }
   ],
   "source": [
    "spark.version"
   ]
  },
  {
   "cell_type": "code",
   "execution_count": 0,
   "metadata": {
    "application/vnd.databricks.v1+cell": {
     "cellMetadata": {
      "byteLimit": 2048000,
      "rowLimit": 10000
     },
     "inputWidgets": {},
     "nuid": "777304df-66a0-4274-8e65-a26b1ecbeb28",
     "showTitle": false,
     "title": ""
    }
   },
   "outputs": [],
   "source": [
    "%run \"./Data_Extractor_Notebook\""
   ]
  },
  {
   "cell_type": "code",
   "execution_count": 0,
   "metadata": {
    "application/vnd.databricks.v1+cell": {
     "cellMetadata": {
      "byteLimit": 2048000,
      "rowLimit": 10000
     },
     "inputWidgets": {},
     "nuid": "e50b4fe6-35f5-443f-839a-6e3a8f110f23",
     "showTitle": false,
     "title": ""
    }
   },
   "outputs": [],
   "source": [
    "# from pyspark.sql.functions import StructType\n",
    "# from pyspark.sql.types import StringType,StructField,DateType,TimestampType\n",
    "\n",
    "# schema = StructType([\n",
    "#     StructField(\"order_id\", StringType(), True),\n",
    "#     StructField(\"order_date\", DateType(), True),\n",
    "#     StructField(\"order_time\", TimestampType(), True)])\n",
    "\n",
    "# orders = spark.read.format(\"csv\").option(\"header\",True).schema(schema).load(\"dbfs:/FileStore/orders.csv\")\n",
    "\n",
    "# orders.write.format(\"parquet\").save(\"dbfs:/FileStore/order_df\")"
   ]
  },
  {
   "cell_type": "code",
   "execution_count": 0,
   "metadata": {
    "application/vnd.databricks.v1+cell": {
     "cellMetadata": {
      "byteLimit": 2048000,
      "rowLimit": 10000
     },
     "inputWidgets": {},
     "nuid": "a7183b44-a551-40ca-afd4-c39eda93d1d0",
     "showTitle": false,
     "title": ""
    }
   },
   "outputs": [],
   "source": [
    "%run \"./Data_Transform_Notebook\""
   ]
  },
  {
   "cell_type": "code",
   "execution_count": 0,
   "metadata": {
    "application/vnd.databricks.v1+cell": {
     "cellMetadata": {
      "byteLimit": 2048000,
      "rowLimit": 10000
     },
     "inputWidgets": {},
     "nuid": "ab5e8a04-8867-498b-859e-a0aea336ca18",
     "showTitle": false,
     "title": ""
    }
   },
   "outputs": [],
   "source": [
    "%run \"./Data_Loader_Notebook\""
   ]
  },
  {
   "cell_type": "code",
   "execution_count": 0,
   "metadata": {
    "application/vnd.databricks.v1+cell": {
     "cellMetadata": {
      "byteLimit": 2048000,
      "rowLimit": 10000
     },
     "inputWidgets": {},
     "nuid": "1d400102-5446-4a67-aabd-6ed86e68d3ee",
     "showTitle": false,
     "title": ""
    }
   },
   "outputs": [
    {
     "output_type": "stream",
     "name": "stdout",
     "output_type": "stream",
     "text": [
      "Most sold pizza in Chicken Category month wise\n+--------------------+-------------+-----------+---------+\n|          Pizza_Name|   pizza_size|total_sales|order_mon|\n+--------------------+-------------+-----------+---------+\n|The Barbecue Chic...|    bbq_ckn_l|         93|        1|\n|The California Ch...|   cali_ckn_m|         86|        1|\n|The Chicken Alfre...|ckn_alfredo_m|         64|        1|\n|The Chicken Pesto...|  ckn_pesto_l|         37|        1|\n|The Southwest Chi...| southw_ckn_l|         73|        1|\n|The Thai Chicken ...|   thai_ckn_l|        117|        1|\n|The Barbecue Chic...|    bbq_ckn_l|         77|        2|\n|The California Ch...|   cali_ckn_m|         77|        2|\n|The Chicken Alfre...|ckn_alfredo_m|         51|        2|\n|The Chicken Pesto...|  ckn_pesto_l|         39|        2|\n|The Southwest Chi...| southw_ckn_l|         82|        2|\n|The Thai Chicken ...|   thai_ckn_l|         93|        2|\n|The Barbecue Chic...|    bbq_ckn_l|         98|        3|\n|The California Ch...|   cali_ckn_m|         78|        3|\n|The Chicken Alfre...|ckn_alfredo_m|         68|        3|\n|The Chicken Pesto...|  ckn_pesto_s|         30|        3|\n|The Southwest Chi...| southw_ckn_l|         90|        3|\n|The Thai Chicken ...|   thai_ckn_l|        117|        3|\n|The Barbecue Chic...|    bbq_ckn_m|         92|        4|\n|The California Ch...|   cali_ckn_m|         75|        4|\n+--------------------+-------------+-----------+---------+\nonly showing top 20 rows\n\n"
     ]
    },
    {
     "output_type": "display_data",
     "data": {
      "text/plain": [
       "\u001B[0;31m---------------------------------------------------------------------------\u001B[0m\n",
       "\u001B[0;31mAttributeError\u001B[0m                            Traceback (most recent call last)\n",
       "File \u001B[0;32m<command-888432398057688>:13\u001B[0m\n",
       "\u001B[1;32m      9\u001B[0m         transforming_data \u001B[38;5;241m=\u001B[39m ScenarioOne()\u001B[38;5;241m.\u001B[39mderivate(extracting_data)\n",
       "\u001B[1;32m     11\u001B[0m         MonthwiseChickerCategoryLoad(transforming_data)\u001B[38;5;241m.\u001B[39mdataload()\n",
       "\u001B[0;32m---> 13\u001B[0m workflow \u001B[38;5;241m=\u001B[39m WorkFlow()\u001B[38;5;241m.\u001B[39mrunner()\n",
       "\n",
       "File \u001B[0;32m<command-888432398057688>:11\u001B[0m, in \u001B[0;36mWorkFlow.runner\u001B[0;34m(self)\u001B[0m\n",
       "\u001B[1;32m      8\u001B[0m extracting_data \u001B[38;5;241m=\u001B[39m DataSourceExtractor()\u001B[38;5;241m.\u001B[39mextract()\n",
       "\u001B[1;32m      9\u001B[0m transforming_data \u001B[38;5;241m=\u001B[39m ScenarioOne()\u001B[38;5;241m.\u001B[39mderivate(extracting_data)\n",
       "\u001B[0;32m---> 11\u001B[0m \u001B[43mMonthwiseChickerCategoryLoad\u001B[49m\u001B[43m(\u001B[49m\u001B[43mtransforming_data\u001B[49m\u001B[43m)\u001B[49m\u001B[38;5;241;43m.\u001B[39;49m\u001B[43mdataload\u001B[49m\u001B[43m(\u001B[49m\u001B[43m)\u001B[49m\n",
       "\n",
       "File \u001B[0;32m<command-859626719170635>:13\u001B[0m, in \u001B[0;36mMonthwiseChickerCategoryLoad.dataload\u001B[0;34m(self)\u001B[0m\n",
       "\u001B[1;32m     12\u001B[0m \u001B[38;5;28;01mdef\u001B[39;00m \u001B[38;5;21mdataload\u001B[39m(\u001B[38;5;28mself\u001B[39m):\n",
       "\u001B[0;32m---> 13\u001B[0m     \u001B[43mget_source_data\u001B[49m\u001B[43m(\u001B[49m\n",
       "\u001B[1;32m     14\u001B[0m \u001B[43m        \u001B[49m\u001B[43mloadtype\u001B[49m\u001B[43m \u001B[49m\u001B[38;5;241;43m=\u001B[39;49m\u001B[43m \u001B[49m\u001B[38;5;124;43m\"\u001B[39;49m\u001B[38;5;124;43minternalFs\u001B[39;49m\u001B[38;5;124;43m\"\u001B[39;49m\u001B[43m,\u001B[49m\n",
       "\u001B[1;32m     15\u001B[0m \u001B[43m        \u001B[49m\u001B[43mdf\u001B[49m\u001B[43m \u001B[49m\u001B[38;5;241;43m=\u001B[39;49m\u001B[43m \u001B[49m\u001B[38;5;28;43mself\u001B[39;49m\u001B[38;5;241;43m.\u001B[39;49m\u001B[43mtransformedDf\u001B[49m\u001B[43m,\u001B[49m\n",
       "\u001B[1;32m     16\u001B[0m \u001B[43m        \u001B[49m\u001B[43mpath\u001B[49m\u001B[43m \u001B[49m\u001B[38;5;241;43m=\u001B[39;49m\u001B[43m \u001B[49m\u001B[38;5;124;43m\"\u001B[39;49m\u001B[38;5;124;43mdbfs:/FileStore/tables/output/Pizza_Data_Analysis\u001B[39;49m\u001B[38;5;124;43m\"\u001B[39;49m\u001B[43m,\u001B[49m\n",
       "\u001B[1;32m     17\u001B[0m \u001B[43m        \u001B[49m\u001B[43mmethod\u001B[49m\u001B[43m \u001B[49m\u001B[38;5;241;43m=\u001B[39;49m\u001B[43m \u001B[49m\u001B[38;5;124;43m\"\u001B[39;49m\u001B[38;5;124;43moverwrite\u001B[39;49m\u001B[38;5;124;43m\"\u001B[39;49m\n",
       "\u001B[1;32m     18\u001B[0m \u001B[43m    \u001B[49m\u001B[43m)\u001B[49m\u001B[38;5;241;43m.\u001B[39;49m\u001B[43mload_df\u001B[49m\u001B[43m(\u001B[49m\u001B[43m)\u001B[49m\n",
       "\n",
       "File \u001B[0;32m<command-859626719170620>:18\u001B[0m, in \u001B[0;36mDataLoadtoInternalFS.load_df\u001B[0;34m(self)\u001B[0m\n",
       "\u001B[1;32m     16\u001B[0m \u001B[38;5;28;01mdef\u001B[39;00m \u001B[38;5;21mload_df\u001B[39m(\u001B[38;5;28mself\u001B[39m):\n",
       "\u001B[0;32m---> 18\u001B[0m     \u001B[38;5;28;43mself\u001B[39;49m\u001B[38;5;241;43m.\u001B[39;49m\u001B[43mdf\u001B[49m\u001B[38;5;241;43m.\u001B[39;49m\u001B[43mwrite\u001B[49m\u001B[38;5;241m.\u001B[39mmode(\u001B[38;5;28mself\u001B[39m\u001B[38;5;241m.\u001B[39mmethod)\u001B[38;5;241m.\u001B[39msave(\u001B[38;5;28mself\u001B[39m\u001B[38;5;241m.\u001B[39mpath)\n",
       "\n",
       "\u001B[0;31mAttributeError\u001B[0m: 'NoneType' object has no attribute 'write'"
      ]
     },
     "metadata": {
      "application/vnd.databricks.v1+output": {
       "arguments": {},
       "data": "\u001B[0;31m---------------------------------------------------------------------------\u001B[0m\n\u001B[0;31mAttributeError\u001B[0m                            Traceback (most recent call last)\nFile \u001B[0;32m<command-888432398057688>:13\u001B[0m\n\u001B[1;32m      9\u001B[0m         transforming_data \u001B[38;5;241m=\u001B[39m ScenarioOne()\u001B[38;5;241m.\u001B[39mderivate(extracting_data)\n\u001B[1;32m     11\u001B[0m         MonthwiseChickerCategoryLoad(transforming_data)\u001B[38;5;241m.\u001B[39mdataload()\n\u001B[0;32m---> 13\u001B[0m workflow \u001B[38;5;241m=\u001B[39m WorkFlow()\u001B[38;5;241m.\u001B[39mrunner()\n\nFile \u001B[0;32m<command-888432398057688>:11\u001B[0m, in \u001B[0;36mWorkFlow.runner\u001B[0;34m(self)\u001B[0m\n\u001B[1;32m      8\u001B[0m extracting_data \u001B[38;5;241m=\u001B[39m DataSourceExtractor()\u001B[38;5;241m.\u001B[39mextract()\n\u001B[1;32m      9\u001B[0m transforming_data \u001B[38;5;241m=\u001B[39m ScenarioOne()\u001B[38;5;241m.\u001B[39mderivate(extracting_data)\n\u001B[0;32m---> 11\u001B[0m \u001B[43mMonthwiseChickerCategoryLoad\u001B[49m\u001B[43m(\u001B[49m\u001B[43mtransforming_data\u001B[49m\u001B[43m)\u001B[49m\u001B[38;5;241;43m.\u001B[39;49m\u001B[43mdataload\u001B[49m\u001B[43m(\u001B[49m\u001B[43m)\u001B[49m\n\nFile \u001B[0;32m<command-859626719170635>:13\u001B[0m, in \u001B[0;36mMonthwiseChickerCategoryLoad.dataload\u001B[0;34m(self)\u001B[0m\n\u001B[1;32m     12\u001B[0m \u001B[38;5;28;01mdef\u001B[39;00m \u001B[38;5;21mdataload\u001B[39m(\u001B[38;5;28mself\u001B[39m):\n\u001B[0;32m---> 13\u001B[0m     \u001B[43mget_source_data\u001B[49m\u001B[43m(\u001B[49m\n\u001B[1;32m     14\u001B[0m \u001B[43m        \u001B[49m\u001B[43mloadtype\u001B[49m\u001B[43m \u001B[49m\u001B[38;5;241;43m=\u001B[39;49m\u001B[43m \u001B[49m\u001B[38;5;124;43m\"\u001B[39;49m\u001B[38;5;124;43minternalFs\u001B[39;49m\u001B[38;5;124;43m\"\u001B[39;49m\u001B[43m,\u001B[49m\n\u001B[1;32m     15\u001B[0m \u001B[43m        \u001B[49m\u001B[43mdf\u001B[49m\u001B[43m \u001B[49m\u001B[38;5;241;43m=\u001B[39;49m\u001B[43m \u001B[49m\u001B[38;5;28;43mself\u001B[39;49m\u001B[38;5;241;43m.\u001B[39;49m\u001B[43mtransformedDf\u001B[49m\u001B[43m,\u001B[49m\n\u001B[1;32m     16\u001B[0m \u001B[43m        \u001B[49m\u001B[43mpath\u001B[49m\u001B[43m \u001B[49m\u001B[38;5;241;43m=\u001B[39;49m\u001B[43m \u001B[49m\u001B[38;5;124;43m\"\u001B[39;49m\u001B[38;5;124;43mdbfs:/FileStore/tables/output/Pizza_Data_Analysis\u001B[39;49m\u001B[38;5;124;43m\"\u001B[39;49m\u001B[43m,\u001B[49m\n\u001B[1;32m     17\u001B[0m \u001B[43m        \u001B[49m\u001B[43mmethod\u001B[49m\u001B[43m \u001B[49m\u001B[38;5;241;43m=\u001B[39;49m\u001B[43m \u001B[49m\u001B[38;5;124;43m\"\u001B[39;49m\u001B[38;5;124;43moverwrite\u001B[39;49m\u001B[38;5;124;43m\"\u001B[39;49m\n\u001B[1;32m     18\u001B[0m \u001B[43m    \u001B[49m\u001B[43m)\u001B[49m\u001B[38;5;241;43m.\u001B[39;49m\u001B[43mload_df\u001B[49m\u001B[43m(\u001B[49m\u001B[43m)\u001B[49m\n\nFile \u001B[0;32m<command-859626719170620>:18\u001B[0m, in \u001B[0;36mDataLoadtoInternalFS.load_df\u001B[0;34m(self)\u001B[0m\n\u001B[1;32m     16\u001B[0m \u001B[38;5;28;01mdef\u001B[39;00m \u001B[38;5;21mload_df\u001B[39m(\u001B[38;5;28mself\u001B[39m):\n\u001B[0;32m---> 18\u001B[0m     \u001B[38;5;28;43mself\u001B[39;49m\u001B[38;5;241;43m.\u001B[39;49m\u001B[43mdf\u001B[49m\u001B[38;5;241;43m.\u001B[39;49m\u001B[43mwrite\u001B[49m\u001B[38;5;241m.\u001B[39mmode(\u001B[38;5;28mself\u001B[39m\u001B[38;5;241m.\u001B[39mmethod)\u001B[38;5;241m.\u001B[39msave(\u001B[38;5;28mself\u001B[39m\u001B[38;5;241m.\u001B[39mpath)\n\n\u001B[0;31mAttributeError\u001B[0m: 'NoneType' object has no attribute 'write'",
       "errorSummary": "<span class='ansi-red-fg'>AttributeError</span>: 'NoneType' object has no attribute 'write'",
       "errorTraceType": "ansi",
       "metadata": {},
       "type": "ipynbError"
      }
     },
     "output_type": "display_data"
    }
   ],
   "source": [
    "class WorkFlow:\n",
    "\n",
    "    def __init__(self):\n",
    "        pass\n",
    "\n",
    "    def runner(self):\n",
    "\n",
    "        extracting_data = DataSourceExtractor().extract()\n",
    "        transforming_data = ScenarioOne().derivate(extracting_data)\n",
    "\n",
    "        MonthwiseChickerCategoryLoad(transforming_data).dataload()\n",
    "\n",
    "workflow = WorkFlow().runner()\n",
    "\n"
   ]
  },
  {
   "cell_type": "markdown",
   "metadata": {
    "application/vnd.databricks.v1+cell": {
     "cellMetadata": {
      "byteLimit": 2048000,
      "rowLimit": 10000
     },
     "inputWidgets": {},
     "nuid": "704573ce-a09c-4eb7-a272-be235c6a7cc1",
     "showTitle": false,
     "title": ""
    }
   },
   "source": [
    "<p>Scenario 1</p> Most sold pizza in Chicken Category month wise\n",
    "<p>Scenario 2</p> Most sold pizza in every Category overall\n",
    "<p>Scenario 3</p> Most sold pizza during 7.00pm to 10.00pm overall\n",
    "<p>Scenario 4</p> Most sold Large Pizza month wise\n",
    "<p>Scenario 5</p> Most sold small Pizza over all"
   ]
  }
 ],
 "metadata": {
  "application/vnd.databricks.v1+notebook": {
   "dashboards": [],
   "environmentMetadata": null,
   "language": "python",
   "notebookMetadata": {
    "pythonIndentUnit": 4
   },
   "notebookName": "Workflow_Application",
   "widgets": {}
  }
 },
 "nbformat": 4,
 "nbformat_minor": 0
}

{
 "cells": [
  {
   "cell_type": "code",
   "execution_count": 0,
   "metadata": {
    "application/vnd.databricks.v1+cell": {
     "cellMetadata": {
      "byteLimit": 2048000,
      "implicitDf": true,
      "rowLimit": 10000
     },
     "inputWidgets": {},
     "nuid": "eeebd3f7-60b8-460d-8b2e-44d6747e509d",
     "showTitle": false,
     "title": ""
    }
   },
   "outputs": [
    {
     "output_type": "display_data",
     "data": {
      "text/html": [
       "<style scoped>\n",
       "  .table-result-container {\n",
       "    max-height: 300px;\n",
       "    overflow: auto;\n",
       "  }\n",
       "  table, th, td {\n",
       "    border: 1px solid black;\n",
       "    border-collapse: collapse;\n",
       "  }\n",
       "  th, td {\n",
       "    padding: 5px;\n",
       "  }\n",
       "  th {\n",
       "    text-align: left;\n",
       "  }\n",
       "</style><div class='table-result-container'><table class='table-result'><thead style='background-color: white'><tr><th>pizza_name</th><th>pizza_id</th><th>total_sales</th><th>order_mon</th></tr></thead><tbody><tr><td>The Thai Chicken Pizza</td><td>thai_ckn_l</td><td>117</td><td>3</td></tr><tr><td>The Barbecue Chicken Pizza</td><td>bbq_ckn_l</td><td>98</td><td>3</td></tr><tr><td>The Southwest Chicken Pizza</td><td>southw_ckn_l</td><td>90</td><td>3</td></tr><tr><td>The Barbecue Chicken Pizza</td><td>bbq_ckn_m</td><td>79</td><td>3</td></tr><tr><td>The California Chicken Pizza</td><td>cali_ckn_m</td><td>78</td><td>3</td></tr><tr><td>The California Chicken Pizza</td><td>cali_ckn_l</td><td>77</td><td>3</td></tr><tr><td>The Chicken Alfredo Pizza</td><td>ckn_alfredo_m</td><td>68</td><td>3</td></tr><tr><td>The Barbecue Chicken Pizza</td><td>bbq_ckn_s</td><td>52</td><td>3</td></tr><tr><td>The Southwest Chicken Pizza</td><td>southw_ckn_m</td><td>51</td><td>3</td></tr><tr><td>The Thai Chicken Pizza</td><td>thai_ckn_s</td><td>47</td><td>3</td></tr><tr><td>The Thai Chicken Pizza</td><td>thai_ckn_m</td><td>46</td><td>3</td></tr><tr><td>The Southwest Chicken Pizza</td><td>southw_ckn_s</td><td>34</td><td>3</td></tr><tr><td>The California Chicken Pizza</td><td>cali_ckn_s</td><td>31</td><td>3</td></tr><tr><td>The Chicken Pesto Pizza</td><td>ckn_pesto_s</td><td>30</td><td>3</td></tr><tr><td>The Chicken Alfredo Pizza</td><td>ckn_alfredo_l</td><td>29</td><td>3</td></tr><tr><td>The Chicken Pesto Pizza</td><td>ckn_pesto_l</td><td>26</td><td>3</td></tr><tr><td>The Chicken Pesto Pizza</td><td>ckn_pesto_m</td><td>25</td><td>3</td></tr><tr><td>The Chicken Alfredo Pizza</td><td>ckn_alfredo_s</td><td>3</td><td>3</td></tr></tbody></table></div>"
      ]
     },
     "metadata": {
      "application/vnd.databricks.v1+output": {
       "addedWidgets": {},
       "aggData": [],
       "aggError": "",
       "aggOverflow": false,
       "aggSchema": [],
       "aggSeriesLimitReached": false,
       "aggType": "",
       "arguments": {},
       "columnCustomDisplayInfos": {},
       "data": [
        [
         "The Thai Chicken Pizza",
         "thai_ckn_l",
         117,
         3
        ],
        [
         "The Barbecue Chicken Pizza",
         "bbq_ckn_l",
         98,
         3
        ],
        [
         "The Southwest Chicken Pizza",
         "southw_ckn_l",
         90,
         3
        ],
        [
         "The Barbecue Chicken Pizza",
         "bbq_ckn_m",
         79,
         3
        ],
        [
         "The California Chicken Pizza",
         "cali_ckn_m",
         78,
         3
        ],
        [
         "The California Chicken Pizza",
         "cali_ckn_l",
         77,
         3
        ],
        [
         "The Chicken Alfredo Pizza",
         "ckn_alfredo_m",
         68,
         3
        ],
        [
         "The Barbecue Chicken Pizza",
         "bbq_ckn_s",
         52,
         3
        ],
        [
         "The Southwest Chicken Pizza",
         "southw_ckn_m",
         51,
         3
        ],
        [
         "The Thai Chicken Pizza",
         "thai_ckn_s",
         47,
         3
        ],
        [
         "The Thai Chicken Pizza",
         "thai_ckn_m",
         46,
         3
        ],
        [
         "The Southwest Chicken Pizza",
         "southw_ckn_s",
         34,
         3
        ],
        [
         "The California Chicken Pizza",
         "cali_ckn_s",
         31,
         3
        ],
        [
         "The Chicken Pesto Pizza",
         "ckn_pesto_s",
         30,
         3
        ],
        [
         "The Chicken Alfredo Pizza",
         "ckn_alfredo_l",
         29,
         3
        ],
        [
         "The Chicken Pesto Pizza",
         "ckn_pesto_l",
         26,
         3
        ],
        [
         "The Chicken Pesto Pizza",
         "ckn_pesto_m",
         25,
         3
        ],
        [
         "The Chicken Alfredo Pizza",
         "ckn_alfredo_s",
         3,
         3
        ]
       ],
       "datasetInfos": [],
       "dbfsResultPath": null,
       "isJsonSchema": true,
       "metadata": {},
       "overflow": false,
       "plotOptions": {
        "customPlotOptions": {},
        "displayType": "table",
        "pivotAggregation": null,
        "pivotColumns": null,
        "xColumns": null,
        "yColumns": null
       },
       "removedWidgets": [],
       "schema": [
        {
         "metadata": "{}",
         "name": "pizza_name",
         "type": "\"string\""
        },
        {
         "metadata": "{}",
         "name": "pizza_id",
         "type": "\"string\""
        },
        {
         "metadata": "{}",
         "name": "total_sales",
         "type": "\"long\""
        },
        {
         "metadata": "{}",
         "name": "order_mon",
         "type": "\"integer\""
        }
       ],
       "type": "table"
      }
     },
     "output_type": "display_data"
    }
   ],
   "source": [
    "%sql\n",
    "-- Verifying data with different months most sold chicken pizza's in each chicken category\n",
    "select a.name as pizza_name,a.pizza_id, a.total_sales, a.order_mon from( select name,pizza_id ,count(order_id) as total_sales,month(order_date) as order_mon from Test_Scenario_One  group by name,pizza_id,order_mon) a where  order_mon=3  order by total_sales desc ;\n",
    "        "
   ]
  },
  {
   "cell_type": "code",
   "execution_count": 0,
   "metadata": {
    "application/vnd.databricks.v1+cell": {
     "cellMetadata": {
      "byteLimit": 2048000,
      "implicitDf": true,
      "rowLimit": 10000
     },
     "inputWidgets": {},
     "nuid": "a1ae62d7-766d-45c2-a1fe-242bf06e4c65",
     "showTitle": false,
     "title": ""
    }
   },
   "outputs": [
    {
     "output_type": "display_data",
     "data": {
      "text/html": [
       "<style scoped>\n",
       "  .table-result-container {\n",
       "    max-height: 300px;\n",
       "    overflow: auto;\n",
       "  }\n",
       "  table, th, td {\n",
       "    border: 1px solid black;\n",
       "    border-collapse: collapse;\n",
       "  }\n",
       "  th, td {\n",
       "    padding: 5px;\n",
       "  }\n",
       "  th {\n",
       "    text-align: left;\n",
       "  }\n",
       "</style><div class='table-result-container'><table class='table-result'><thead style='background-color: white'><tr></tr></thead><tbody></tbody></table></div>"
      ]
     },
     "metadata": {
      "application/vnd.databricks.v1+output": {
       "addedWidgets": {},
       "aggData": [],
       "aggError": "",
       "aggOverflow": false,
       "aggSchema": [],
       "aggSeriesLimitReached": false,
       "aggType": "",
       "arguments": {},
       "columnCustomDisplayInfos": {},
       "data": [],
       "datasetInfos": [],
       "dbfsResultPath": null,
       "isJsonSchema": true,
       "metadata": {},
       "overflow": false,
       "plotOptions": {
        "customPlotOptions": {},
        "displayType": "table",
        "pivotAggregation": null,
        "pivotColumns": null,
        "xColumns": null,
        "yColumns": null
       },
       "removedWidgets": [],
       "schema": [],
       "type": "table"
      }
     },
     "output_type": "display_data"
    }
   ],
   "source": [
    "# %sql\n",
    "# DROP TABLE IF EXISTS default.Test_Scenario_One"
   ]
  },
  {
   "cell_type": "code",
   "execution_count": 0,
   "metadata": {
    "application/vnd.databricks.v1+cell": {
     "cellMetadata": {
      "byteLimit": 2048000,
      "implicitDf": true,
      "rowLimit": 10000
     },
     "inputWidgets": {},
     "nuid": "bdd493cd-22d3-4407-8033-74a17011ef11",
     "showTitle": false,
     "title": ""
    }
   },
   "outputs": [
    {
     "output_type": "display_data",
     "data": {
      "text/html": [
       "<style scoped>\n",
       "  .table-result-container {\n",
       "    max-height: 300px;\n",
       "    overflow: auto;\n",
       "  }\n",
       "  table, th, td {\n",
       "    border: 1px solid black;\n",
       "    border-collapse: collapse;\n",
       "  }\n",
       "  th, td {\n",
       "    padding: 5px;\n",
       "  }\n",
       "  th {\n",
       "    text-align: left;\n",
       "  }\n",
       "</style><div class='table-result-container'><table class='table-result'><thead style='background-color: white'><tr><th>count(order_id)</th></tr></thead><tbody><tr><td>101</td></tr></tbody></table></div>"
      ]
     },
     "metadata": {
      "application/vnd.databricks.v1+output": {
       "addedWidgets": {},
       "aggData": [],
       "aggError": "",
       "aggOverflow": false,
       "aggSchema": [],
       "aggSeriesLimitReached": false,
       "aggType": "",
       "arguments": {},
       "columnCustomDisplayInfos": {},
       "data": [
        [
         101
        ]
       ],
       "datasetInfos": [],
       "dbfsResultPath": null,
       "isJsonSchema": true,
       "metadata": {},
       "overflow": false,
       "plotOptions": {
        "customPlotOptions": {},
        "displayType": "table",
        "pivotAggregation": null,
        "pivotColumns": null,
        "xColumns": null,
        "yColumns": null
       },
       "removedWidgets": [],
       "schema": [
        {
         "metadata": "{\"__autoGeneratedAlias\":\"true\"}",
         "name": "count(order_id)",
         "type": "\"long\""
        }
       ],
       "type": "table"
      }
     },
     "output_type": "display_data"
    }
   ],
   "source": [
    "%sql\n",
    " select count(order_id) from test_scenario_two where pizza_id ='pepperoni_m' and Order_Hour =18"
   ]
  },
  {
   "cell_type": "code",
   "execution_count": 0,
   "metadata": {
    "application/vnd.databricks.v1+cell": {
     "cellMetadata": {
      "byteLimit": 2048000,
      "implicitDf": true,
      "rowLimit": 10000
     },
     "inputWidgets": {},
     "nuid": "5dc692c3-f300-4a4e-a0be-c10c9831e195",
     "showTitle": false,
     "title": ""
    }
   },
   "outputs": [
    {
     "output_type": "display_data",
     "data": {
      "text/html": [
       "<style scoped>\n",
       "  .table-result-container {\n",
       "    max-height: 300px;\n",
       "    overflow: auto;\n",
       "  }\n",
       "  table, th, td {\n",
       "    border: 1px solid black;\n",
       "    border-collapse: collapse;\n",
       "  }\n",
       "  th, td {\n",
       "    padding: 5px;\n",
       "  }\n",
       "  th {\n",
       "    text-align: left;\n",
       "  }\n",
       "</style><div class='table-result-container'><table class='table-result'><thead style='background-color: white'><tr><th>pizza_id</th><th>count(order_id)</th></tr></thead><tbody><tr><td>ital_supr_s</td><td>6</td></tr><tr><td>peppr_salami_s</td><td>11</td></tr><tr><td>hawaiian_l</td><td>27</td></tr><tr><td>peppr_salami_l</td><td>15</td></tr><tr><td>spinach_fet_s</td><td>8</td></tr><tr><td>classic_dlx_l</td><td>12</td></tr><tr><td>bbq_ckn_l</td><td>34</td></tr><tr><td>spinach_supr_l</td><td>9</td></tr><tr><td>sicilian_l</td><td>11</td></tr><tr><td>peppr_salami_m</td><td>14</td></tr><tr><td>pepperoni_s</td><td>25</td></tr><tr><td>calabrese_s</td><td>1</td></tr><tr><td>mexicana_m</td><td>10</td></tr><tr><td>bbq_ckn_s</td><td>16</td></tr><tr><td>thai_ckn_s</td><td>15</td></tr><tr><td>green_garden_m</td><td>12</td></tr><tr><td>soppressata_s</td><td>9</td></tr><tr><td>pep_msh_pep_l</td><td>14</td></tr><tr><td>ital_supr_l</td><td>22</td></tr><tr><td>soppressata_m</td><td>7</td></tr><tr><td>pep_msh_pep_m</td><td>16</td></tr><tr><td>ckn_pesto_m</td><td>7</td></tr><tr><td>napolitana_s</td><td>10</td></tr><tr><td>veggie_veg_m</td><td>15</td></tr><tr><td>brie_carre_s</td><td>10</td></tr><tr><td>the_greek_xl</td><td>14</td></tr><tr><td>thai_ckn_l</td><td>37</td></tr><tr><td>napolitana_l</td><td>12</td></tr><tr><td>ital_supr_m</td><td>34</td></tr><tr><td>classic_dlx_s</td><td>20</td></tr><tr><td>ital_veggie_m</td><td>10</td></tr><tr><td>calabrese_m</td><td>22</td></tr><tr><td>classic_dlx_m</td><td>34</td></tr><tr><td>bbq_ckn_m</td><td>22</td></tr><tr><td>mediterraneo_m</td><td>3</td></tr><tr><td>five_cheese_l</td><td>36</td></tr><tr><td>pepperoni_m</td><td>20</td></tr><tr><td>southw_ckn_l</td><td>24</td></tr><tr><td>ckn_pesto_l</td><td>16</td></tr><tr><td>veggie_veg_l</td><td>15</td></tr><tr><td>spinach_supr_m</td><td>15</td></tr><tr><td>mexicana_s</td><td>5</td></tr><tr><td>ital_cpcllo_s</td><td>8</td></tr><tr><td>veggie_veg_s</td><td>7</td></tr><tr><td>ital_cpcllo_l</td><td>23</td></tr><tr><td>ckn_pesto_s</td><td>7</td></tr><tr><td>the_greek_xxl</td><td>1</td></tr><tr><td>mediterraneo_s</td><td>12</td></tr><tr><td>calabrese_l</td><td>9</td></tr><tr><td>spin_pesto_s</td><td>19</td></tr><tr><td>spicy_ital_l</td><td>23</td></tr><tr><td>southw_ckn_s</td><td>14</td></tr><tr><td>spinach_fet_l</td><td>7</td></tr><tr><td>cali_ckn_s</td><td>18</td></tr><tr><td>ckn_alfredo_s</td><td>3</td></tr><tr><td>the_greek_l</td><td>6</td></tr><tr><td>ckn_alfredo_m</td><td>26</td></tr><tr><td>mexicana_l</td><td>29</td></tr><tr><td>pepperoni_l</td><td>21</td></tr><tr><td>big_meat_s</td><td>44</td></tr><tr><td>prsc_argla_s</td><td>12</td></tr><tr><td>spicy_ital_s</td><td>9</td></tr><tr><td>pep_msh_pep_s</td><td>15</td></tr><tr><td>the_greek_m</td><td>7</td></tr><tr><td>soppressata_l</td><td>12</td></tr><tr><td>green_garden_s</td><td>13</td></tr><tr><td>sicilian_s</td><td>24</td></tr><tr><td>four_cheese_m</td><td>15</td></tr><tr><td>hawaiian_m</td><td>6</td></tr><tr><td>green_garden_l</td><td>3</td></tr><tr><td>cali_ckn_l</td><td>20</td></tr><tr><td>napolitana_m</td><td>11</td></tr><tr><td>thai_ckn_m</td><td>13</td></tr><tr><td>mediterraneo_l</td><td>10</td></tr><tr><td>ital_cpcllo_m</td><td>9</td></tr><tr><td>ckn_alfredo_l</td><td>4</td></tr><tr><td>spin_pesto_l</td><td>16</td></tr><tr><td>cali_ckn_m</td><td>24</td></tr><tr><td>prsc_argla_l</td><td>8</td></tr><tr><td>spicy_ital_m</td><td>15</td></tr><tr><td>the_greek_s</td><td>12</td></tr><tr><td>spinach_supr_s</td><td>16</td></tr><tr><td>southw_ckn_m</td><td>17</td></tr><tr><td>prsc_argla_m</td><td>21</td></tr><tr><td>sicilian_m</td><td>16</td></tr><tr><td>ital_veggie_s</td><td>8</td></tr><tr><td>spinach_fet_m</td><td>17</td></tr><tr><td>hawaiian_s</td><td>22</td></tr><tr><td>four_cheese_l</td><td>31</td></tr><tr><td>ital_veggie_l</td><td>4</td></tr><tr><td>spin_pesto_m</td><td>8</td></tr></tbody></table></div>"
      ]
     },
     "metadata": {
      "application/vnd.databricks.v1+output": {
       "addedWidgets": {},
       "aggData": [],
       "aggError": "",
       "aggOverflow": false,
       "aggSchema": [],
       "aggSeriesLimitReached": false,
       "aggType": "",
       "arguments": {},
       "columnCustomDisplayInfos": {},
       "data": [
        [
         "ital_supr_s",
         6
        ],
        [
         "peppr_salami_s",
         11
        ],
        [
         "hawaiian_l",
         27
        ],
        [
         "peppr_salami_l",
         15
        ],
        [
         "spinach_fet_s",
         8
        ],
        [
         "classic_dlx_l",
         12
        ],
        [
         "bbq_ckn_l",
         34
        ],
        [
         "spinach_supr_l",
         9
        ],
        [
         "sicilian_l",
         11
        ],
        [
         "peppr_salami_m",
         14
        ],
        [
         "pepperoni_s",
         25
        ],
        [
         "calabrese_s",
         1
        ],
        [
         "mexicana_m",
         10
        ],
        [
         "bbq_ckn_s",
         16
        ],
        [
         "thai_ckn_s",
         15
        ],
        [
         "green_garden_m",
         12
        ],
        [
         "soppressata_s",
         9
        ],
        [
         "pep_msh_pep_l",
         14
        ],
        [
         "ital_supr_l",
         22
        ],
        [
         "soppressata_m",
         7
        ],
        [
         "pep_msh_pep_m",
         16
        ],
        [
         "ckn_pesto_m",
         7
        ],
        [
         "napolitana_s",
         10
        ],
        [
         "veggie_veg_m",
         15
        ],
        [
         "brie_carre_s",
         10
        ],
        [
         "the_greek_xl",
         14
        ],
        [
         "thai_ckn_l",
         37
        ],
        [
         "napolitana_l",
         12
        ],
        [
         "ital_supr_m",
         34
        ],
        [
         "classic_dlx_s",
         20
        ],
        [
         "ital_veggie_m",
         10
        ],
        [
         "calabrese_m",
         22
        ],
        [
         "classic_dlx_m",
         34
        ],
        [
         "bbq_ckn_m",
         22
        ],
        [
         "mediterraneo_m",
         3
        ],
        [
         "five_cheese_l",
         36
        ],
        [
         "pepperoni_m",
         20
        ],
        [
         "southw_ckn_l",
         24
        ],
        [
         "ckn_pesto_l",
         16
        ],
        [
         "veggie_veg_l",
         15
        ],
        [
         "spinach_supr_m",
         15
        ],
        [
         "mexicana_s",
         5
        ],
        [
         "ital_cpcllo_s",
         8
        ],
        [
         "veggie_veg_s",
         7
        ],
        [
         "ital_cpcllo_l",
         23
        ],
        [
         "ckn_pesto_s",
         7
        ],
        [
         "the_greek_xxl",
         1
        ],
        [
         "mediterraneo_s",
         12
        ],
        [
         "calabrese_l",
         9
        ],
        [
         "spin_pesto_s",
         19
        ],
        [
         "spicy_ital_l",
         23
        ],
        [
         "southw_ckn_s",
         14
        ],
        [
         "spinach_fet_l",
         7
        ],
        [
         "cali_ckn_s",
         18
        ],
        [
         "ckn_alfredo_s",
         3
        ],
        [
         "the_greek_l",
         6
        ],
        [
         "ckn_alfredo_m",
         26
        ],
        [
         "mexicana_l",
         29
        ],
        [
         "pepperoni_l",
         21
        ],
        [
         "big_meat_s",
         44
        ],
        [
         "prsc_argla_s",
         12
        ],
        [
         "spicy_ital_s",
         9
        ],
        [
         "pep_msh_pep_s",
         15
        ],
        [
         "the_greek_m",
         7
        ],
        [
         "soppressata_l",
         12
        ],
        [
         "green_garden_s",
         13
        ],
        [
         "sicilian_s",
         24
        ],
        [
         "four_cheese_m",
         15
        ],
        [
         "hawaiian_m",
         6
        ],
        [
         "green_garden_l",
         3
        ],
        [
         "cali_ckn_l",
         20
        ],
        [
         "napolitana_m",
         11
        ],
        [
         "thai_ckn_m",
         13
        ],
        [
         "mediterraneo_l",
         10
        ],
        [
         "ital_cpcllo_m",
         9
        ],
        [
         "ckn_alfredo_l",
         4
        ],
        [
         "spin_pesto_l",
         16
        ],
        [
         "cali_ckn_m",
         24
        ],
        [
         "prsc_argla_l",
         8
        ],
        [
         "spicy_ital_m",
         15
        ],
        [
         "the_greek_s",
         12
        ],
        [
         "spinach_supr_s",
         16
        ],
        [
         "southw_ckn_m",
         17
        ],
        [
         "prsc_argla_m",
         21
        ],
        [
         "sicilian_m",
         16
        ],
        [
         "ital_veggie_s",
         8
        ],
        [
         "spinach_fet_m",
         17
        ],
        [
         "hawaiian_s",
         22
        ],
        [
         "four_cheese_l",
         31
        ],
        [
         "ital_veggie_l",
         4
        ],
        [
         "spin_pesto_m",
         8
        ]
       ],
       "datasetInfos": [],
       "dbfsResultPath": null,
       "isJsonSchema": true,
       "metadata": {},
       "overflow": false,
       "plotOptions": {
        "customPlotOptions": {},
        "displayType": "table",
        "pivotAggregation": null,
        "pivotColumns": null,
        "xColumns": null,
        "yColumns": null
       },
       "removedWidgets": [],
       "schema": [
        {
         "metadata": "{}",
         "name": "pizza_id",
         "type": "\"string\""
        },
        {
         "metadata": "{\"__autoGeneratedAlias\":\"true\"}",
         "name": "count(order_id)",
         "type": "\"long\""
        }
       ],
       "type": "table"
      }
     },
     "output_type": "display_data"
    }
   ],
   "source": [
    "# Most sold pizza during 10 pm overall \n",
    "%sql\n",
    " select pizza_id,count(order_id) from test_scenario_two where Order_Hour =22 group by pizza_id"
   ]
  }
 ],
 "metadata": {
  "application/vnd.databricks.v1+notebook": {
   "dashboards": [],
   "environmentMetadata": null,
   "language": "python",
   "notebookMetadata": {
    "mostRecentlyExecutedCommandWithImplicitDF": {
     "commandId": 813038392237892,
     "dataframes": [
      "_sqldf"
     ]
    },
    "pythonIndentUnit": 4
   },
   "notebookName": "Data_Verification_Notebook",
   "widgets": {}
  }
 },
 "nbformat": 4,
 "nbformat_minor": 0
}

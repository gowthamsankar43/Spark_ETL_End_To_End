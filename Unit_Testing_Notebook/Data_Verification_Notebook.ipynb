{
 "cells": [
  {
   "cell_type": "code",
   "execution_count": 0,
   "metadata": {
    "application/vnd.databricks.v1+cell": {
     "cellMetadata": {
      "byteLimit": 2048000,
      "implicitDf": true,
      "rowLimit": 10000
     },
     "inputWidgets": {},
     "nuid": "eeebd3f7-60b8-460d-8b2e-44d6747e509d",
     "showTitle": false,
     "title": ""
    }
   },
   "outputs": [
    {
     "output_type": "display_data",
     "data": {
      "text/html": [
       "<style scoped>\n",
       "  .table-result-container {\n",
       "    max-height: 300px;\n",
       "    overflow: auto;\n",
       "  }\n",
       "  table, th, td {\n",
       "    border: 1px solid black;\n",
       "    border-collapse: collapse;\n",
       "  }\n",
       "  th, td {\n",
       "    padding: 5px;\n",
       "  }\n",
       "  th {\n",
       "    text-align: left;\n",
       "  }\n",
       "</style><div class='table-result-container'><table class='table-result'><thead style='background-color: white'><tr><th>pizza_name</th><th>pizza_id</th><th>total_sales</th><th>Order_Month</th></tr></thead><tbody><tr><td>The Thai Chicken Pizza</td><td>thai_ckn_l</td><td>117</td><td>1</td></tr><tr><td>The Barbecue Chicken Pizza</td><td>bbq_ckn_l</td><td>93</td><td>1</td></tr><tr><td>The California Chicken Pizza</td><td>cali_ckn_m</td><td>86</td><td>1</td></tr><tr><td>The Barbecue Chicken Pizza</td><td>bbq_ckn_m</td><td>76</td><td>1</td></tr><tr><td>The Southwest Chicken Pizza</td><td>southw_ckn_l</td><td>73</td><td>1</td></tr><tr><td>The California Chicken Pizza</td><td>cali_ckn_l</td><td>67</td><td>1</td></tr><tr><td>The Chicken Alfredo Pizza</td><td>ckn_alfredo_m</td><td>64</td><td>1</td></tr><tr><td>The California Chicken Pizza</td><td>cali_ckn_s</td><td>44</td><td>1</td></tr><tr><td>The Thai Chicken Pizza</td><td>thai_ckn_m</td><td>42</td><td>1</td></tr><tr><td>The Thai Chicken Pizza</td><td>thai_ckn_s</td><td>38</td><td>1</td></tr><tr><td>The Barbecue Chicken Pizza</td><td>bbq_ckn_s</td><td>37</td><td>1</td></tr><tr><td>The Chicken Pesto Pizza</td><td>ckn_pesto_l</td><td>37</td><td>1</td></tr><tr><td>The Southwest Chicken Pizza</td><td>southw_ckn_m</td><td>35</td><td>1</td></tr><tr><td>The Southwest Chicken Pizza</td><td>southw_ckn_s</td><td>27</td><td>1</td></tr><tr><td>The Chicken Pesto Pizza</td><td>ckn_pesto_s</td><td>26</td><td>1</td></tr><tr><td>The Chicken Pesto Pizza</td><td>ckn_pesto_m</td><td>13</td><td>1</td></tr><tr><td>The Chicken Alfredo Pizza</td><td>ckn_alfredo_l</td><td>11</td><td>1</td></tr><tr><td>The Chicken Alfredo Pizza</td><td>ckn_alfredo_s</td><td>8</td><td>1</td></tr></tbody></table></div>"
      ]
     },
     "metadata": {
      "application/vnd.databricks.v1+output": {
       "addedWidgets": {},
       "aggData": [],
       "aggError": "",
       "aggOverflow": false,
       "aggSchema": [],
       "aggSeriesLimitReached": false,
       "aggType": "",
       "arguments": {},
       "columnCustomDisplayInfos": {},
       "data": [
        [
         "The Thai Chicken Pizza",
         "thai_ckn_l",
         117,
         1
        ],
        [
         "The Barbecue Chicken Pizza",
         "bbq_ckn_l",
         93,
         1
        ],
        [
         "The California Chicken Pizza",
         "cali_ckn_m",
         86,
         1
        ],
        [
         "The Barbecue Chicken Pizza",
         "bbq_ckn_m",
         76,
         1
        ],
        [
         "The Southwest Chicken Pizza",
         "southw_ckn_l",
         73,
         1
        ],
        [
         "The California Chicken Pizza",
         "cali_ckn_l",
         67,
         1
        ],
        [
         "The Chicken Alfredo Pizza",
         "ckn_alfredo_m",
         64,
         1
        ],
        [
         "The California Chicken Pizza",
         "cali_ckn_s",
         44,
         1
        ],
        [
         "The Thai Chicken Pizza",
         "thai_ckn_m",
         42,
         1
        ],
        [
         "The Thai Chicken Pizza",
         "thai_ckn_s",
         38,
         1
        ],
        [
         "The Barbecue Chicken Pizza",
         "bbq_ckn_s",
         37,
         1
        ],
        [
         "The Chicken Pesto Pizza",
         "ckn_pesto_l",
         37,
         1
        ],
        [
         "The Southwest Chicken Pizza",
         "southw_ckn_m",
         35,
         1
        ],
        [
         "The Southwest Chicken Pizza",
         "southw_ckn_s",
         27,
         1
        ],
        [
         "The Chicken Pesto Pizza",
         "ckn_pesto_s",
         26,
         1
        ],
        [
         "The Chicken Pesto Pizza",
         "ckn_pesto_m",
         13,
         1
        ],
        [
         "The Chicken Alfredo Pizza",
         "ckn_alfredo_l",
         11,
         1
        ],
        [
         "The Chicken Alfredo Pizza",
         "ckn_alfredo_s",
         8,
         1
        ]
       ],
       "datasetInfos": [],
       "dbfsResultPath": null,
       "isJsonSchema": true,
       "metadata": {},
       "overflow": false,
       "plotOptions": {
        "customPlotOptions": {},
        "displayType": "table",
        "pivotAggregation": null,
        "pivotColumns": null,
        "xColumns": null,
        "yColumns": null
       },
       "removedWidgets": [],
       "schema": [
        {
         "metadata": "{}",
         "name": "pizza_name",
         "type": "\"string\""
        },
        {
         "metadata": "{}",
         "name": "pizza_id",
         "type": "\"string\""
        },
        {
         "metadata": "{}",
         "name": "total_sales",
         "type": "\"long\""
        },
        {
         "metadata": "{}",
         "name": "Order_Month",
         "type": "\"integer\""
        }
       ],
       "type": "table"
      }
     },
     "output_type": "display_data"
    }
   ],
   "source": [
    "%sql\n",
    "-- Verifying data with different months, most sold chicken pizza's in each chicken category\n",
    "select a.name as pizza_name,a.pizza_id, a.total_sales, a.Order_Month from( select name,pizza_id ,count(order_id) as total_sales,Order_Month from testing_scenarios where category =\"Chicken\" group by name,pizza_id,Order_Month) a where  Order_Month=1    order by total_sales desc ;\n",
    "        "
   ]
  },
  {
   "cell_type": "code",
   "execution_count": 0,
   "metadata": {
    "application/vnd.databricks.v1+cell": {
     "cellMetadata": {
      "byteLimit": 2048000,
      "implicitDf": true,
      "rowLimit": 10000
     },
     "inputWidgets": {},
     "nuid": "bdd493cd-22d3-4407-8033-74a17011ef11",
     "showTitle": false,
     "title": ""
    }
   },
   "outputs": [
    {
     "output_type": "display_data",
     "data": {
      "text/html": [
       "<style scoped>\n",
       "  .table-result-container {\n",
       "    max-height: 300px;\n",
       "    overflow: auto;\n",
       "  }\n",
       "  table, th, td {\n",
       "    border: 1px solid black;\n",
       "    border-collapse: collapse;\n",
       "  }\n",
       "  th, td {\n",
       "    padding: 5px;\n",
       "  }\n",
       "  th {\n",
       "    text-align: left;\n",
       "  }\n",
       "</style><div class='table-result-container'><table class='table-result'><thead style='background-color: white'><tr><th>pizza_id</th><th>pizza_type_id</th><th>category</th><th>total_sales</th></tr></thead><tbody><tr><td>spicy_ital_m</td><td>spicy_ital</td><td>Supreme</td><td>400</td></tr><tr><td>pepperoni_l</td><td>pepperoni</td><td>Classic</td><td>712</td></tr><tr><td>napolitana_s</td><td>napolitana</td><td>Classic</td><td>468</td></tr><tr><td>cali_ckn_m</td><td>cali_ckn</td><td>Chicken</td><td>914</td></tr><tr><td>thai_ckn_s</td><td>thai_ckn</td><td>Chicken</td><td>476</td></tr><tr><td>ckn_alfredo_l</td><td>ckn_alfredo</td><td>Chicken</td><td>187</td></tr><tr><td>veggie_veg_m</td><td>veggie_veg</td><td>Veggie</td><td>630</td></tr><tr><td>soppressata_l</td><td>soppressata</td><td>Supreme</td><td>401</td></tr><tr><td>the_greek_l</td><td>the_greek</td><td>Classic</td><td>255</td></tr><tr><td>spicy_ital_s</td><td>spicy_ital</td><td>Supreme</td><td>399</td></tr><tr><td>the_greek_xxl</td><td>the_greek</td><td>Classic</td><td>28</td></tr><tr><td>pepperoni_m</td><td>pepperoni</td><td>Classic</td><td>918</td></tr><tr><td>prsc_argla_l</td><td>prsc_argla</td><td>Supreme</td><td>423</td></tr><tr><td>green_garden_s</td><td>green_garden</td><td>Veggie</td><td>593</td></tr><tr><td>soppressata_s</td><td>soppressata</td><td>Supreme</td><td>288</td></tr><tr><td>ckn_pesto_l</td><td>ckn_pesto</td><td>Chicken</td><td>392</td></tr><tr><td>mediterraneo_s</td><td>mediterraneo</td><td>Veggie</td><td>288</td></tr><tr><td>classic_dlx_s</td><td>classic_dlx</td><td>Classic</td><td>786</td></tr><tr><td>ckn_alfredo_s</td><td>ckn_alfredo</td><td>Chicken</td><td>96</td></tr><tr><td>the_greek_s</td><td>the_greek</td><td>Classic</td><td>300</td></tr><tr><td>southw_ckn_m</td><td>southw_ckn</td><td>Chicken</td><td>526</td></tr><tr><td>hawaiian_m</td><td>hawaiian</td><td>Classic</td><td>473</td></tr><tr><td>sicilian_l</td><td>sicilian</td><td>Supreme</td><td>596</td></tr><tr><td>mediterraneo_l</td><td>mediterraneo</td><td>Veggie</td><td>364</td></tr><tr><td>classic_dlx_l</td><td>classic_dlx</td><td>Classic</td><td>471</td></tr><tr><td>ckn_pesto_s</td><td>ckn_pesto</td><td>Chicken</td><td>295</td></tr><tr><td>hawaiian_s</td><td>hawaiian</td><td>Classic</td><td>1001</td></tr><tr><td>calabrese_l</td><td>calabrese</td><td>Supreme</td><td>274</td></tr><tr><td>four_cheese_l</td><td>four_cheese</td><td>Veggie</td><td>1273</td></tr><tr><td>peppr_salami_s</td><td>peppr_salami</td><td>Supreme</td><td>318</td></tr><tr><td>mexicana_l</td><td>mexicana</td><td>Veggie</td><td>844</td></tr><tr><td>southw_ckn_s</td><td>southw_ckn</td><td>Chicken</td><td>366</td></tr><tr><td>spinach_supr_l</td><td>spinach_supr</td><td>Supreme</td><td>280</td></tr><tr><td>veggie_veg_s</td><td>veggie_veg</td><td>Veggie</td><td>457</td></tr><tr><td>spin_pesto_s</td><td>spin_pesto</td><td>Veggie</td><td>397</td></tr><tr><td>the_greek_xl</td><td>the_greek</td><td>Classic</td><td>544</td></tr><tr><td>thai_ckn_m</td><td>thai_ckn</td><td>Chicken</td><td>474</td></tr><tr><td>four_cheese_m</td><td>four_cheese</td><td>Veggie</td><td>577</td></tr><tr><td>prsc_argla_s</td><td>prsc_argla</td><td>Supreme</td><td>420</td></tr><tr><td>five_cheese_l</td><td>five_cheese</td><td>Veggie</td><td>1359</td></tr><tr><td>ital_supr_l</td><td>ital_supr</td><td>Supreme</td><td>735</td></tr><tr><td>sicilian_s</td><td>sicilian</td><td>Supreme</td><td>731</td></tr><tr><td>southw_ckn_l</td><td>southw_ckn</td><td>Chicken</td><td>993</td></tr><tr><td>napolitana_l</td><td>napolitana</td><td>Classic</td><td>557</td></tr><tr><td>big_meat_s</td><td>big_meat</td><td>Classic</td><td>1811</td></tr><tr><td>prsc_argla_m</td><td>prsc_argla</td><td>Supreme</td><td>585</td></tr><tr><td>thai_ckn_l</td><td>thai_ckn</td><td>Chicken</td><td>1365</td></tr><tr><td>napolitana_m</td><td>napolitana</td><td>Classic</td><td>426</td></tr><tr><td>ital_supr_s</td><td>ital_supr</td><td>Supreme</td><td>194</td></tr><tr><td>pepperoni_s</td><td>pepperoni</td><td>Classic</td><td>739</td></tr><tr><td>calabrese_s</td><td>calabrese</td><td>Supreme</td><td>99</td></tr><tr><td>ckn_alfredo_m</td><td>ckn_alfredo</td><td>Chicken</td><td>697</td></tr><tr><td>hawaiian_l</td><td>hawaiian</td><td>Classic</td><td>896</td></tr><tr><td>ital_cpcllo_m</td><td>ital_cpcllo</td><td>Classic</td><td>399</td></tr><tr><td>peppr_salami_m</td><td>peppr_salami</td><td>Supreme</td><td>424</td></tr><tr><td>peppr_salami_l</td><td>peppr_salami</td><td>Supreme</td><td>680</td></tr><tr><td>cali_ckn_l</td><td>cali_ckn</td><td>Chicken</td><td>895</td></tr><tr><td>ital_veggie_s</td><td>ital_veggie</td><td>Veggie</td><td>302</td></tr><tr><td>cali_ckn_s</td><td>cali_ckn</td><td>Chicken</td><td>493</td></tr><tr><td>sicilian_m</td><td>sicilian</td><td>Supreme</td><td>560</td></tr><tr><td>mexicana_s</td><td>mexicana</td><td>Veggie</td><td>160</td></tr><tr><td>green_garden_m</td><td>green_garden</td><td>Veggie</td><td>300</td></tr><tr><td>bbq_ckn_s</td><td>bbq_ckn</td><td>Chicken</td><td>479</td></tr><tr><td>pep_msh_pep_l</td><td>pep_msh_pep</td><td>Classic</td><td>381</td></tr><tr><td>ital_cpcllo_s</td><td>ital_cpcllo</td><td>Classic</td><td>300</td></tr><tr><td>spin_pesto_m</td><td>spin_pesto</td><td>Veggie</td><td>281</td></tr><tr><td>bbq_ckn_l</td><td>bbq_ckn</td><td>Chicken</td><td>967</td></tr><tr><td>veggie_veg_l</td><td>veggie_veg</td><td>Veggie</td><td>423</td></tr><tr><td>ital_veggie_m</td><td>ital_veggie</td><td>Veggie</td><td>483</td></tr><tr><td>spinach_fet_m</td><td>spinach_fet</td><td>Veggie</td><td>558</td></tr><tr><td>pep_msh_pep_m</td><td>pep_msh_pep</td><td>Classic</td><td>391</td></tr><tr><td>ital_veggie_l</td><td>ital_veggie</td><td>Veggie</td><td>190</td></tr><tr><td>ital_supr_m</td><td>ital_supr</td><td>Supreme</td><td>920</td></tr><tr><td>spinach_fet_s</td><td>spinach_fet</td><td>Veggie</td><td>437</td></tr><tr><td>mediterraneo_m</td><td>mediterraneo</td><td>Veggie</td><td>271</td></tr><tr><td>spinach_supr_m</td><td>spinach_supr</td><td>Supreme</td><td>266</td></tr><tr><td>spicy_ital_l</td><td>spicy_ital</td><td>Supreme</td><td>1088</td></tr><tr><td>the_greek_m</td><td>the_greek</td><td>Classic</td><td>279</td></tr><tr><td>green_garden_l</td><td>green_garden</td><td>Veggie</td><td>94</td></tr><tr><td>soppressata_m</td><td>soppressata</td><td>Supreme</td><td>268</td></tr><tr><td>calabrese_m</td><td>calabrese</td><td>Supreme</td><td>554</td></tr><tr><td>spinach_supr_s</td><td>spinach_supr</td><td>Supreme</td><td>394</td></tr><tr><td>spinach_fet_l</td><td>spinach_fet</td><td>Veggie</td><td>437</td></tr><tr><td>spin_pesto_l</td><td>spin_pesto</td><td>Veggie</td><td>279</td></tr><tr><td>mexicana_m</td><td>mexicana</td><td>Veggie</td><td>452</td></tr><tr><td>ital_cpcllo_l</td><td>ital_cpcllo</td><td>Classic</td><td>715</td></tr><tr><td>classic_dlx_m</td><td>classic_dlx</td><td>Classic</td><td>1159</td></tr><tr><td>bbq_ckn_m</td><td>bbq_ckn</td><td>Chicken</td><td>926</td></tr><tr><td>ckn_pesto_m</td><td>ckn_pesto</td><td>Chicken</td><td>274</td></tr><tr><td>pep_msh_pep_s</td><td>pep_msh_pep</td><td>Classic</td><td>570</td></tr><tr><td>brie_carre_s</td><td>brie_carre</td><td>Supreme</td><td>480</td></tr></tbody></table></div>"
      ]
     },
     "metadata": {
      "application/vnd.databricks.v1+output": {
       "addedWidgets": {},
       "aggData": [],
       "aggError": "",
       "aggOverflow": false,
       "aggSchema": [],
       "aggSeriesLimitReached": false,
       "aggType": "",
       "arguments": {},
       "columnCustomDisplayInfos": {},
       "data": [
        [
         "spicy_ital_m",
         "spicy_ital",
         "Supreme",
         400
        ],
        [
         "pepperoni_l",
         "pepperoni",
         "Classic",
         712
        ],
        [
         "napolitana_s",
         "napolitana",
         "Classic",
         468
        ],
        [
         "cali_ckn_m",
         "cali_ckn",
         "Chicken",
         914
        ],
        [
         "thai_ckn_s",
         "thai_ckn",
         "Chicken",
         476
        ],
        [
         "ckn_alfredo_l",
         "ckn_alfredo",
         "Chicken",
         187
        ],
        [
         "veggie_veg_m",
         "veggie_veg",
         "Veggie",
         630
        ],
        [
         "soppressata_l",
         "soppressata",
         "Supreme",
         401
        ],
        [
         "the_greek_l",
         "the_greek",
         "Classic",
         255
        ],
        [
         "spicy_ital_s",
         "spicy_ital",
         "Supreme",
         399
        ],
        [
         "the_greek_xxl",
         "the_greek",
         "Classic",
         28
        ],
        [
         "pepperoni_m",
         "pepperoni",
         "Classic",
         918
        ],
        [
         "prsc_argla_l",
         "prsc_argla",
         "Supreme",
         423
        ],
        [
         "green_garden_s",
         "green_garden",
         "Veggie",
         593
        ],
        [
         "soppressata_s",
         "soppressata",
         "Supreme",
         288
        ],
        [
         "ckn_pesto_l",
         "ckn_pesto",
         "Chicken",
         392
        ],
        [
         "mediterraneo_s",
         "mediterraneo",
         "Veggie",
         288
        ],
        [
         "classic_dlx_s",
         "classic_dlx",
         "Classic",
         786
        ],
        [
         "ckn_alfredo_s",
         "ckn_alfredo",
         "Chicken",
         96
        ],
        [
         "the_greek_s",
         "the_greek",
         "Classic",
         300
        ],
        [
         "southw_ckn_m",
         "southw_ckn",
         "Chicken",
         526
        ],
        [
         "hawaiian_m",
         "hawaiian",
         "Classic",
         473
        ],
        [
         "sicilian_l",
         "sicilian",
         "Supreme",
         596
        ],
        [
         "mediterraneo_l",
         "mediterraneo",
         "Veggie",
         364
        ],
        [
         "classic_dlx_l",
         "classic_dlx",
         "Classic",
         471
        ],
        [
         "ckn_pesto_s",
         "ckn_pesto",
         "Chicken",
         295
        ],
        [
         "hawaiian_s",
         "hawaiian",
         "Classic",
         1001
        ],
        [
         "calabrese_l",
         "calabrese",
         "Supreme",
         274
        ],
        [
         "four_cheese_l",
         "four_cheese",
         "Veggie",
         1273
        ],
        [
         "peppr_salami_s",
         "peppr_salami",
         "Supreme",
         318
        ],
        [
         "mexicana_l",
         "mexicana",
         "Veggie",
         844
        ],
        [
         "southw_ckn_s",
         "southw_ckn",
         "Chicken",
         366
        ],
        [
         "spinach_supr_l",
         "spinach_supr",
         "Supreme",
         280
        ],
        [
         "veggie_veg_s",
         "veggie_veg",
         "Veggie",
         457
        ],
        [
         "spin_pesto_s",
         "spin_pesto",
         "Veggie",
         397
        ],
        [
         "the_greek_xl",
         "the_greek",
         "Classic",
         544
        ],
        [
         "thai_ckn_m",
         "thai_ckn",
         "Chicken",
         474
        ],
        [
         "four_cheese_m",
         "four_cheese",
         "Veggie",
         577
        ],
        [
         "prsc_argla_s",
         "prsc_argla",
         "Supreme",
         420
        ],
        [
         "five_cheese_l",
         "five_cheese",
         "Veggie",
         1359
        ],
        [
         "ital_supr_l",
         "ital_supr",
         "Supreme",
         735
        ],
        [
         "sicilian_s",
         "sicilian",
         "Supreme",
         731
        ],
        [
         "southw_ckn_l",
         "southw_ckn",
         "Chicken",
         993
        ],
        [
         "napolitana_l",
         "napolitana",
         "Classic",
         557
        ],
        [
         "big_meat_s",
         "big_meat",
         "Classic",
         1811
        ],
        [
         "prsc_argla_m",
         "prsc_argla",
         "Supreme",
         585
        ],
        [
         "thai_ckn_l",
         "thai_ckn",
         "Chicken",
         1365
        ],
        [
         "napolitana_m",
         "napolitana",
         "Classic",
         426
        ],
        [
         "ital_supr_s",
         "ital_supr",
         "Supreme",
         194
        ],
        [
         "pepperoni_s",
         "pepperoni",
         "Classic",
         739
        ],
        [
         "calabrese_s",
         "calabrese",
         "Supreme",
         99
        ],
        [
         "ckn_alfredo_m",
         "ckn_alfredo",
         "Chicken",
         697
        ],
        [
         "hawaiian_l",
         "hawaiian",
         "Classic",
         896
        ],
        [
         "ital_cpcllo_m",
         "ital_cpcllo",
         "Classic",
         399
        ],
        [
         "peppr_salami_m",
         "peppr_salami",
         "Supreme",
         424
        ],
        [
         "peppr_salami_l",
         "peppr_salami",
         "Supreme",
         680
        ],
        [
         "cali_ckn_l",
         "cali_ckn",
         "Chicken",
         895
        ],
        [
         "ital_veggie_s",
         "ital_veggie",
         "Veggie",
         302
        ],
        [
         "cali_ckn_s",
         "cali_ckn",
         "Chicken",
         493
        ],
        [
         "sicilian_m",
         "sicilian",
         "Supreme",
         560
        ],
        [
         "mexicana_s",
         "mexicana",
         "Veggie",
         160
        ],
        [
         "green_garden_m",
         "green_garden",
         "Veggie",
         300
        ],
        [
         "bbq_ckn_s",
         "bbq_ckn",
         "Chicken",
         479
        ],
        [
         "pep_msh_pep_l",
         "pep_msh_pep",
         "Classic",
         381
        ],
        [
         "ital_cpcllo_s",
         "ital_cpcllo",
         "Classic",
         300
        ],
        [
         "spin_pesto_m",
         "spin_pesto",
         "Veggie",
         281
        ],
        [
         "bbq_ckn_l",
         "bbq_ckn",
         "Chicken",
         967
        ],
        [
         "veggie_veg_l",
         "veggie_veg",
         "Veggie",
         423
        ],
        [
         "ital_veggie_m",
         "ital_veggie",
         "Veggie",
         483
        ],
        [
         "spinach_fet_m",
         "spinach_fet",
         "Veggie",
         558
        ],
        [
         "pep_msh_pep_m",
         "pep_msh_pep",
         "Classic",
         391
        ],
        [
         "ital_veggie_l",
         "ital_veggie",
         "Veggie",
         190
        ],
        [
         "ital_supr_m",
         "ital_supr",
         "Supreme",
         920
        ],
        [
         "spinach_fet_s",
         "spinach_fet",
         "Veggie",
         437
        ],
        [
         "mediterraneo_m",
         "mediterraneo",
         "Veggie",
         271
        ],
        [
         "spinach_supr_m",
         "spinach_supr",
         "Supreme",
         266
        ],
        [
         "spicy_ital_l",
         "spicy_ital",
         "Supreme",
         1088
        ],
        [
         "the_greek_m",
         "the_greek",
         "Classic",
         279
        ],
        [
         "green_garden_l",
         "green_garden",
         "Veggie",
         94
        ],
        [
         "soppressata_m",
         "soppressata",
         "Supreme",
         268
        ],
        [
         "calabrese_m",
         "calabrese",
         "Supreme",
         554
        ],
        [
         "spinach_supr_s",
         "spinach_supr",
         "Supreme",
         394
        ],
        [
         "spinach_fet_l",
         "spinach_fet",
         "Veggie",
         437
        ],
        [
         "spin_pesto_l",
         "spin_pesto",
         "Veggie",
         279
        ],
        [
         "mexicana_m",
         "mexicana",
         "Veggie",
         452
        ],
        [
         "ital_cpcllo_l",
         "ital_cpcllo",
         "Classic",
         715
        ],
        [
         "classic_dlx_m",
         "classic_dlx",
         "Classic",
         1159
        ],
        [
         "bbq_ckn_m",
         "bbq_ckn",
         "Chicken",
         926
        ],
        [
         "ckn_pesto_m",
         "ckn_pesto",
         "Chicken",
         274
        ],
        [
         "pep_msh_pep_s",
         "pep_msh_pep",
         "Classic",
         570
        ],
        [
         "brie_carre_s",
         "brie_carre",
         "Supreme",
         480
        ]
       ],
       "datasetInfos": [],
       "dbfsResultPath": null,
       "isJsonSchema": true,
       "metadata": {},
       "overflow": false,
       "plotOptions": {
        "customPlotOptions": {},
        "displayType": "table",
        "pivotAggregation": null,
        "pivotColumns": null,
        "xColumns": null,
        "yColumns": null
       },
       "removedWidgets": [],
       "schema": [
        {
         "metadata": "{}",
         "name": "pizza_id",
         "type": "\"string\""
        },
        {
         "metadata": "{}",
         "name": "pizza_type_id",
         "type": "\"string\""
        },
        {
         "metadata": "{}",
         "name": "category",
         "type": "\"string\""
        },
        {
         "metadata": "{}",
         "name": "total_sales",
         "type": "\"long\""
        }
       ],
       "type": "table"
      }
     },
     "output_type": "display_data"
    }
   ],
   "source": [
    "%sql\n",
    "\n",
    "-- verifying most sold pizza overall in every category\n",
    " select pizza_id,pizza_type_id,category,count(order_id) as total_sales from testing_scenarios group by category,pizza_type_id,pizza_id "
   ]
  },
  {
   "cell_type": "code",
   "execution_count": 0,
   "metadata": {
    "application/vnd.databricks.v1+cell": {
     "cellMetadata": {
      "byteLimit": 2048000,
      "implicitDf": true,
      "rowLimit": 10000
     },
     "inputWidgets": {},
     "nuid": "5dc692c3-f300-4a4e-a0be-c10c9831e195",
     "showTitle": false,
     "title": ""
    }
   },
   "outputs": [
    {
     "output_type": "display_data",
     "data": {
      "text/html": [
       "<style scoped>\n",
       "  .table-result-container {\n",
       "    max-height: 300px;\n",
       "    overflow: auto;\n",
       "  }\n",
       "  table, th, td {\n",
       "    border: 1px solid black;\n",
       "    border-collapse: collapse;\n",
       "  }\n",
       "  th, td {\n",
       "    padding: 5px;\n",
       "  }\n",
       "  th {\n",
       "    text-align: left;\n",
       "  }\n",
       "</style><div class='table-result-container'><table class='table-result'><thead style='background-color: white'><tr><th>pizza_id</th><th>count(order_id)</th></tr></thead><tbody><tr><td>ital_supr_s</td><td>6</td></tr><tr><td>peppr_salami_s</td><td>11</td></tr><tr><td>hawaiian_l</td><td>27</td></tr><tr><td>peppr_salami_l</td><td>15</td></tr><tr><td>spinach_fet_s</td><td>8</td></tr><tr><td>classic_dlx_l</td><td>12</td></tr><tr><td>bbq_ckn_l</td><td>34</td></tr><tr><td>spinach_supr_l</td><td>9</td></tr><tr><td>sicilian_l</td><td>11</td></tr><tr><td>peppr_salami_m</td><td>14</td></tr><tr><td>pepperoni_s</td><td>25</td></tr><tr><td>calabrese_s</td><td>1</td></tr><tr><td>mexicana_m</td><td>10</td></tr><tr><td>bbq_ckn_s</td><td>16</td></tr><tr><td>thai_ckn_s</td><td>15</td></tr><tr><td>green_garden_m</td><td>12</td></tr><tr><td>soppressata_s</td><td>9</td></tr><tr><td>pep_msh_pep_l</td><td>14</td></tr><tr><td>ital_supr_l</td><td>22</td></tr><tr><td>soppressata_m</td><td>7</td></tr><tr><td>pep_msh_pep_m</td><td>16</td></tr><tr><td>ckn_pesto_m</td><td>7</td></tr><tr><td>napolitana_s</td><td>10</td></tr><tr><td>veggie_veg_m</td><td>15</td></tr><tr><td>brie_carre_s</td><td>10</td></tr><tr><td>the_greek_xl</td><td>14</td></tr><tr><td>thai_ckn_l</td><td>37</td></tr><tr><td>napolitana_l</td><td>12</td></tr><tr><td>ital_supr_m</td><td>34</td></tr><tr><td>classic_dlx_s</td><td>20</td></tr><tr><td>ital_veggie_m</td><td>10</td></tr><tr><td>calabrese_m</td><td>22</td></tr><tr><td>classic_dlx_m</td><td>34</td></tr><tr><td>bbq_ckn_m</td><td>22</td></tr><tr><td>mediterraneo_m</td><td>3</td></tr><tr><td>five_cheese_l</td><td>36</td></tr><tr><td>pepperoni_m</td><td>20</td></tr><tr><td>southw_ckn_l</td><td>24</td></tr><tr><td>ckn_pesto_l</td><td>16</td></tr><tr><td>veggie_veg_l</td><td>15</td></tr><tr><td>spinach_supr_m</td><td>15</td></tr><tr><td>mexicana_s</td><td>5</td></tr><tr><td>ital_cpcllo_s</td><td>8</td></tr><tr><td>veggie_veg_s</td><td>7</td></tr><tr><td>ital_cpcllo_l</td><td>23</td></tr><tr><td>ckn_pesto_s</td><td>7</td></tr><tr><td>the_greek_xxl</td><td>1</td></tr><tr><td>mediterraneo_s</td><td>12</td></tr><tr><td>calabrese_l</td><td>9</td></tr><tr><td>spin_pesto_s</td><td>19</td></tr><tr><td>spicy_ital_l</td><td>23</td></tr><tr><td>southw_ckn_s</td><td>14</td></tr><tr><td>spinach_fet_l</td><td>7</td></tr><tr><td>cali_ckn_s</td><td>18</td></tr><tr><td>ckn_alfredo_s</td><td>3</td></tr><tr><td>the_greek_l</td><td>6</td></tr><tr><td>ckn_alfredo_m</td><td>26</td></tr><tr><td>mexicana_l</td><td>29</td></tr><tr><td>pepperoni_l</td><td>21</td></tr><tr><td>big_meat_s</td><td>44</td></tr><tr><td>prsc_argla_s</td><td>12</td></tr><tr><td>spicy_ital_s</td><td>9</td></tr><tr><td>pep_msh_pep_s</td><td>15</td></tr><tr><td>the_greek_m</td><td>7</td></tr><tr><td>soppressata_l</td><td>12</td></tr><tr><td>green_garden_s</td><td>13</td></tr><tr><td>sicilian_s</td><td>24</td></tr><tr><td>four_cheese_m</td><td>15</td></tr><tr><td>hawaiian_m</td><td>6</td></tr><tr><td>green_garden_l</td><td>3</td></tr><tr><td>cali_ckn_l</td><td>20</td></tr><tr><td>napolitana_m</td><td>11</td></tr><tr><td>thai_ckn_m</td><td>13</td></tr><tr><td>mediterraneo_l</td><td>10</td></tr><tr><td>ital_cpcllo_m</td><td>9</td></tr><tr><td>ckn_alfredo_l</td><td>4</td></tr><tr><td>spin_pesto_l</td><td>16</td></tr><tr><td>cali_ckn_m</td><td>24</td></tr><tr><td>prsc_argla_l</td><td>8</td></tr><tr><td>spicy_ital_m</td><td>15</td></tr><tr><td>the_greek_s</td><td>12</td></tr><tr><td>spinach_supr_s</td><td>16</td></tr><tr><td>southw_ckn_m</td><td>17</td></tr><tr><td>prsc_argla_m</td><td>21</td></tr><tr><td>sicilian_m</td><td>16</td></tr><tr><td>ital_veggie_s</td><td>8</td></tr><tr><td>spinach_fet_m</td><td>17</td></tr><tr><td>hawaiian_s</td><td>22</td></tr><tr><td>four_cheese_l</td><td>31</td></tr><tr><td>ital_veggie_l</td><td>4</td></tr><tr><td>spin_pesto_m</td><td>8</td></tr></tbody></table></div>"
      ]
     },
     "metadata": {
      "application/vnd.databricks.v1+output": {
       "addedWidgets": {},
       "aggData": [],
       "aggError": "",
       "aggOverflow": false,
       "aggSchema": [],
       "aggSeriesLimitReached": false,
       "aggType": "",
       "arguments": {},
       "columnCustomDisplayInfos": {},
       "data": [
        [
         "ital_supr_s",
         6
        ],
        [
         "peppr_salami_s",
         11
        ],
        [
         "hawaiian_l",
         27
        ],
        [
         "peppr_salami_l",
         15
        ],
        [
         "spinach_fet_s",
         8
        ],
        [
         "classic_dlx_l",
         12
        ],
        [
         "bbq_ckn_l",
         34
        ],
        [
         "spinach_supr_l",
         9
        ],
        [
         "sicilian_l",
         11
        ],
        [
         "peppr_salami_m",
         14
        ],
        [
         "pepperoni_s",
         25
        ],
        [
         "calabrese_s",
         1
        ],
        [
         "mexicana_m",
         10
        ],
        [
         "bbq_ckn_s",
         16
        ],
        [
         "thai_ckn_s",
         15
        ],
        [
         "green_garden_m",
         12
        ],
        [
         "soppressata_s",
         9
        ],
        [
         "pep_msh_pep_l",
         14
        ],
        [
         "ital_supr_l",
         22
        ],
        [
         "soppressata_m",
         7
        ],
        [
         "pep_msh_pep_m",
         16
        ],
        [
         "ckn_pesto_m",
         7
        ],
        [
         "napolitana_s",
         10
        ],
        [
         "veggie_veg_m",
         15
        ],
        [
         "brie_carre_s",
         10
        ],
        [
         "the_greek_xl",
         14
        ],
        [
         "thai_ckn_l",
         37
        ],
        [
         "napolitana_l",
         12
        ],
        [
         "ital_supr_m",
         34
        ],
        [
         "classic_dlx_s",
         20
        ],
        [
         "ital_veggie_m",
         10
        ],
        [
         "calabrese_m",
         22
        ],
        [
         "classic_dlx_m",
         34
        ],
        [
         "bbq_ckn_m",
         22
        ],
        [
         "mediterraneo_m",
         3
        ],
        [
         "five_cheese_l",
         36
        ],
        [
         "pepperoni_m",
         20
        ],
        [
         "southw_ckn_l",
         24
        ],
        [
         "ckn_pesto_l",
         16
        ],
        [
         "veggie_veg_l",
         15
        ],
        [
         "spinach_supr_m",
         15
        ],
        [
         "mexicana_s",
         5
        ],
        [
         "ital_cpcllo_s",
         8
        ],
        [
         "veggie_veg_s",
         7
        ],
        [
         "ital_cpcllo_l",
         23
        ],
        [
         "ckn_pesto_s",
         7
        ],
        [
         "the_greek_xxl",
         1
        ],
        [
         "mediterraneo_s",
         12
        ],
        [
         "calabrese_l",
         9
        ],
        [
         "spin_pesto_s",
         19
        ],
        [
         "spicy_ital_l",
         23
        ],
        [
         "southw_ckn_s",
         14
        ],
        [
         "spinach_fet_l",
         7
        ],
        [
         "cali_ckn_s",
         18
        ],
        [
         "ckn_alfredo_s",
         3
        ],
        [
         "the_greek_l",
         6
        ],
        [
         "ckn_alfredo_m",
         26
        ],
        [
         "mexicana_l",
         29
        ],
        [
         "pepperoni_l",
         21
        ],
        [
         "big_meat_s",
         44
        ],
        [
         "prsc_argla_s",
         12
        ],
        [
         "spicy_ital_s",
         9
        ],
        [
         "pep_msh_pep_s",
         15
        ],
        [
         "the_greek_m",
         7
        ],
        [
         "soppressata_l",
         12
        ],
        [
         "green_garden_s",
         13
        ],
        [
         "sicilian_s",
         24
        ],
        [
         "four_cheese_m",
         15
        ],
        [
         "hawaiian_m",
         6
        ],
        [
         "green_garden_l",
         3
        ],
        [
         "cali_ckn_l",
         20
        ],
        [
         "napolitana_m",
         11
        ],
        [
         "thai_ckn_m",
         13
        ],
        [
         "mediterraneo_l",
         10
        ],
        [
         "ital_cpcllo_m",
         9
        ],
        [
         "ckn_alfredo_l",
         4
        ],
        [
         "spin_pesto_l",
         16
        ],
        [
         "cali_ckn_m",
         24
        ],
        [
         "prsc_argla_l",
         8
        ],
        [
         "spicy_ital_m",
         15
        ],
        [
         "the_greek_s",
         12
        ],
        [
         "spinach_supr_s",
         16
        ],
        [
         "southw_ckn_m",
         17
        ],
        [
         "prsc_argla_m",
         21
        ],
        [
         "sicilian_m",
         16
        ],
        [
         "ital_veggie_s",
         8
        ],
        [
         "spinach_fet_m",
         17
        ],
        [
         "hawaiian_s",
         22
        ],
        [
         "four_cheese_l",
         31
        ],
        [
         "ital_veggie_l",
         4
        ],
        [
         "spin_pesto_m",
         8
        ]
       ],
       "datasetInfos": [],
       "dbfsResultPath": null,
       "isJsonSchema": true,
       "metadata": {},
       "overflow": false,
       "plotOptions": {
        "customPlotOptions": {},
        "displayType": "table",
        "pivotAggregation": null,
        "pivotColumns": null,
        "xColumns": null,
        "yColumns": null
       },
       "removedWidgets": [],
       "schema": [
        {
         "metadata": "{}",
         "name": "pizza_id",
         "type": "\"string\""
        },
        {
         "metadata": "{\"__autoGeneratedAlias\":\"true\"}",
         "name": "count(order_id)",
         "type": "\"long\""
        }
       ],
       "type": "table"
      }
     },
     "output_type": "display_data"
    }
   ],
   "source": [
    "%sql\n",
    "-- Most sold pizza during 10 pm overall \n",
    "\n",
    "select pizza_id,count(order_id) from testing_scenarios where Order_Hour =22 group by pizza_id"
   ]
  },
  {
   "cell_type": "code",
   "execution_count": 0,
   "metadata": {
    "application/vnd.databricks.v1+cell": {
     "cellMetadata": {
      "byteLimit": 2048000,
      "implicitDf": true,
      "rowLimit": 10000
     },
     "inputWidgets": {},
     "nuid": "6b899e85-10c6-4810-a6e8-c38444190e86",
     "showTitle": false,
     "title": ""
    }
   },
   "outputs": [
    {
     "output_type": "display_data",
     "data": {
      "text/html": [
       "<style scoped>\n",
       "  .table-result-container {\n",
       "    max-height: 300px;\n",
       "    overflow: auto;\n",
       "  }\n",
       "  table, th, td {\n",
       "    border: 1px solid black;\n",
       "    border-collapse: collapse;\n",
       "  }\n",
       "  th, td {\n",
       "    padding: 5px;\n",
       "  }\n",
       "  th {\n",
       "    text-align: left;\n",
       "  }\n",
       "</style><div class='table-result-container'><table class='table-result'><thead style='background-color: white'><tr><th>name</th><th>sum((price * quantity))</th></tr></thead><tbody><tr><td>The Barbecue Chicken Pizza</td><td>3953.5</td></tr><tr><td>The Chicken Pesto Pizza</td><td>1379.25</td></tr><tr><td>The Thai Chicken Pizza</td><td>3558.25</td></tr><tr><td>The California Chicken Pizza</td><td>3561.25</td></tr><tr><td>The Chicken Alfredo Pizza</td><td>1439.75</td></tr><tr><td>The Southwest Chicken Pizza</td><td>2860.25</td></tr></tbody></table></div>"
      ]
     },
     "metadata": {
      "application/vnd.databricks.v1+output": {
       "addedWidgets": {},
       "aggData": [],
       "aggError": "",
       "aggOverflow": false,
       "aggSchema": [],
       "aggSeriesLimitReached": false,
       "aggType": "",
       "arguments": {},
       "columnCustomDisplayInfos": {},
       "data": [
        [
         "The Barbecue Chicken Pizza",
         3953.5
        ],
        [
         "The Chicken Pesto Pizza",
         1379.25
        ],
        [
         "The Thai Chicken Pizza",
         3558.25
        ],
        [
         "The California Chicken Pizza",
         3561.25
        ],
        [
         "The Chicken Alfredo Pizza",
         1439.75
        ],
        [
         "The Southwest Chicken Pizza",
         2860.25
        ]
       ],
       "datasetInfos": [],
       "dbfsResultPath": null,
       "isJsonSchema": true,
       "metadata": {},
       "overflow": false,
       "plotOptions": {
        "customPlotOptions": {},
        "displayType": "table",
        "pivotAggregation": null,
        "pivotColumns": null,
        "xColumns": null,
        "yColumns": null
       },
       "removedWidgets": [],
       "schema": [
        {
         "metadata": "{}",
         "name": "name",
         "type": "\"string\""
        },
        {
         "metadata": "{\"__autoGeneratedAlias\":\"true\"}",
         "name": "sum((price * quantity))",
         "type": "\"double\""
        }
       ],
       "type": "table"
      }
     },
     "output_type": "display_data"
    }
   ],
   "source": [
    "%sql\n",
    "-- Total amount of small Pizza sold in every category\n",
    "select  name, sum(price * quantity) from testing_scenarios where Order_Month =5 and category = \"Chicken\" group by name,category"
   ]
  },
  {
   "cell_type": "code",
   "execution_count": 0,
   "metadata": {
    "application/vnd.databricks.v1+cell": {
     "cellMetadata": {
      "byteLimit": 2048000,
      "rowLimit": 10000
     },
     "inputWidgets": {},
     "nuid": "35fdce8c-aeff-46ed-925b-66823bb5cc08",
     "showTitle": false,
     "title": ""
    }
   },
   "outputs": [
    {
     "output_type": "display_data",
     "data": {
      "text/html": [
       "<style scoped>\n",
       "  .table-result-container {\n",
       "    max-height: 300px;\n",
       "    overflow: auto;\n",
       "  }\n",
       "  table, th, td {\n",
       "    border: 1px solid black;\n",
       "    border-collapse: collapse;\n",
       "  }\n",
       "  th, td {\n",
       "    padding: 5px;\n",
       "  }\n",
       "  th {\n",
       "    text-align: left;\n",
       "  }\n",
       "</style><div class='table-result-container'><table class='table-result'><thead style='background-color: white'><tr><th>Pizza_Name</th><th>Total_Sales</th></tr></thead><tbody><tr><td>The Barbecue Chicken Pizza</td><td>3744.5</td></tr><tr><td>The Barbecue Chicken Pizza</td><td>209.0</td></tr><tr><td>The California Chicken Pizza</td><td>3419.25</td></tr><tr><td>The California Chicken Pizza</td><td>142.0</td></tr><tr><td>The Chicken Alfredo Pizza</td><td>1439.75</td></tr><tr><td>The Chicken Pesto Pizza</td><td>1320.25</td></tr><tr><td>The Chicken Pesto Pizza</td><td>59.0</td></tr><tr><td>The Southwest Chicken Pizza</td><td>2777.25</td></tr><tr><td>The Southwest Chicken Pizza</td><td>83.0</td></tr><tr><td>The Thai Chicken Pizza</td><td>62.25</td></tr><tr><td>The Thai Chicken Pizza</td><td>3330.0</td></tr><tr><td>The Thai Chicken Pizza</td><td>166.0</td></tr></tbody></table></div>"
      ]
     },
     "metadata": {
      "application/vnd.databricks.v1+output": {
       "addedWidgets": {},
       "aggData": [],
       "aggError": "",
       "aggOverflow": false,
       "aggSchema": [],
       "aggSeriesLimitReached": false,
       "aggType": "",
       "arguments": {},
       "columnCustomDisplayInfos": {},
       "data": [
        [
         "The Barbecue Chicken Pizza",
         3744.5
        ],
        [
         "The Barbecue Chicken Pizza",
         209.0
        ],
        [
         "The California Chicken Pizza",
         3419.25
        ],
        [
         "The California Chicken Pizza",
         142.0
        ],
        [
         "The Chicken Alfredo Pizza",
         1439.75
        ],
        [
         "The Chicken Pesto Pizza",
         1320.25
        ],
        [
         "The Chicken Pesto Pizza",
         59.0
        ],
        [
         "The Southwest Chicken Pizza",
         2777.25
        ],
        [
         "The Southwest Chicken Pizza",
         83.0
        ],
        [
         "The Thai Chicken Pizza",
         62.25
        ],
        [
         "The Thai Chicken Pizza",
         3330.0
        ],
        [
         "The Thai Chicken Pizza",
         166.0
        ]
       ],
       "datasetInfos": [],
       "dbfsResultPath": null,
       "isJsonSchema": true,
       "metadata": {},
       "overflow": false,
       "plotOptions": {
        "customPlotOptions": {},
        "displayType": "table",
        "pivotAggregation": null,
        "pivotColumns": null,
        "xColumns": null,
        "yColumns": null
       },
       "removedWidgets": [],
       "schema": [
        {
         "metadata": "{}",
         "name": "Pizza_Name",
         "type": "\"string\""
        },
        {
         "metadata": "{}",
         "name": "Total_Sales",
         "type": "\"double\""
        }
       ],
       "type": "table"
      }
     },
     "output_type": "display_data"
    }
   ],
   "source": [
    "from pyspark.sql.functions import *\n",
    "from pyspark.sql.window import *\n",
    "\n",
    "df = spark.sql(\"Select * from testing_scenarios\")\n",
    "\n",
    "a= df.filter((col(\"Order_Month\") == 5) & (col(\"category\") == \"Chicken\"))\\\n",
    "    .groupBy(\"category\",\"Order_Month\",\"name\",\"quantity\")\\\n",
    "    .agg((round(sum(col(\"price\"))* (col(\"quantity\")),2)).alias(\"Total_Sales\"))\\\n",
    "    .selectExpr(\"name AS Pizza_Name\",\"Total_Sales\")\\\n",
    "    .orderBy(\"Pizza_Name\") \n",
    "\n",
    "a.display()"
   ]
  },
  {
   "cell_type": "code",
   "execution_count": 0,
   "metadata": {
    "application/vnd.databricks.v1+cell": {
     "cellMetadata": {
      "byteLimit": 2048000,
      "rowLimit": 10000
     },
     "inputWidgets": {},
     "nuid": "1b2759a0-33cc-4acb-8ff2-74c3a048ac39",
     "showTitle": false,
     "title": ""
    }
   },
   "outputs": [
    {
     "output_type": "display_data",
     "data": {
      "text/plain": [
       "\u001B[0;31m---------------------------------------------------------------------------\u001B[0m\n",
       "\u001B[0;31mAssertionError\u001B[0m                            Traceback (most recent call last)\n",
       "File \u001B[0;32m<command-3773313148084589>:4\u001B[0m\n",
       "\u001B[1;32m      1\u001B[0m \u001B[38;5;28;01mfrom\u001B[39;00m \u001B[38;5;21;01mpyspark\u001B[39;00m\u001B[38;5;21;01m.\u001B[39;00m\u001B[38;5;21;01msql\u001B[39;00m\u001B[38;5;21;01m.\u001B[39;00m\u001B[38;5;21;01mfunctions\u001B[39;00m \u001B[38;5;28;01mimport\u001B[39;00m \u001B[38;5;241m*\u001B[39m\n",
       "\u001B[1;32m      2\u001B[0m \u001B[38;5;28;01mfrom\u001B[39;00m \u001B[38;5;21;01mpyspark\u001B[39;00m\u001B[38;5;21;01m.\u001B[39;00m\u001B[38;5;21;01msql\u001B[39;00m\u001B[38;5;21;01m.\u001B[39;00m\u001B[38;5;21;01mwindow\u001B[39;00m \u001B[38;5;28;01mimport\u001B[39;00m \u001B[38;5;241m*\u001B[39m\n",
       "\u001B[0;32m----> 4\u001B[0m df \u001B[38;5;241m=\u001B[39m df\\\n",
       "\u001B[1;32m      5\u001B[0m     \u001B[38;5;241m.\u001B[39mfilter((col(\u001B[38;5;124m\"\u001B[39m\u001B[38;5;124mOrder_Month\u001B[39m\u001B[38;5;124m\"\u001B[39m) \u001B[38;5;241m==\u001B[39m \u001B[38;5;241m5\u001B[39m) \u001B[38;5;241m&\u001B[39m (col(\u001B[38;5;124m\"\u001B[39m\u001B[38;5;124mcategory\u001B[39m\u001B[38;5;124m\"\u001B[39m) \u001B[38;5;241m==\u001B[39m \u001B[38;5;124m\"\u001B[39m\u001B[38;5;124mChicken\u001B[39m\u001B[38;5;124m\"\u001B[39m))\\\n",
       "\u001B[1;32m      6\u001B[0m     \u001B[38;5;241m.\u001B[39mgroupBy(\u001B[38;5;124m\"\u001B[39m\u001B[38;5;124mcategory\u001B[39m\u001B[38;5;124m\"\u001B[39m,\u001B[38;5;124m\"\u001B[39m\u001B[38;5;124mOrder_Month\u001B[39m\u001B[38;5;124m\"\u001B[39m,\u001B[38;5;124m\"\u001B[39m\u001B[38;5;124mname\u001B[39m\u001B[38;5;124m\"\u001B[39m)\\\n",
       "\u001B[1;32m      7\u001B[0m     \u001B[38;5;241m.\u001B[39magg(\u001B[38;5;28mround\u001B[39m(\u001B[38;5;28msum\u001B[39m(col(\u001B[38;5;124m\"\u001B[39m\u001B[38;5;124mprice\u001B[39m\u001B[38;5;124m\"\u001B[39m))\u001B[38;5;241m*\u001B[39m col(\u001B[38;5;124m\"\u001B[39m\u001B[38;5;124mquantity\u001B[39m\u001B[38;5;124m\"\u001B[39m)),\u001B[38;5;241m2\u001B[39m)\u001B[38;5;241m.\u001B[39malias(\u001B[38;5;124m\"\u001B[39m\u001B[38;5;124mTotal_Sales\u001B[39m\u001B[38;5;124m\"\u001B[39m)\\\n",
       "\u001B[1;32m      8\u001B[0m     \u001B[38;5;241m.\u001B[39mselectExpr(\u001B[38;5;124m\"\u001B[39m\u001B[38;5;124mname AS Pizza_Name\u001B[39m\u001B[38;5;124m\"\u001B[39m,\u001B[38;5;124m\"\u001B[39m\u001B[38;5;124mTotal_Sales\u001B[39m\u001B[38;5;124m\"\u001B[39m)\\\n",
       "\u001B[1;32m      9\u001B[0m     \u001B[38;5;241m.\u001B[39morderBy(\u001B[38;5;124m\"\u001B[39m\u001B[38;5;124mPizza_Name\u001B[39m\u001B[38;5;124m\"\u001B[39m) \n",
       "\u001B[1;32m     11\u001B[0m A\u001B[38;5;241m.\u001B[39mdisplay()\n",
       "\n",
       "File \u001B[0;32m/databricks/spark/python/pyspark/instrumentation_utils.py:48\u001B[0m, in \u001B[0;36m_wrap_function.<locals>.wrapper\u001B[0;34m(*args, **kwargs)\u001B[0m\n",
       "\u001B[1;32m     46\u001B[0m start \u001B[38;5;241m=\u001B[39m time\u001B[38;5;241m.\u001B[39mperf_counter()\n",
       "\u001B[1;32m     47\u001B[0m \u001B[38;5;28;01mtry\u001B[39;00m:\n",
       "\u001B[0;32m---> 48\u001B[0m     res \u001B[38;5;241m=\u001B[39m \u001B[43mfunc\u001B[49m\u001B[43m(\u001B[49m\u001B[38;5;241;43m*\u001B[39;49m\u001B[43margs\u001B[49m\u001B[43m,\u001B[49m\u001B[43m \u001B[49m\u001B[38;5;241;43m*\u001B[39;49m\u001B[38;5;241;43m*\u001B[39;49m\u001B[43mkwargs\u001B[49m\u001B[43m)\u001B[49m\n",
       "\u001B[1;32m     49\u001B[0m     logger\u001B[38;5;241m.\u001B[39mlog_success(\n",
       "\u001B[1;32m     50\u001B[0m         module_name, class_name, function_name, time\u001B[38;5;241m.\u001B[39mperf_counter() \u001B[38;5;241m-\u001B[39m start, signature\n",
       "\u001B[1;32m     51\u001B[0m     )\n",
       "\u001B[1;32m     52\u001B[0m     \u001B[38;5;28;01mreturn\u001B[39;00m res\n",
       "\n",
       "File \u001B[0;32m/databricks/spark/python/pyspark/sql/group.py:175\u001B[0m, in \u001B[0;36mGroupedData.agg\u001B[0;34m(self, *exprs)\u001B[0m\n",
       "\u001B[1;32m    172\u001B[0m     jdf \u001B[38;5;241m=\u001B[39m \u001B[38;5;28mself\u001B[39m\u001B[38;5;241m.\u001B[39m_jgd\u001B[38;5;241m.\u001B[39magg(exprs[\u001B[38;5;241m0\u001B[39m])\n",
       "\u001B[1;32m    173\u001B[0m \u001B[38;5;28;01melse\u001B[39;00m:\n",
       "\u001B[1;32m    174\u001B[0m     \u001B[38;5;66;03m# Columns\u001B[39;00m\n",
       "\u001B[0;32m--> 175\u001B[0m     \u001B[38;5;28;01massert\u001B[39;00m \u001B[38;5;28mall\u001B[39m(\u001B[38;5;28misinstance\u001B[39m(c, Column) \u001B[38;5;28;01mfor\u001B[39;00m c \u001B[38;5;129;01min\u001B[39;00m exprs), \u001B[38;5;124m\"\u001B[39m\u001B[38;5;124mall exprs should be Column\u001B[39m\u001B[38;5;124m\"\u001B[39m\n",
       "\u001B[1;32m    176\u001B[0m     exprs \u001B[38;5;241m=\u001B[39m cast(Tuple[Column, \u001B[38;5;241m.\u001B[39m\u001B[38;5;241m.\u001B[39m\u001B[38;5;241m.\u001B[39m], exprs)\n",
       "\u001B[1;32m    177\u001B[0m     jdf \u001B[38;5;241m=\u001B[39m \u001B[38;5;28mself\u001B[39m\u001B[38;5;241m.\u001B[39m_jgd\u001B[38;5;241m.\u001B[39magg(exprs[\u001B[38;5;241m0\u001B[39m]\u001B[38;5;241m.\u001B[39m_jc, _to_seq(\u001B[38;5;28mself\u001B[39m\u001B[38;5;241m.\u001B[39msession\u001B[38;5;241m.\u001B[39m_sc, [c\u001B[38;5;241m.\u001B[39m_jc \u001B[38;5;28;01mfor\u001B[39;00m c \u001B[38;5;129;01min\u001B[39;00m exprs[\u001B[38;5;241m1\u001B[39m:]]))\n",
       "\n",
       "\u001B[0;31mAssertionError\u001B[0m: all exprs should be Column"
      ]
     },
     "metadata": {
      "application/vnd.databricks.v1+output": {
       "arguments": {},
       "data": "\u001B[0;31m---------------------------------------------------------------------------\u001B[0m\n\u001B[0;31mAssertionError\u001B[0m                            Traceback (most recent call last)\nFile \u001B[0;32m<command-3773313148084589>:4\u001B[0m\n\u001B[1;32m      1\u001B[0m \u001B[38;5;28;01mfrom\u001B[39;00m \u001B[38;5;21;01mpyspark\u001B[39;00m\u001B[38;5;21;01m.\u001B[39;00m\u001B[38;5;21;01msql\u001B[39;00m\u001B[38;5;21;01m.\u001B[39;00m\u001B[38;5;21;01mfunctions\u001B[39;00m \u001B[38;5;28;01mimport\u001B[39;00m \u001B[38;5;241m*\u001B[39m\n\u001B[1;32m      2\u001B[0m \u001B[38;5;28;01mfrom\u001B[39;00m \u001B[38;5;21;01mpyspark\u001B[39;00m\u001B[38;5;21;01m.\u001B[39;00m\u001B[38;5;21;01msql\u001B[39;00m\u001B[38;5;21;01m.\u001B[39;00m\u001B[38;5;21;01mwindow\u001B[39;00m \u001B[38;5;28;01mimport\u001B[39;00m \u001B[38;5;241m*\u001B[39m\n\u001B[0;32m----> 4\u001B[0m df \u001B[38;5;241m=\u001B[39m df\\\n\u001B[1;32m      5\u001B[0m     \u001B[38;5;241m.\u001B[39mfilter((col(\u001B[38;5;124m\"\u001B[39m\u001B[38;5;124mOrder_Month\u001B[39m\u001B[38;5;124m\"\u001B[39m) \u001B[38;5;241m==\u001B[39m \u001B[38;5;241m5\u001B[39m) \u001B[38;5;241m&\u001B[39m (col(\u001B[38;5;124m\"\u001B[39m\u001B[38;5;124mcategory\u001B[39m\u001B[38;5;124m\"\u001B[39m) \u001B[38;5;241m==\u001B[39m \u001B[38;5;124m\"\u001B[39m\u001B[38;5;124mChicken\u001B[39m\u001B[38;5;124m\"\u001B[39m))\\\n\u001B[1;32m      6\u001B[0m     \u001B[38;5;241m.\u001B[39mgroupBy(\u001B[38;5;124m\"\u001B[39m\u001B[38;5;124mcategory\u001B[39m\u001B[38;5;124m\"\u001B[39m,\u001B[38;5;124m\"\u001B[39m\u001B[38;5;124mOrder_Month\u001B[39m\u001B[38;5;124m\"\u001B[39m,\u001B[38;5;124m\"\u001B[39m\u001B[38;5;124mname\u001B[39m\u001B[38;5;124m\"\u001B[39m)\\\n\u001B[1;32m      7\u001B[0m     \u001B[38;5;241m.\u001B[39magg(\u001B[38;5;28mround\u001B[39m(\u001B[38;5;28msum\u001B[39m(col(\u001B[38;5;124m\"\u001B[39m\u001B[38;5;124mprice\u001B[39m\u001B[38;5;124m\"\u001B[39m))\u001B[38;5;241m*\u001B[39m col(\u001B[38;5;124m\"\u001B[39m\u001B[38;5;124mquantity\u001B[39m\u001B[38;5;124m\"\u001B[39m)),\u001B[38;5;241m2\u001B[39m)\u001B[38;5;241m.\u001B[39malias(\u001B[38;5;124m\"\u001B[39m\u001B[38;5;124mTotal_Sales\u001B[39m\u001B[38;5;124m\"\u001B[39m)\\\n\u001B[1;32m      8\u001B[0m     \u001B[38;5;241m.\u001B[39mselectExpr(\u001B[38;5;124m\"\u001B[39m\u001B[38;5;124mname AS Pizza_Name\u001B[39m\u001B[38;5;124m\"\u001B[39m,\u001B[38;5;124m\"\u001B[39m\u001B[38;5;124mTotal_Sales\u001B[39m\u001B[38;5;124m\"\u001B[39m)\\\n\u001B[1;32m      9\u001B[0m     \u001B[38;5;241m.\u001B[39morderBy(\u001B[38;5;124m\"\u001B[39m\u001B[38;5;124mPizza_Name\u001B[39m\u001B[38;5;124m\"\u001B[39m) \n\u001B[1;32m     11\u001B[0m A\u001B[38;5;241m.\u001B[39mdisplay()\n\nFile \u001B[0;32m/databricks/spark/python/pyspark/instrumentation_utils.py:48\u001B[0m, in \u001B[0;36m_wrap_function.<locals>.wrapper\u001B[0;34m(*args, **kwargs)\u001B[0m\n\u001B[1;32m     46\u001B[0m start \u001B[38;5;241m=\u001B[39m time\u001B[38;5;241m.\u001B[39mperf_counter()\n\u001B[1;32m     47\u001B[0m \u001B[38;5;28;01mtry\u001B[39;00m:\n\u001B[0;32m---> 48\u001B[0m     res \u001B[38;5;241m=\u001B[39m \u001B[43mfunc\u001B[49m\u001B[43m(\u001B[49m\u001B[38;5;241;43m*\u001B[39;49m\u001B[43margs\u001B[49m\u001B[43m,\u001B[49m\u001B[43m \u001B[49m\u001B[38;5;241;43m*\u001B[39;49m\u001B[38;5;241;43m*\u001B[39;49m\u001B[43mkwargs\u001B[49m\u001B[43m)\u001B[49m\n\u001B[1;32m     49\u001B[0m     logger\u001B[38;5;241m.\u001B[39mlog_success(\n\u001B[1;32m     50\u001B[0m         module_name, class_name, function_name, time\u001B[38;5;241m.\u001B[39mperf_counter() \u001B[38;5;241m-\u001B[39m start, signature\n\u001B[1;32m     51\u001B[0m     )\n\u001B[1;32m     52\u001B[0m     \u001B[38;5;28;01mreturn\u001B[39;00m res\n\nFile \u001B[0;32m/databricks/spark/python/pyspark/sql/group.py:175\u001B[0m, in \u001B[0;36mGroupedData.agg\u001B[0;34m(self, *exprs)\u001B[0m\n\u001B[1;32m    172\u001B[0m     jdf \u001B[38;5;241m=\u001B[39m \u001B[38;5;28mself\u001B[39m\u001B[38;5;241m.\u001B[39m_jgd\u001B[38;5;241m.\u001B[39magg(exprs[\u001B[38;5;241m0\u001B[39m])\n\u001B[1;32m    173\u001B[0m \u001B[38;5;28;01melse\u001B[39;00m:\n\u001B[1;32m    174\u001B[0m     \u001B[38;5;66;03m# Columns\u001B[39;00m\n\u001B[0;32m--> 175\u001B[0m     \u001B[38;5;28;01massert\u001B[39;00m \u001B[38;5;28mall\u001B[39m(\u001B[38;5;28misinstance\u001B[39m(c, Column) \u001B[38;5;28;01mfor\u001B[39;00m c \u001B[38;5;129;01min\u001B[39;00m exprs), \u001B[38;5;124m\"\u001B[39m\u001B[38;5;124mall exprs should be Column\u001B[39m\u001B[38;5;124m\"\u001B[39m\n\u001B[1;32m    176\u001B[0m     exprs \u001B[38;5;241m=\u001B[39m cast(Tuple[Column, \u001B[38;5;241m.\u001B[39m\u001B[38;5;241m.\u001B[39m\u001B[38;5;241m.\u001B[39m], exprs)\n\u001B[1;32m    177\u001B[0m     jdf \u001B[38;5;241m=\u001B[39m \u001B[38;5;28mself\u001B[39m\u001B[38;5;241m.\u001B[39m_jgd\u001B[38;5;241m.\u001B[39magg(exprs[\u001B[38;5;241m0\u001B[39m]\u001B[38;5;241m.\u001B[39m_jc, _to_seq(\u001B[38;5;28mself\u001B[39m\u001B[38;5;241m.\u001B[39msession\u001B[38;5;241m.\u001B[39m_sc, [c\u001B[38;5;241m.\u001B[39m_jc \u001B[38;5;28;01mfor\u001B[39;00m c \u001B[38;5;129;01min\u001B[39;00m exprs[\u001B[38;5;241m1\u001B[39m:]]))\n\n\u001B[0;31mAssertionError\u001B[0m: all exprs should be Column",
       "errorSummary": "<span class='ansi-red-fg'>AssertionError</span>: all exprs should be Column",
       "errorTraceType": "ansi",
       "metadata": {},
       "type": "ipynbError"
      }
     },
     "output_type": "display_data"
    }
   ],
   "source": [
    "from pyspark.sql.functions import *\n",
    "from pyspark.sql.window import *\n",
    "\n",
    "df = df\\\n",
    "    .filter((col(\"Order_Month\") == 5) & (col(\"category\") == \"Chicken\"))\\\n",
    "    .groupBy(\"category\",\"Order_Month\",\"name\")\\\n",
    "    .agg(round(sum(col(\"price\"))* col(\"quantity\")),2).alias(\"Total_Sales\")\\\n",
    "    .selectExpr(\"name AS Pizza_Name\",\"Total_Sales\")\\\n",
    "    .orderBy(\"Pizza_Name\") \n",
    "\n",
    "A.display()"
   ]
  }
 ],
 "metadata": {
  "application/vnd.databricks.v1+notebook": {
   "dashboards": [],
   "environmentMetadata": null,
   "language": "python",
   "notebookMetadata": {
    "mostRecentlyExecutedCommandWithImplicitDF": {
     "commandId": 1528114323738693,
     "dataframes": [
      "_sqldf"
     ]
    },
    "pythonIndentUnit": 4
   },
   "notebookName": "Data_Verification_Notebook",
   "widgets": {}
  }
 },
 "nbformat": 4,
 "nbformat_minor": 0
}
